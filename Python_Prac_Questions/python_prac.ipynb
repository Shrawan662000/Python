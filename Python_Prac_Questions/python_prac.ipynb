{
 "cells": [
  {
   "cell_type": "code",
   "execution_count": 1,
   "id": "b54ee700",
   "metadata": {},
   "outputs": [
    {
     "name": "stdout",
     "output_type": "stream",
     "text": [
      "[5, 2, 3, 4, 1]\n"
     ]
    }
   ],
   "source": [
    "#Python program to interchange first and last elements in a list\n",
    "ls=[1,2,3,4,5]\n",
    "n=len(ls)\n",
    "x=ls[0]\n",
    "ls[0]=ls[n-1]\n",
    "ls[n-1]=x\n",
    "print(ls)"
   ]
  },
  {
   "cell_type": "code",
   "execution_count": 2,
   "id": "ea4000f4",
   "metadata": {},
   "outputs": [
    {
     "name": "stdout",
     "output_type": "stream",
     "text": [
      "5\n",
      "5\n"
     ]
    }
   ],
   "source": [
    "#ways to find len of list\n",
    "n1=len(ls)\n",
    "print(n1)\n",
    "x=0\n",
    "for i in ls:\n",
    "    x+=1\n",
    "print(x)\n",
    "    "
   ]
  },
  {
   "cell_type": "code",
   "execution_count": 3,
   "id": "13dc47d3",
   "metadata": {},
   "outputs": [
    {
     "name": "stdout",
     "output_type": "stream",
     "text": [
      "x is max\n"
     ]
    }
   ],
   "source": [
    "#Maximum of two numbers in Python\n",
    "x=90\n",
    "y=56\n",
    "if x>y:\n",
    "    print(\"x is max\")\n",
    "else: print(\"y is max\")"
   ]
  },
  {
   "cell_type": "code",
   "execution_count": 4,
   "id": "02ae49f9",
   "metadata": {},
   "outputs": [
    {
     "name": "stdout",
     "output_type": "stream",
     "text": [
      "not exist\n",
      "Element Exists\n"
     ]
    }
   ],
   "source": [
    "#element exists in a list\n",
    "# python code to Check if element exists in list or not\n",
    "\n",
    "lst=[ 1, 6, 3, 5, 3, 4 ]\n",
    "#checking if element 7 is present\n",
    "# in the given list or not\n",
    "i=7\n",
    "# if element present then return\n",
    "# exist otherwise not exist\n",
    "if i in lst:\n",
    "\tprint(\"exist\")\n",
    "else:\n",
    "\tprint(\"not exist\")\n",
    "\n",
    "\n",
    "# Initializing list\n",
    "test_list = [1, 6, 3, 5, 3, 4]\n",
    "\n",
    "# Checking if 4 exists in list\n",
    "for i in test_list:\n",
    "\tif(i == 4):\n",
    "\t\tprint(\"Element Exists\")\n",
    "\n"
   ]
  },
  {
   "cell_type": "code",
   "execution_count": 5,
   "id": "1f6e4204",
   "metadata": {},
   "outputs": [
    {
     "name": "stdout",
     "output_type": "stream",
     "text": [
      "10 is present 3 times\n",
      "\n",
      "\n",
      "8 has occurred 5 times\n"
     ]
    }
   ],
   "source": [
    "#count occurrence \n",
    "#method 1\n",
    "lst = [15, 6, 7, 10, 12, 20, 10, 28, 10]\n",
    "x = 10\n",
    "count=0\n",
    "for i in lst:\n",
    "    if(x==i):\n",
    "        count+=1\n",
    "    else:\n",
    "        continue;\n",
    "print(x, \"is present\", count, \"times\")\n",
    "\n",
    "print(\"\\n\")\n",
    "\n",
    "#method 2 (using count method)\n",
    "# Python code to count the number of occurrences\n",
    "def countX(lst, x):\n",
    "\treturn lst.count(x)\n",
    "\n",
    "\n",
    "# Driver Code\n",
    "lst = [8, 6, 8, 10, 8, 20, 10, 8, 8]\n",
    "x = 8\n",
    "print('{} has occurred {} times'.format(x,\n",
    "\t\t\t\t\t\t\t\t\t\tcountX(lst, x)))\n",
    "\n",
    "    "
   ]
  },
  {
   "cell_type": "code",
   "execution_count": 6,
   "id": "068ade9a",
   "metadata": {},
   "outputs": [
    {
     "name": "stdout",
     "output_type": "stream",
     "text": [
      "3\n"
     ]
    }
   ],
   "source": [
    "#find smallest number in the list\n",
    "lst=[10,23,56,12,3,45,96]\n",
    "min_=lst[0]\n",
    "max_=lst[0]\n",
    "for i in lst:\n",
    "    if(min_<=i):\n",
    "        continue\n",
    "    else:\n",
    "        min_=i\n",
    "print(min_)"
   ]
  },
  {
   "cell_type": "markdown",
   "id": "c565ace2",
   "metadata": {},
   "source": [
    "## questions on strings"
   ]
  },
  {
   "cell_type": "code",
   "execution_count": 7,
   "id": "f747716b",
   "metadata": {},
   "outputs": [
    {
     "name": "stdout",
     "output_type": "stream",
     "text": [
      "m aei haa\n",
      "ya  ra\n"
     ]
    }
   ],
   "source": [
    "# python program to print characters at odd postion and even position\n",
    "s=\"my name is shrawan\"\n",
    "# syntax string[start:end:step]\n",
    "print(s[0: :2])\n",
    "print(s[1::3])"
   ]
  },
  {
   "cell_type": "code",
   "execution_count": 8,
   "id": "36f9ecd0",
   "metadata": {},
   "outputs": [
    {
     "data": {
      "text/plain": [
       "'rsahmyjaim'"
      ]
     },
     "execution_count": 8,
     "metadata": {},
     "output_type": "execute_result"
    }
   ],
   "source": [
    "# program to merge two string chracters alternatively in a single string (when both strings are same length)\n",
    "\n",
    "s1='ramji'\n",
    "s2='shyam'\n",
    "s=[]\n",
    "for i,j in zip(s1,s2):\n",
    "    s.append(i+j)\n",
    "res=''.join(s)\n",
    "res\n"
   ]
  },
  {
   "cell_type": "code",
   "execution_count": 9,
   "id": "a95934a0",
   "metadata": {},
   "outputs": [
    {
     "name": "stdout",
     "output_type": "stream",
     "text": [
      "s1 is short\n"
     ]
    },
    {
     "data": {
      "text/plain": [
       "'rsahmyjaimji'"
      ]
     },
     "execution_count": 9,
     "metadata": {},
     "output_type": "execute_result"
    }
   ],
   "source": [
    "# program to merge two string chracters alternatively in a single string (when both strings are not same length)\n",
    "\n",
    "s1='ramji'\n",
    "s2='shyamji'\n",
    "n1=len(s1)\n",
    "n2=len(s2)\n",
    "#check for short length string\n",
    "if n1<n2:\n",
    "    print(\"s1 is short\")\n",
    "    n=n1\n",
    "    st=s2\n",
    "    last=n2\n",
    "else:\n",
    "    print(\"s2 is short\")\n",
    "    n=n2\n",
    "    st=s1\n",
    "    last=n1\n",
    "\n",
    "s=[]\n",
    "for i,j in zip(s1,s2):\n",
    "    s.append(i+j)\n",
    "# now append remainig part of large one string\n",
    "while n<last:\n",
    "    s.append(st[n])\n",
    "    n+=1\n",
    "    \n",
    "res=''.join(s)\n",
    "res\n",
    "\n"
   ]
  },
  {
   "cell_type": "code",
   "execution_count": 10,
   "id": "8a338a3d",
   "metadata": {},
   "outputs": [
    {
     "data": {
      "text/plain": [
       "'aaaabbbcc'"
      ]
     },
     "execution_count": 10,
     "metadata": {},
     "output_type": "execute_result"
    }
   ],
   "source": [
    "# write a program for following output\n",
    "# input: a4b3c2\n",
    "# output: aaaabbbcc\n",
    "\n",
    "s='a4b3c2'\n",
    "s1=s[1::2]\n",
    "s2=s[0::2]\n",
    "ls=[]\n",
    "for  i,j in zip(s1, s2):\n",
    "    ls.append(j*int(i))\n",
    "res=''.join(ls)\n",
    "res"
   ]
  },
  {
   "cell_type": "code",
   "execution_count": 11,
   "id": "4c68f143",
   "metadata": {},
   "outputs": [
    {
     "name": "stdout",
     "output_type": "stream",
     "text": [
      "enter the umbers :12\n",
      "enter the umbers :32\n",
      "enter the umbers :23\n",
      "SO JAo\n"
     ]
    }
   ],
   "source": [
    "#program to find graestest of 3 numbers\n",
    "n1=int(input(\"enter the umbers :\"))\n",
    "n2=int(input(\"enter the umbers :\"))\n",
    "n3=int(input(\"enter the umbers :\"))\n",
    "if(n1>n2 and n2>n3):\n",
    "    print(\" n1 is graetest\")\n",
    "elif(n2>n1 and n1>n3):\n",
    "    print(\" n2 is greatest\")\n",
    "elif(n3>n1 and n1>n2):\n",
    "    printf(\"n3 is greatest\")\n",
    "else:\n",
    "    print(\"SO JAo\")"
   ]
  },
  {
   "cell_type": "code",
   "execution_count": 14,
   "id": "592a41c1",
   "metadata": {},
   "outputs": [
    {
     "name": "stdout",
     "output_type": "stream",
     "text": [
      "19\n"
     ]
    }
   ],
   "source": [
    "# program to sum of digit\n",
    "n=123445\n",
    "sum=0\n",
    "while n>0:\n",
    "    r=n%10\n",
    "    sum+=r;\n",
    "    n=n//10\n",
    "\n",
    "print(sum)"
   ]
  },
  {
   "cell_type": "code",
   "execution_count": null,
   "id": "90172105",
   "metadata": {},
   "outputs": [],
   "source": []
  }
 ],
 "metadata": {
  "kernelspec": {
   "display_name": "Python 3 (ipykernel)",
   "language": "python",
   "name": "python3"
  },
  "language_info": {
   "codemirror_mode": {
    "name": "ipython",
    "version": 3
   },
   "file_extension": ".py",
   "mimetype": "text/x-python",
   "name": "python",
   "nbconvert_exporter": "python",
   "pygments_lexer": "ipython3",
   "version": "3.9.12"
  }
 },
 "nbformat": 4,
 "nbformat_minor": 5
}
