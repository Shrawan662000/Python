{
 "cells": [
  {
   "cell_type": "code",
   "execution_count": null,
   "id": "b54ee700",
   "metadata": {},
   "outputs": [
    {
     "name": "stdout",
     "output_type": "stream",
     "text": [
      "[5, 2, 3, 4, 1]\n"
     ]
    }
   ],
   "source": [
    "#Python program to interchange first and last elements in a list\n",
    "ls=[1,2,3,4,5]\n",
    "n=len(ls)\n",
    "x=ls[0]\n",
    "ls[0]=ls[n-1]\n",
    "ls[n-1]=x\n",
    "print(ls)"
   ]
  },
  {
   "cell_type": "markdown",
   "id": "d7ad8c69",
   "metadata": {},
   "source": [
    "#### Without using 3rd variable"
   ]
  },
  {
   "cell_type": "code",
   "execution_count": 3,
   "id": "c2b374d3",
   "metadata": {},
   "outputs": [
    {
     "name": "stdout",
     "output_type": "stream",
     "text": [
      "Before swap: [1, 2, 3, 4, 5]\n",
      "After swap: [5, 2, 3, 4, 1]\n"
     ]
    }
   ],
   "source": [
    "# Function to interchange first and last elements\n",
    "def swap_first_last(lst):\n",
    "    if len(lst) > 1:\n",
    "        lst[0], lst[-1] = lst[-1], lst[0]  # Swap using tuple unpacking\n",
    "    return lst\n",
    "\n",
    "# Example usage\n",
    "my_list = [1, 2, 3, 4, 5]\n",
    "print(\"Before swap:\", my_list)\n",
    "\n",
    "my_list = swap_first_last(my_list)\n",
    "print(\"After swap:\", my_list)\n"
   ]
  },
  {
   "cell_type": "code",
   "execution_count": 2,
   "id": "ea4000f4",
   "metadata": {},
   "outputs": [
    {
     "name": "stdout",
     "output_type": "stream",
     "text": [
      "5\n",
      "5\n"
     ]
    }
   ],
   "source": [
    "#ways to find len of list\n",
    "n1=len(ls)\n",
    "print(n1)\n",
    "x=0\n",
    "for i in ls:\n",
    "    x+=1\n",
    "print(x)\n",
    "    "
   ]
  },
  {
   "cell_type": "code",
   "execution_count": 3,
   "id": "13dc47d3",
   "metadata": {},
   "outputs": [
    {
     "name": "stdout",
     "output_type": "stream",
     "text": [
      "x is max\n"
     ]
    }
   ],
   "source": [
    "#Maximum of two numbers in Python\n",
    "x=90\n",
    "y=56\n",
    "if x>y:\n",
    "    print(\"x is max\")\n",
    "else: print(\"y is max\")"
   ]
  },
  {
   "cell_type": "code",
   "execution_count": 4,
   "id": "02ae49f9",
   "metadata": {},
   "outputs": [
    {
     "name": "stdout",
     "output_type": "stream",
     "text": [
      "not exist\n",
      "Element Exists\n"
     ]
    }
   ],
   "source": [
    "#element exists in a list\n",
    "# python code to Check if element exists in list or not\n",
    "\n",
    "lst=[ 1, 6, 3, 5, 3, 4 ]\n",
    "#checking if element 7 is present\n",
    "# in the given list or not\n",
    "i=7\n",
    "# if element present then return\n",
    "# exist otherwise not exist\n",
    "if i in lst:\n",
    "\tprint(\"exist\")\n",
    "else:\n",
    "\tprint(\"not exist\")\n",
    "\n",
    "\n",
    "# Initializing list\n",
    "test_list = [1, 6, 3, 5, 3, 4]\n",
    "\n",
    "# Checking if 4 exists in list\n",
    "for i in test_list:\n",
    "\tif(i == 4):\n",
    "\t\tprint(\"Element Exists\")\n",
    "\n"
   ]
  },
  {
   "cell_type": "code",
   "execution_count": 5,
   "id": "1f6e4204",
   "metadata": {},
   "outputs": [
    {
     "name": "stdout",
     "output_type": "stream",
     "text": [
      "10 is present 3 times\n",
      "\n",
      "\n",
      "8 has occurred 5 times\n"
     ]
    }
   ],
   "source": [
    "#count occurrence \n",
    "#method 1\n",
    "lst = [15, 6, 7, 10, 12, 20, 10, 28, 10]\n",
    "x = 10\n",
    "count=0\n",
    "for i in lst:\n",
    "    if(x==i):\n",
    "        count+=1\n",
    "    else:\n",
    "        continue;\n",
    "print(x, \"is present\", count, \"times\")\n",
    "\n",
    "print(\"\\n\")\n",
    "\n",
    "#method 2 (using count method)\n",
    "# Python code to count the number of occurrences\n",
    "def countX(lst, x):\n",
    "\treturn lst.count(x)\n",
    "\n",
    "\n",
    "# Driver Code\n",
    "lst = [8, 6, 8, 10, 8, 20, 10, 8, 8]\n",
    "x = 8\n",
    "print('{} has occurred {} times'.format(x,\n",
    "\t\t\t\t\t\t\t\t\t\tcountX(lst, x)))\n",
    "\n",
    "    "
   ]
  },
  {
   "cell_type": "markdown",
   "id": "e23fbd8f",
   "metadata": {},
   "source": [
    "#### python program to count the duplicate in a list\n",
    "##### Method-01 : using counter() function, it will return a dict with frequency of occuring for each element"
   ]
  },
  {
   "cell_type": "code",
   "execution_count": 1,
   "id": "9576dc70",
   "metadata": {},
   "outputs": [
    {
     "name": "stdout",
     "output_type": "stream",
     "text": [
      "Counter({1: 3, 2: 2, 3: 1, 4: 1, 5: 1, 6: 1, 7: 1, 8: 1})\n",
      "Duplicate elements and their counts:\n",
      "1: 3\n",
      "2: 2\n"
     ]
    }
   ],
   "source": [
    "from collections import Counter\n",
    "\n",
    "def count_duplicates(input_list):\n",
    "    # Count occurrences of each element in the list\n",
    "    element_counts = Counter(input_list)\n",
    "    print(element_counts)\n",
    "    # Filter out elements that occur only once\n",
    "    duplicates = {key: value for key, value in element_counts.items() if value > 1}\n",
    "    return duplicates\n",
    "\n",
    "# Example usage\n",
    "input_list = [1, 2, 3, 2, 4, 5, 6, 1, 7, 8, 1]\n",
    "duplicates = count_duplicates(input_list)\n",
    "\n",
    "print(\"Duplicate elements and their counts:\")\n",
    "for element, count in duplicates.items():\n",
    "    print(f\"{element}: {count}\")\n"
   ]
  },
  {
   "cell_type": "markdown",
   "id": "9b7a81eb",
   "metadata": {},
   "source": [
    "##### Total Time Complexity:\n",
    "The overall time complexity of the program is O(n), as the dominant step is iterating through the input list to count elements.\n",
    "\n",
    "##### Space Complexity:\n",
    "\n",
    "The Counter object stores the frequency of each unique element, which requires O(k) space, where k is the number of unique elements.\n",
    "\n",
    "In the worst case, when all elements are unique, the space complexity is O(n).\n",
    "\n",
    "Thus:\n",
    "\n",
    "Time Complexity: O(n)\n",
    "\n",
    "Space Complexity: O(n)"
   ]
  },
  {
   "cell_type": "markdown",
   "id": "b2f39abb",
   "metadata": {},
   "source": [
    "##### Method-02 ( most preferred)\n",
    "This method uses a dictionary to track occurrences manually\n"
   ]
  },
  {
   "cell_type": "code",
   "execution_count": 2,
   "id": "48f04d69",
   "metadata": {},
   "outputs": [
    {
     "name": "stdout",
     "output_type": "stream",
     "text": [
      "Duplicate elements and their counts:\n",
      "1: 3\n",
      "2: 2\n"
     ]
    }
   ],
   "source": [
    "def count_duplicates(input_list):\n",
    "    # Dictionary to store counts of each element\n",
    "    element_counts = {}\n",
    "    for element in input_list:\n",
    "        # Increment count if the element exists, else initialize to 1\n",
    "        element_counts[element] = element_counts.get(element, 0) + 1\n",
    "    \n",
    "    # Filter out elements with a count greater than 1\n",
    "    duplicates = {key: value for key, value in element_counts.items() if value > 1}\n",
    "    return duplicates\n",
    "\n",
    "# Example usage\n",
    "input_list = [1, 2, 3, 2, 4, 5, 6, 1, 7, 8, 1]\n",
    "duplicates = count_duplicates(input_list)\n",
    "\n",
    "print(\"Duplicate elements and their counts:\")\n",
    "for element, count in duplicates.items():\n",
    "    print(f\"{element}: {count}\")\n"
   ]
  },
  {
   "cell_type": "markdown",
   "id": "99473048",
   "metadata": {},
   "source": [
    "##### same like method-02"
   ]
  },
  {
   "cell_type": "code",
   "execution_count": 3,
   "id": "31f47507",
   "metadata": {},
   "outputs": [
    {
     "name": "stdout",
     "output_type": "stream",
     "text": [
      "Duplicate elements and their counts:\n",
      "1: 3\n",
      "2: 2\n"
     ]
    }
   ],
   "source": [
    "def count_duplicates(input_list):\n",
    "    # Dictionary to store counts of each element\n",
    "    element_counts = {}\n",
    "    \n",
    "    for element in input_list:\n",
    "        if element in element_counts:\n",
    "            # Increment the count if the element already exists\n",
    "            element_counts[element] += 1\n",
    "        else:\n",
    "            # Initialize the count to 1 if the element is not in the dictionary\n",
    "            element_counts[element] = 1\n",
    "    \n",
    "    # Filter out elements with a count greater than 1 (duplicates)\n",
    "    duplicates = {key: value for key, value in element_counts.items() if value > 1}\n",
    "    return duplicates\n",
    "\n",
    "# Example usage\n",
    "input_list = [1, 2, 3, 2, 4, 5, 6, 1, 7, 8, 1]\n",
    "duplicates = count_duplicates(input_list)\n",
    "\n",
    "print(\"Duplicate elements and their counts:\")\n",
    "for element, count in duplicates.items():\n",
    "    print(f\"{element}: {count}\")\n"
   ]
  },
  {
   "cell_type": "markdown",
   "id": "f737dd87",
   "metadata": {},
   "source": [
    "##### Time Complexity: O(n)\n",
    "Space Complexity: O(n)"
   ]
  },
  {
   "cell_type": "code",
   "execution_count": 6,
   "id": "068ade9a",
   "metadata": {},
   "outputs": [
    {
     "name": "stdout",
     "output_type": "stream",
     "text": [
      "3\n"
     ]
    }
   ],
   "source": [
    "#find smallest number in the list\n",
    "lst=[10,23,56,12,3,45,96]\n",
    "min_=lst[0]\n",
    "max_=lst[0]\n",
    "for i in lst:\n",
    "    if(min_<=i):\n",
    "        continue\n",
    "    else:\n",
    "        min_=i\n",
    "print(min_)"
   ]
  },
  {
   "cell_type": "markdown",
   "id": "c565ace2",
   "metadata": {},
   "source": [
    "## questions on strings"
   ]
  },
  {
   "cell_type": "code",
   "execution_count": 7,
   "id": "f747716b",
   "metadata": {},
   "outputs": [
    {
     "name": "stdout",
     "output_type": "stream",
     "text": [
      "m aei haa\n",
      "ya  ra\n"
     ]
    }
   ],
   "source": [
    "# python program to print characters at odd postion and even position\n",
    "s=\"my name is shrawan\"\n",
    "# syntax string[start:end:step]\n",
    "print(s[0: :2])\n",
    "print(s[1::3])"
   ]
  },
  {
   "cell_type": "code",
   "execution_count": 8,
   "id": "36f9ecd0",
   "metadata": {},
   "outputs": [
    {
     "data": {
      "text/plain": [
       "'rsahmyjaim'"
      ]
     },
     "execution_count": 8,
     "metadata": {},
     "output_type": "execute_result"
    }
   ],
   "source": [
    "# program to merge two string chracters alternatively in a single string (when both strings are same length)\n",
    "\n",
    "s1='ramji'\n",
    "s2='shyam'\n",
    "s=[]\n",
    "for i,j in zip(s1,s2):\n",
    "    s.append(i+j)\n",
    "res=''.join(s)\n",
    "res\n"
   ]
  },
  {
   "cell_type": "code",
   "execution_count": 9,
   "id": "a95934a0",
   "metadata": {},
   "outputs": [
    {
     "name": "stdout",
     "output_type": "stream",
     "text": [
      "s1 is short\n"
     ]
    },
    {
     "data": {
      "text/plain": [
       "'rsahmyjaimji'"
      ]
     },
     "execution_count": 9,
     "metadata": {},
     "output_type": "execute_result"
    }
   ],
   "source": [
    "# program to merge two string chracters alternatively in a single string (when both strings are not same length)\n",
    "\n",
    "s1='ramji'\n",
    "s2='shyamji'\n",
    "n1=len(s1)\n",
    "n2=len(s2)\n",
    "#check for short length string\n",
    "if n1<n2:\n",
    "    print(\"s1 is short\")\n",
    "    n=n1\n",
    "    st=s2\n",
    "    last=n2\n",
    "else:\n",
    "    print(\"s2 is short\")\n",
    "    n=n2\n",
    "    st=s1\n",
    "    last=n1\n",
    "\n",
    "s=[]\n",
    "for i,j in zip(s1,s2):\n",
    "    s.append(i+j)\n",
    "# now append remainig part of large one string\n",
    "while n<last:\n",
    "    s.append(st[n])\n",
    "    n+=1\n",
    "    \n",
    "res=''.join(s)\n",
    "res\n",
    "\n"
   ]
  },
  {
   "cell_type": "code",
   "execution_count": 10,
   "id": "8a338a3d",
   "metadata": {},
   "outputs": [
    {
     "data": {
      "text/plain": [
       "'aaaabbbcc'"
      ]
     },
     "execution_count": 10,
     "metadata": {},
     "output_type": "execute_result"
    }
   ],
   "source": [
    "# write a program for following output\n",
    "# input: a4b3c2\n",
    "# output: aaaabbbcc\n",
    "\n",
    "s='a4b3c2'\n",
    "s1=s[1::2]\n",
    "s2=s[0::2]\n",
    "ls=[]\n",
    "for  i,j in zip(s1, s2):\n",
    "    ls.append(j*int(i))\n",
    "res=''.join(ls)\n",
    "res"
   ]
  },
  {
   "cell_type": "code",
   "execution_count": 4,
   "id": "4c68f143",
   "metadata": {},
   "outputs": [
    {
     "name": "stdout",
     "output_type": "stream",
     "text": [
      " n2 is greatest\n"
     ]
    }
   ],
   "source": [
    "#program to find graestest of 3 numbers\n",
    "n1=int(input(\"enter the umbers :\"))\n",
    "n2=int(input(\"enter the umbers :\"))\n",
    "n3=int(input(\"enter the umbers :\"))\n",
    "if(n1>+n2 and n2>=n3):\n",
    "    print(\" n1 is graetest\")\n",
    "elif(n2>=n1 and n1>=n3):\n",
    "    print(\" n2 is greatest\")\n",
    "elif(n3>=n1 and n1>=n2):\n",
    "    print(\"n3 is greatest\")\n",
    "else:\n",
    "    print(\"SO JAo\")"
   ]
  },
  {
   "cell_type": "code",
   "execution_count": 14,
   "id": "592a41c1",
   "metadata": {},
   "outputs": [
    {
     "name": "stdout",
     "output_type": "stream",
     "text": [
      "19\n"
     ]
    }
   ],
   "source": [
    "# program to sum of digit\n",
    "n=123445\n",
    "sum=0\n",
    "while n>0:\n",
    "    r=n%10\n",
    "    sum+=r;\n",
    "    n=n//10\n",
    "\n",
    "print(sum)"
   ]
  },
  {
   "cell_type": "markdown",
   "id": "1f53e597",
   "metadata": {},
   "source": [
    "### Strings\n",
    "Write a Python function to count the number of vowels and consonants in a given string.\n",
    "\n",
    "Given two strings, check if one string is a rotation of the other. \n",
    "\n",
    "Write a program to reverse the words in a string without reversing the individual words.\n",
    "\n",
    "Check if a string is a palindrome, ignoring spaces and case.\n",
    "\n",
    "Find the first non-repeating character in a string.\n",
    "\n",
    "\n",
    "Write a function to check if two strings are anagrams of each other.\n",
    "\n",
    "Replace all duplicate characters in a string with a specified character.\n",
    "\n",
    "\n",
    "Given a string, find the longest substring with unique characters.\n",
    "\n",
    "Write a function to find all substrings of a given string.\n",
    "\n",
    "Given a string, return the count of substrings that are palindromes.\n",
    "\n",
    "Implement a program to remove all characters from a string except for letters and numbers.\n",
    "\n",
    "Check if one string can be formed by rearranging another string and adding exactly one character. \n",
    "\n",
    "Write a program to compress a string using the counts of repeated characters (e.g., \"aaabb\" becomes \"a3b2\").\n",
    "\n",
    "Split a camel-case string into words (e.g., \"thisIsCamelCase\" becomes \"this Is Camel Case\").\n",
    "\n",
    "Find the most frequently occurring character in a string.\n",
    "\n",
    "Given a string of words, find the length of the shortest word.\n",
    "\n",
    "Write a program to check if a string contains balanced parentheses.\n",
    "\n",
    "Rotate a string n times to the left or right based on user input.\n",
    "\n",
    "Write a function to convert a string to title case without using Python's title() function.\n",
    "\n",
    "Count the occurrences of a given substring in a string without overlapping matches."
   ]
  },
  {
   "cell_type": "markdown",
   "id": "e9e92325",
   "metadata": {},
   "source": [
    "#### 1. Print even length word in string"
   ]
  },
  {
   "cell_type": "code",
   "execution_count": 9,
   "id": "2d12e8aa",
   "metadata": {},
   "outputs": [],
   "source": [
    "def word_len(x):\n",
    "    c=0\n",
    "    for i in x:\n",
    "        c+=1\n",
    "    return c"
   ]
  },
  {
   "cell_type": "code",
   "execution_count": 4,
   "id": "a3853514",
   "metadata": {},
   "outputs": [],
   "source": [
    "x, y=[int(x) for x in input(\"enter the num:\").split(' ')]"
   ]
  },
  {
   "cell_type": "code",
   "execution_count": 8,
   "id": "90172105",
   "metadata": {},
   "outputs": [
    {
     "name": "stdout",
     "output_type": "stream",
     "text": [
      "ritesh\n",
      "ai\n",
      "at\n",
      "inotecoh\n",
      "in\n",
      "having\n",
      "of\n",
      "exp.\n"
     ]
    }
   ],
   "source": [
    "st='ritesh jatin and shrawan are ai engineers at sag inotecoh limited in jaipur, having 3 years of exp.'\n",
    "st_ls=st.split()\n",
    "res=[x for x in st_ls if word_len(x)%2==0]\n",
    "for i in res:\n",
    "    print(i)\n"
   ]
  },
  {
   "cell_type": "markdown",
   "id": "2426dda8",
   "metadata": {},
   "source": [
    "#### 2. Palindrome String\n",
    "\n",
    "You are given a string s. Your task is to determine if the string is a palindrome. A string is considered a palindrome if it reads the same forwards and backwards."
   ]
  },
  {
   "cell_type": "code",
   "execution_count": 11,
   "id": "f46fb7f8",
   "metadata": {},
   "outputs": [
    {
     "name": "stdout",
     "output_type": "stream",
     "text": [
      "No\n"
     ]
    }
   ],
   "source": [
    "x=\"abbga\"\n",
    "if x==x[::-1]:\n",
    "    print(\"yes\")\n",
    "else:\n",
    "    print(\"No\")"
   ]
  },
  {
   "cell_type": "markdown",
   "id": "f395256e",
   "metadata": {},
   "source": [
    "#### 3. Write a Python function to count the number of vowels and consonants in a given string"
   ]
  },
  {
   "cell_type": "code",
   "execution_count": 17,
   "id": "9a53d821",
   "metadata": {},
   "outputs": [
    {
     "name": "stdout",
     "output_type": "stream",
     "text": [
      "No of vowels is : 34\n",
      "No of consonants is : 63\n"
     ]
    }
   ],
   "source": [
    "st='ritesh jatin and shrawan are ai engineers at sag inotecoh limited in jaipur, having 3 years of exp.'\n",
    "word_otherthan_vowel_conso=',.'   ## you can include acc to u\n",
    "\n",
    "\n",
    "for char in word_otherthan_vowel_conso:\n",
    "    st = st.replace(char, '')\n",
    "# print(len(st))\n",
    "\n",
    "vowles=['a', 'e', 'i', 'o', 'u']\n",
    "c=0\n",
    "for s in st:\n",
    "    if s in vowles:\n",
    "        c+=1\n",
    "\n",
    "print(f\"No of vowels is : {c}\\nNo of consonants is : {len(st)-c}\")"
   ]
  },
  {
   "cell_type": "markdown",
   "id": "7d4d8411",
   "metadata": {},
   "source": [
    "#### 4. Given a string, find the longest substring with unique characters."
   ]
  },
  {
   "cell_type": "markdown",
   "id": "26440fe3",
   "metadata": {},
   "source": [
    "#####  Method-01"
   ]
  },
  {
   "cell_type": "code",
   "execution_count": null,
   "id": "c46f16dc",
   "metadata": {},
   "outputs": [
    {
     "name": "stdout",
     "output_type": "stream",
     "text": [
      "abcdefg\n",
      "jaipur,\n"
     ]
    }
   ],
   "source": [
    "st='ritesh jatin and shrawan are ai engineers at sag abcdefg inotecoh limited in jaipur, having 3 years of exp.'\n",
    "counts=[]\n",
    "stri=[]\n",
    "ls_st=st.split()\n",
    "for s in ls_st:\n",
    "    x=len(set(list(s)))\n",
    "    if len(s)==x:\n",
    "        counts.append(x)\n",
    "        stri.append(s)\n",
    "uni_subs=[]\n",
    "for i in range(len(counts)):\n",
    "    if counts[i]==max(counts):\n",
    "        uni_subs.append(stri[i])\n",
    "\n",
    "for i in uni_subs:\n",
    "    print(i)\n"
   ]
  },
  {
   "cell_type": "markdown",
   "id": "f07d8ea8",
   "metadata": {},
   "source": [
    "##### Method-02 : using dict()"
   ]
  },
  {
   "cell_type": "code",
   "execution_count": 63,
   "id": "dabeb123",
   "metadata": {},
   "outputs": [
    {
     "name": "stdout",
     "output_type": "stream",
     "text": [
      "abcdefg\n",
      "jaipur,\n"
     ]
    }
   ],
   "source": [
    "st='ritesh jatin and shrawan are ai engineers at sag inotecoh limited in abcdefg jaipur,  having 3 years of muthhi exp.'\n",
    "res={}\n",
    "ls_st=st.split()\n",
    "for s in ls_st:\n",
    "    x=len(set(list(s)))\n",
    "    if len(s)==x:\n",
    "        res[s]=x\n",
    "r=max(list(res.values()))\n",
    "for x,y in res.items():\n",
    "    if y==r:\n",
    "        print(x)"
   ]
  }
 ],
 "metadata": {
  "kernelspec": {
   "display_name": "Python 3",
   "language": "python",
   "name": "python3"
  },
  "language_info": {
   "codemirror_mode": {
    "name": "ipython",
    "version": 3
   },
   "file_extension": ".py",
   "mimetype": "text/x-python",
   "name": "python",
   "nbconvert_exporter": "python",
   "pygments_lexer": "ipython3",
   "version": "3.11.5"
  }
 },
 "nbformat": 4,
 "nbformat_minor": 5
}
