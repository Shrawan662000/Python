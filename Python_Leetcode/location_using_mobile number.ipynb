{
 "cells": [
  {
   "cell_type": "code",
   "execution_count": 3,
   "id": "dd40f4ee",
   "metadata": {},
   "outputs": [
    {
     "name": "stdout",
     "output_type": "stream",
     "text": [
      "Enter the phone number with country code : +91 9969136611\n",
      "timezone : ('Asia/Calcutta',)\n",
      "location : India\n",
      "service provider : MTNL\n"
     ]
    }
   ],
   "source": [
    "#Location of Mobile Number Code -\n",
    "\n",
    "import phonenumbers\n",
    "from phonenumbers import timezone\n",
    "from phonenumbers import geocoder\n",
    "from phonenumbers import carrier\n",
    " \n",
    "number = input(\"Enter the phone number with country code : \")\n",
    " \n",
    "# Parsing String to the Phone number\n",
    "phoneNumber = phonenumbers.parse(number)\n",
    " \n",
    "# printing the timezone using the timezone module\n",
    "timeZone = timezone.time_zones_for_number(phoneNumber)\n",
    "print(\"timezone : \"+str(timeZone))\n",
    " \n",
    "# printing the geolocation of the given number using the geocoder module\n",
    "geolocation = geocoder.description_for_number(phoneNumber,\"en\")\n",
    "print(\"location : \"+geolocation)\n",
    " \n",
    "# printing the service provider name using the carrier module\n",
    "service = carrier.name_for_number(phoneNumber,\"en\")\n",
    "print(\"service provider : \"+service)"
   ]
  },
  {
   "cell_type": "code",
   "execution_count": 2,
   "id": "22516c55",
   "metadata": {},
   "outputs": [
    {
     "name": "stdout",
     "output_type": "stream",
     "text": [
      "Collecting phonenumbers\n",
      "  Downloading phonenumbers-8.13.30-py2.py3-none-any.whl (2.6 MB)\n",
      "Installing collected packages: phonenumbers\n",
      "Successfully installed phonenumbers-8.13.30\n"
     ]
    },
    {
     "name": "stderr",
     "output_type": "stream",
     "text": [
      "WARNING: Ignoring invalid distribution -illow (c:\\users\\lenovo\\anaconda3\\lib\\site-packages)\n",
      "WARNING: Ignoring invalid distribution -illow (c:\\users\\lenovo\\anaconda3\\lib\\site-packages)\n",
      "WARNING: Ignoring invalid distribution -illow (c:\\users\\lenovo\\anaconda3\\lib\\site-packages)\n",
      "WARNING: Ignoring invalid distribution -illow (c:\\users\\lenovo\\anaconda3\\lib\\site-packages)\n",
      "WARNING: Ignoring invalid distribution -illow (c:\\users\\lenovo\\anaconda3\\lib\\site-packages)\n",
      "WARNING: Ignoring invalid distribution -illow (c:\\users\\lenovo\\anaconda3\\lib\\site-packages)\n",
      "WARNING: Ignoring invalid distribution -illow (c:\\users\\lenovo\\anaconda3\\lib\\site-packages)\n"
     ]
    }
   ],
   "source": [
    "!pip install phonenumbers\n"
   ]
  },
  {
   "cell_type": "code",
   "execution_count": null,
   "id": "b1b63a78",
   "metadata": {},
   "outputs": [],
   "source": []
  }
 ],
 "metadata": {
  "kernelspec": {
   "display_name": "Python 3 (ipykernel)",
   "language": "python",
   "name": "python3"
  },
  "language_info": {
   "codemirror_mode": {
    "name": "ipython",
    "version": 3
   },
   "file_extension": ".py",
   "mimetype": "text/x-python",
   "name": "python",
   "nbconvert_exporter": "python",
   "pygments_lexer": "ipython3",
   "version": "3.9.12"
  }
 },
 "nbformat": 4,
 "nbformat_minor": 5
}
