{
 "cells": [
  {
   "cell_type": "markdown",
   "id": "d61a45ca",
   "metadata": {},
   "source": [
    "### Que1.. Given an integer array nums, return true if any value appears at least twice in the array, and return false if every element is distinct.\n",
    "\n",
    "link : https://leetcode.com/problems/contains-duplicate/description/\n",
    "\n",
    "#### Sol 1."
   ]
  },
  {
   "cell_type": "code",
   "execution_count": 1,
   "id": "faca2747",
   "metadata": {},
   "outputs": [],
   "source": [
    "from typing import List\n",
    "class Solution:\n",
    "    def containsDuplicate(self, nums: List[int]) -> bool:\n",
    "        nums.sort()  # T.C. is O(nlog(n)) in worst case and O(n) in best case this use time sort algorithms .\n",
    "        \n",
    "        for i in range(0, len(nums)-1):\n",
    "            if nums[i]!=nums[i+1]:\n",
    "                continue\n",
    "            else:\n",
    "                return True\n",
    "        \n",
    "        return False"
   ]
  },
  {
   "cell_type": "code",
   "execution_count": 2,
   "id": "adb1a3cd",
   "metadata": {},
   "outputs": [],
   "source": [
    "# Example usage:\n",
    "sol = Solution()\n",
    "input_nums = [1, 2, 3, 4, 5, 6, 1]  # Change this list as needed\n",
    "result = sol.containsDuplicate(input_nums)\n",
    "\n",
    "if result:\n",
    "    print(\"The list contains duplicates.\")\n",
    "else:\n",
    "    print(\"The list does not contain duplicates.\")"
   ]
  },
  {
   "cell_type": "markdown",
   "id": "2f4e4813",
   "metadata": {},
   "source": [
    "#### T.C. is O(nlogn) and S.C. is O(1)"
   ]
  },
  {
   "cell_type": "markdown",
   "id": "e77a812a",
   "metadata": {},
   "source": [
    "#### Method -2 : preferred"
   ]
  },
  {
   "cell_type": "code",
   "execution_count": 3,
   "id": "15607472",
   "metadata": {},
   "outputs": [],
   "source": [
    "class Solution:\n",
    "    def containsDuplicate(self, nums: List[int]) -> bool:\n",
    "        seen = set()\n",
    "\n",
    "        for num in nums:\n",
    "            if num in seen:\n",
    "                return True\n",
    "            seen.add(num)\n",
    "\n",
    "        return False\n"
   ]
  },
  {
   "cell_type": "markdown",
   "id": "c89e6275",
   "metadata": {},
   "source": [
    "####  T.C. is O(n) and S.C. is O(n)"
   ]
  },
  {
   "cell_type": "markdown",
   "id": "e8c01f79",
   "metadata": {},
   "source": [
    "### Que 2. Given an integer array nums, rotate the array to the right by k steps, where k is non-negative.\n",
    "\n",
    " link : https://leetcode.com/problems/rotate-array/description/\n",
    " \n",
    " #### Method -01:"
   ]
  },
  {
   "cell_type": "code",
   "execution_count": 4,
   "id": "54310e7a",
   "metadata": {},
   "outputs": [],
   "source": [
    "class Solution:\n",
    "    def rotate(self, nums: List[int], k: int) -> List[int]:\n",
    "        \"\"\"\n",
    "        Do not return anything, modify nums in-place instead.\n",
    "        \"\"\"\n",
    "        k=len(nums)-k # becoz we want right by k steps\n",
    "        \n",
    "        nums=nums[k:]+nums[:k]\n",
    "        return nums"
   ]
  },
  {
   "cell_type": "code",
   "execution_count": 5,
   "id": "1f39f188",
   "metadata": {},
   "outputs": [
    {
     "data": {
      "text/plain": [
       "[5, 6, 1, 2, 3, 4]"
      ]
     },
     "execution_count": 5,
     "metadata": {},
     "output_type": "execute_result"
    }
   ],
   "source": [
    "# Example usage:\n",
    "sol = Solution()\n",
    "input_nums = [1,2,3,4,5,6]  # Change this list as needed\n",
    "k=2 # right by k steps\n",
    "result = sol.rotate(input_nums, k)\n",
    "result"
   ]
  },
  {
   "cell_type": "markdown",
   "id": "22c3528d",
   "metadata": {},
   "source": [
    "#### M-02:   method -1 gives wrong result on leetcode , i think we are not modifying nums in-place instead."
   ]
  },
  {
   "cell_type": "code",
   "execution_count": 6,
   "id": "7135077b",
   "metadata": {},
   "outputs": [],
   "source": [
    "class Solution:\n",
    "    def rotate(self, nums: List[int], k: int) -> None:\n",
    "        \"\"\"\n",
    "        Do not return anything, modify nums in-place instead.\n",
    "        \"\"\"\n",
    "        n = len(nums)\n",
    "        # Ensure k is within the length of the array\n",
    "        if k>=0 and k<=n:\n",
    "            # Reverse the entire array\n",
    "            nums.reverse()\n",
    "\n",
    "            # Reverse the first k elements\n",
    "            nums[:k] = reversed(nums[:k])\n",
    "\n",
    "            # Reverse the remaining elements\n",
    "            nums[k:] = reversed(nums[k:])\n",
    "                "
   ]
  },
  {
   "cell_type": "markdown",
   "id": "6f2caffb",
   "metadata": {},
   "source": [
    "### Que 3.  3 Sum\n",
    "#### Given an integer array nums, return all the triplets [nums[i], nums[j], nums[k]] such that i != j, i != k, and j != k, and nums[i] + nums[j] + nums[k] == 0.\n",
    "\n",
    "Notice that the solution set must not contain duplicate triplets.\n",
    "\n",
    "URl : https://leetcode.com/problems/3sum/description/"
   ]
  },
  {
   "cell_type": "code",
   "execution_count": 1,
   "id": "36c0ac94",
   "metadata": {},
   "outputs": [
    {
     "name": "stdout",
     "output_type": "stream",
     "text": [
      "[[-1, -1, 2], [-1, 0, 1]]\n"
     ]
    }
   ],
   "source": [
    "from typing import List\n",
    "\n",
    "class Solution:\n",
    "    def threeSum(self, nums: List[int]) -> List[List[int]]:\n",
    "        res = []\n",
    "        nums.sort()\n",
    "\n",
    "        for i, a in enumerate(nums):\n",
    "            # Check for the same consecutive elements\n",
    "            if i > 0 and a == nums[i - 1]:\n",
    "                continue\n",
    "            \n",
    "            # Use two pointers (l and r) from the beginning and end\n",
    "            l, r = i + 1, len(nums) - 1\n",
    "            \n",
    "            while l < r:\n",
    "                three_sum = a + nums[l] + nums[r]\n",
    "                \n",
    "                if three_sum > 0:\n",
    "                    r -= 1\n",
    "                elif three_sum < 0:\n",
    "                    l += 1\n",
    "                else:\n",
    "                    res.append([a, nums[l], nums[r]])\n",
    "                    \n",
    "                    # Skip duplicates for the second and third elements\n",
    "                    while l < r and nums[l] == nums[l + 1]:\n",
    "                        l += 1\n",
    "                    while l < r and nums[r] == nums[r - 1]:\n",
    "                        r -= 1\n",
    "                    \n",
    "                    l += 1\n",
    "                    r -= 1\n",
    "\n",
    "        return res\n",
    "\n",
    "# Example usage:\n",
    "solution = Solution()\n",
    "nums = [-1, 0, 1, 2, -1, -4]\n",
    "result = solution.threeSum(nums)\n",
    "print(result)\n"
   ]
  },
  {
   "cell_type": "markdown",
   "id": "987d0c67",
   "metadata": {},
   "source": [
    "### time and space : \n",
    "In summary:\n",
    "\n",
    "Time Complexity: O(n log n)\n",
    "\n",
    "Space Complexity: O(n)\n",
    "\n",
    "\n",
    "\n",
    "\n"
   ]
  },
  {
   "cell_type": "markdown",
   "id": "4fc71760",
   "metadata": {},
   "source": [
    "### Que 4. 3 Sum Smaller\n",
    "#### Given an array of n integers nums and a target, find the number of index triplets i,\n",
    "\n",
    "URL: https://leetcode.com/problems/3sum-smaller/"
   ]
  },
  {
   "cell_type": "code",
   "execution_count": 2,
   "id": "a81dcb29",
   "metadata": {
    "scrolled": true
   },
   "outputs": [
    {
     "name": "stdout",
     "output_type": "stream",
     "text": [
      "2\n"
     ]
    }
   ],
   "source": [
    "def three_sum_smaller(nums, target):\n",
    "    nums.sort()\n",
    "    count = 0\n",
    "\n",
    "    for i in range(len(nums) - 2):\n",
    "        left, right = i + 1, len(nums) - 1\n",
    "\n",
    "        while left < right:\n",
    "            current_sum = nums[i] + nums[left] + nums[right]\n",
    "\n",
    "            if current_sum < target:\n",
    "                # If the current triplet satisfies the condition, then all triplets with the 'right' pointer in between\n",
    "                # also satisfy the condition, so we count them.\n",
    "                count += right - left\n",
    "                left += 1\n",
    "            else:\n",
    "                right -= 1\n",
    "\n",
    "    return count\n",
    "\n",
    "# Example usage:\n",
    "nums = [-2, 0, 1, 3]\n",
    "target = 2\n",
    "result = three_sum_smaller(nums, target)\n",
    "print(result)\n"
   ]
  },
  {
   "cell_type": "markdown",
   "id": "68c73792",
   "metadata": {},
   "source": [
    "### Que 5.  Plus One\n",
    "Given a non-negative number represented as an array of digits, plus one to the\n",
    "number.\n",
    "\n",
    "The digits are stored such that the most significant digit is at the head of the list.\n",
    "\n",
    "URL: https://leetcode.com/problems/plus-one/\n"
   ]
  },
  {
   "cell_type": "code",
   "execution_count": 2,
   "id": "cf7eb29b",
   "metadata": {},
   "outputs": [],
   "source": [
    "from typing import List\n",
    "\n",
    "class Solution:\n",
    "    def plusOne(self, digits: List[int]) -> List[int]:\n",
    "        if digits[0] != 0 and (len(digits) > 0 and len(digits) <= 100) and all(0 <= x <= 9 for x in digits):\n",
    "            res=digits[-1]+1\n",
    "            if res<10:\n",
    "                digits[-1]=res\n",
    "                return digits\n",
    "            else:\n",
    "                digits.pop()\n",
    "                rem=res%10\n",
    "                res=int(res/10)\n",
    "                digits.extend([res, rem])\n",
    "                return digits"
   ]
  },
  {
   "cell_type": "markdown",
   "id": "50a1b97b",
   "metadata": {},
   "source": [
    "#### above code is okay, but not paases all test cases: 92/111 only passed"
   ]
  },
  {
   "cell_type": "markdown",
   "id": "61ca1ee4",
   "metadata": {},
   "source": [
    "### Que 6. Best Time to Buy and Sell Stock\n",
    "Say you have an array for which the ith element is the price of a given stock on\n",
    "day i.\n",
    "\n",
    "If you were only permitted to complete at most one transaction (ie, buy one and\n",
    "sell one share of the stock), design an algorithm to find the maximum profit.\n",
    "\n",
    "Example 1: Input: [7, 1, 5, 3, 6, 4] Output: 5\n",
    "\n",
    "max. difference = 6-1 = 5 (not 7-1 = 6, as selling price needs to be larger than\n",
    "buying price)\n",
    "\n",
    "Example 2: Input: [7, 6, 4, 3, 1] Output: 0\n",
    "\n",
    "In this case, no transaction is done, i.e. max profit = 0.\n",
    "\n",
    "URL: https://leetcode.com/problems/best-time-to-buy-and-sell-stock/"
   ]
  },
  {
   "cell_type": "code",
   "execution_count": 4,
   "id": "b5734bfc",
   "metadata": {},
   "outputs": [
    {
     "name": "stdout",
     "output_type": "stream",
     "text": [
      "5\n"
     ]
    }
   ],
   "source": [
    "from typing import List\n",
    "\n",
    "class Solution:\n",
    "    def maxProfit(self, prices: List[int]) -> int:\n",
    "        # Check if the prices list is empty\n",
    "        if not prices:\n",
    "            return 0\n",
    "        \n",
    "        # Find the minimum buy price and its index\n",
    "        buy_price = min(prices)\n",
    "        buy_day = prices.index(buy_price)\n",
    "        \n",
    "        # Remove elements from the beginning of the list until the buy_day\n",
    "        prices = prices[buy_day + 1:]\n",
    "        \n",
    "        # Check if there are remaining prices in the list\n",
    "        if not prices:\n",
    "            return 0\n",
    "        \n",
    "        # Find the maximum sell price\n",
    "        sell_price = max(prices)\n",
    "        \n",
    "        # Calculate and return the maximum profit\n",
    "        max_profit = sell_price - buy_price\n",
    "        return max(0, max_profit)\n",
    "\n",
    "# Example usage:\n",
    "solution = Solution()\n",
    "prices = [7, 1, 5, 3, 6, 4]\n",
    "result = solution.maxProfit(prices)\n",
    "print(result)\n"
   ]
  },
  {
   "cell_type": "markdown",
   "id": "f114c058",
   "metadata": {},
   "source": [
    "### Que 7. Shortest Word Distance\n",
    "Given a list of words and two words word1 and word2, return the shortest distance\n",
    "between these two words in the list.\n",
    "\n",
    "For example, Assume that words = [\"practice\", \"makes\", \"perfect\", \"coding\",\n",
    "\"makes\"].\n",
    "\n",
    "Given word1 = “coding”, word2 = “practice”, return 3.\n",
    "Given word1 = \"makes\",\n",
    "word2 = \"coding\", return 1.\n",
    "\n",
    "Note: You may assume that word1 does not equal to word2, and word1 and word2\n",
    "are both in the list.\n",
    "\n",
    "URL: https://leetcode.com/problems/shortest-word-distance/"
   ]
  },
  {
   "cell_type": "code",
   "execution_count": 27,
   "id": "d5387253",
   "metadata": {},
   "outputs": [
    {
     "data": {
      "text/plain": [
       "3"
      ]
     },
     "execution_count": 27,
     "metadata": {},
     "output_type": "execute_result"
    }
   ],
   "source": [
    "from typing import List\n",
    "class Solution:\n",
    "    def distance(self, words: List[str], word1: str, word2: str ) -> int:\n",
    "        w1_index=[]\n",
    "        w2_index=[]\n",
    "        \n",
    "        for i in range(0, len(words)):\n",
    "            if words[i]==word1:\n",
    "                w1_index.append(i)\n",
    "            elif words[i]==word2:\n",
    "                w2_index.append(i)\n",
    "            else:\n",
    "                continue\n",
    "        if len(w1_index)!=0 and len(w2_index)!=0:  ## checking for atleast word will be present in the list\n",
    "            diff=[]\n",
    "            for i in range(0, len(w1_index)):\n",
    "                for j in range(0, len(w2_index)):\n",
    "                    diff_=abs(w1_index[i]-w2_index[j])\n",
    "                    diff.append(diff_)\n",
    "\n",
    "        \n",
    "            return min(diff)\n",
    "        elif len(w1_index)==0:\n",
    "            print(f\"The '{word1}' does not exists in list\")\n",
    "        else:\n",
    "            print(f\"The '{word2}' does not exists in list\")\n",
    "    \n",
    "words= [\"practice\", \"makes\", \"perfect\", \"coding\", \"makes\"]\n",
    "word1=\"practice\"\n",
    "word2=\"coding\"\n",
    "\n",
    "res=Solution()\n",
    "res.distance(words, word1, word2)"
   ]
  },
  {
   "cell_type": "code",
   "execution_count": 28,
   "id": "3c454f4b",
   "metadata": {},
   "outputs": [
    {
     "data": {
      "text/plain": [
       "1"
      ]
     },
     "execution_count": 28,
     "metadata": {},
     "output_type": "execute_result"
    }
   ],
   "source": [
    "word1 = \"makes\"\n",
    "word2 = \"coding\"\n",
    "res.distance(words, word1, word2)"
   ]
  },
  {
   "cell_type": "code",
   "execution_count": 29,
   "id": "d88a3fb6",
   "metadata": {},
   "outputs": [
    {
     "name": "stdout",
     "output_type": "stream",
     "text": [
      "The 'make' does not exists in list\n"
     ]
    }
   ],
   "source": [
    "word1 = \"make\"\n",
    "word2 = \"coding\"\n",
    "res.distance(words, word1, word2)"
   ]
  },
  {
   "cell_type": "markdown",
   "id": "b564a48b",
   "metadata": {},
   "source": [
    "#### In summary:\n",
    "\n",
    "Time complexity: O(n + m * k)\n",
    "\n",
    "Space complexity: O(m + k)"
   ]
  },
  {
   "cell_type": "markdown",
   "id": "a9f2d08f",
   "metadata": {},
   "source": [
    "#### Method _2 : to get T.C. ; O(n)"
   ]
  },
  {
   "cell_type": "code",
   "execution_count": 31,
   "id": "9d5d12c7",
   "metadata": {},
   "outputs": [
    {
     "name": "stdout",
     "output_type": "stream",
     "text": [
      "The minimum distance between 'makes' and 'coding' is: 1\n"
     ]
    }
   ],
   "source": [
    "from typing import List\n",
    "\n",
    "class Solution:\n",
    "    def distance(self, words: List[str], word1: str, word2: str) -> int:\n",
    "        w1_index = -1  # Initialize indices to -1\n",
    "        w2_index = -1\n",
    "\n",
    "        min_distance = float('inf')  # Initialize the minimum distance to positive infinity\n",
    "\n",
    "        for i in range(len(words)):\n",
    "            if words[i] == word1:\n",
    "                w1_index = i\n",
    "            elif words[i] == word2:\n",
    "                w2_index = i\n",
    "\n",
    "            if w1_index != -1 and w2_index != -1:\n",
    "                # Calculate the current distance and update the minimum distance if needed\n",
    "                current_distance = abs(w1_index - w2_index)\n",
    "                min_distance = min(min_distance, current_distance)\n",
    "\n",
    "        if w1_index != -1 and w2_index != -1:\n",
    "            return min_distance\n",
    "        elif w1_index == -1:\n",
    "            print(f\"The '{word1}' does not exist in the list\")\n",
    "        else:\n",
    "            print(f\"The '{word2}' does not exist in the list\")\n",
    "\n",
    "# Example usage:\n",
    "words = [\"practice\", \"makes\", \"perfect\", \"coding\", \"makes\"]\n",
    "word1 = \"makes\"\n",
    "word2 = \"coding\"\n",
    "\n",
    "res = Solution()\n",
    "result = res.distance(words, word1, word2)\n",
    "if result is not None:\n",
    "    print(f\"The minimum distance between '{word1}' and '{word2}' is: {result}\")\n"
   ]
  },
  {
   "cell_type": "markdown",
   "id": "ba0cd2fc",
   "metadata": {},
   "source": [
    "#### In summary:\n",
    "\n",
    "Time complexity: O(n)\n",
    "\n",
    "Space complexity: O(1)"
   ]
  },
  {
   "cell_type": "markdown",
   "id": "bb93ce80",
   "metadata": {},
   "source": [
    "### Que 8. Move Zeroes\n",
    "Given an array nums, write a function to move all 0's to the end of it while\n",
    "maintaining the relative order of the non-zero elements.\n",
    "\n",
    "For example, given nums = [0, 1, 0, 3, 12], after calling your function, nums should\n",
    "be [1, 3, 12, 0, 0].\n",
    "\n",
    "Note: You must do this in-place without making a copy of the array. Minimize the\n",
    "total number of operations.\n",
    "\n",
    "URL:https://leetcode.com/problems/move-zeroes/\n",
    "\n"
   ]
  },
  {
   "cell_type": "code",
   "execution_count": 9,
   "id": "327e7367",
   "metadata": {},
   "outputs": [],
   "source": [
    "class Solution:\n",
    "    def moveZeroes(self, nums: List[int]) -> None:\n",
    "        if len(nums) <= 1:\n",
    "            return  # No need to process if there is one or zero elements\n",
    "\n",
    "        i = 0\n",
    "        j = 1\n",
    "\n",
    "        while j < len(nums):\n",
    "            if nums[i] == 0 and nums[j] != 0:\n",
    "                nums[i], nums[j] = nums[j], nums[i]  # Swap\n",
    "                i += 1\n",
    "            elif nums[i] == 0 and nums[j] == 0:\n",
    "                j += 1\n",
    "            else:\n",
    "                i += 1\n",
    "                j += 1"
   ]
  },
  {
   "cell_type": "code",
   "execution_count": 10,
   "id": "d042dae7",
   "metadata": {},
   "outputs": [
    {
     "name": "stdout",
     "output_type": "stream",
     "text": [
      "[1, 3, 12, 0, 0]\n"
     ]
    }
   ],
   "source": [
    "# Example usage:\n",
    "nums = [0, 1, 0, 3, 12]\n",
    "sol = Solution()\n",
    "sol.moveZeroes(nums)\n",
    "print(nums)"
   ]
  },
  {
   "cell_type": "code",
   "execution_count": 11,
   "id": "083f5ce9",
   "metadata": {},
   "outputs": [
    {
     "name": "stdout",
     "output_type": "stream",
     "text": [
      "[0]\n"
     ]
    }
   ],
   "source": [
    "# Example usage:\n",
    "nums = [0]\n",
    "sol = Solution()\n",
    "sol.moveZeroes(nums)\n",
    "print(nums)"
   ]
  },
  {
   "cell_type": "code",
   "execution_count": null,
   "id": "e005aace",
   "metadata": {},
   "outputs": [],
   "source": []
  }
 ],
 "metadata": {
  "kernelspec": {
   "display_name": "Python 3 (ipykernel)",
   "language": "python",
   "name": "python3"
  },
  "language_info": {
   "codemirror_mode": {
    "name": "ipython",
    "version": 3
   },
   "file_extension": ".py",
   "mimetype": "text/x-python",
   "name": "python",
   "nbconvert_exporter": "python",
   "pygments_lexer": "ipython3",
   "version": "3.9.12"
  }
 },
 "nbformat": 4,
 "nbformat_minor": 5
}
