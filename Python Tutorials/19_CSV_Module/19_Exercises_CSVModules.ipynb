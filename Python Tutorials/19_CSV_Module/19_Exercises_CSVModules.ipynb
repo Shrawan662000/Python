{
 "cells": [
  {
   "cell_type": "markdown",
   "id": "sustainable-listening",
   "metadata": {},
   "source": [
    "### Exercises"
   ]
  },
  {
   "cell_type": "markdown",
   "id": "apparent-romance",
   "metadata": {},
   "source": [
    "#### Question 1"
   ]
  },
  {
   "cell_type": "markdown",
   "id": "engaged-audience",
   "metadata": {},
   "source": [
    "Alongside this note book, four CSV files are specified (one is in fact a TSV file)."
   ]
  },
  {
   "cell_type": "markdown",
   "id": "satisfactory-greensboro",
   "metadata": {},
   "source": [
    "For each file, load it using the CSV module, and find the smallest and largest numbers in the data."
   ]
  },
  {
   "cell_type": "markdown",
   "id": "electoral-pathology",
   "metadata": {},
   "source": [
    "All these files contain just lists of numbers - with the exception of a possible header row\n",
    "\n",
    "### Solution"
   ]
  },
  {
   "cell_type": "code",
   "execution_count": 7,
   "id": "26b64283",
   "metadata": {},
   "outputs": [
    {
     "name": "stdout",
     "output_type": "stream",
     "text": [
      "File: file1.csv\n",
      "Smallest number: 10.0\n",
      "Largest number: 80.0\n",
      "\n",
      "File: file2.csv\n",
      "Smallest number: -3.3\n",
      "Largest number: 20.0\n",
      "\n",
      "File: file3.tsv\n",
      "Smallest number: 10.0\n",
      "Largest number: 300.0\n",
      "\n",
      "File: file4.csv\n",
      "Smallest number: -100.0\n",
      "Largest number: 30.0\n",
      "\n"
     ]
    }
   ],
   "source": [
    "import csv\n",
    "\n",
    "\n",
    "file_names = ['file1.csv', 'file2.csv', 'file3.tsv', 'file4.csv']\n",
    "\n",
    "for file_name in file_names:\n",
    "    if file_name.endswith('.csv'):\n",
    "        delimiter = ','\n",
    "    elif file_name.endswith('.tsv'):\n",
    "        delimiter = '\\t'\n",
    "    else:\n",
    "        print(f\"Unsupported file format: {file_name}\")\n",
    "        continue\n",
    "\n",
    "    # Open the file using the appropriate dialect\n",
    "    with open(file_name, newline='') as f:\n",
    "        dialect = csv.Sniffer().sniff(f.read(1024))\n",
    "        f.seek(0)\n",
    "        reader = csv.reader(f, dialect)\n",
    "\n",
    "        # Skip header row if present\n",
    "        try:\n",
    "            next(reader)\n",
    "        except StopIteration:\n",
    "            pass\n",
    "        \n",
    "        \n",
    "        # Initialize min and max values\n",
    "        min_value = float('inf')\n",
    "        max_value = float('-inf')\n",
    "\n",
    "\n",
    "        for row in reader:\n",
    "            for value in row:\n",
    "                numeric_value = float(value)\n",
    "                min_value = min(min_value, numeric_value)\n",
    "                max_value = max(max_value, numeric_value)\n",
    "\n",
    "        \n",
    "        print(f\"File: {file_name}\")\n",
    "        print(f\"Smallest number: {min_value}\")\n",
    "        print(f\"Largest number: {max_value}\")\n",
    "        print()\n"
   ]
  },
  {
   "cell_type": "markdown",
   "id": "annoying-anime",
   "metadata": {},
   "source": [
    "#### Question 2"
   ]
  },
  {
   "cell_type": "markdown",
   "id": "wooden-hunter",
   "metadata": {},
   "source": [
    "Given this data structure consisting of a list of dictionaries, write a function that will write this data out to a file, where the column headers (in the first row) are based on the dictionary keys, and the values are flattened out to one row per dictionary (under the corresponding column header)."
   ]
  },
  {
   "cell_type": "markdown",
   "id": "minus-flower",
   "metadata": {},
   "source": [
    "Note that not all dictionaries contain all the same keys, nor are the keys necessarily in the same order when present."
   ]
  },
  {
   "cell_type": "markdown",
   "id": "adverse-sussex",
   "metadata": {},
   "source": [
    "For \"missing\" values, your function should just write an empty string."
   ]
  },
  {
   "cell_type": "markdown",
   "id": "pursuant-cheese",
   "metadata": {},
   "source": [
    "For example, given this `data`:"
   ]
  },
  {
   "cell_type": "code",
   "execution_count": 24,
   "id": "incorporate-marijuana",
   "metadata": {},
   "outputs": [],
   "source": [
    "data = [\n",
    "    {'a': '1_a', 'b': '1_b', 'c': '1_c'},\n",
    "    {'c': '2_c', 'd': '2_d'},\n",
    "    {'a': '3_a', 'c': '3_c', 'e': '3_e'}\n",
    "]"
   ]
  },
  {
   "cell_type": "raw",
   "id": "olive-alcohol",
   "metadata": {},
   "source": [
    "Your output file should look like this:"
   ]
  },
  {
   "cell_type": "markdown",
   "id": "immune-aside",
   "metadata": {},
   "source": [
    "```\n",
    "a,b,c,d,e\n",
    "1_a,1_b,1_c,,,\n",
    ",,2_c,2_d,\n",
    "3_a,,3_c,,3_e\n",
    "```"
   ]
  },
  {
   "cell_type": "markdown",
   "id": "atmospheric-engine",
   "metadata": {},
   "source": [
    "The order of the columns and rows is not important - as long as they match up with respective column headers.\n",
    "\n",
    "### Solution"
   ]
  },
  {
   "cell_type": "code",
   "execution_count": 8,
   "id": "cd05131e",
   "metadata": {},
   "outputs": [],
   "source": [
    "import csv\n",
    "\n",
    "def write_data_to_file(data, file_path):\n",
    "    # Extract all unique keys from the dictionaries\n",
    "    all_keys = set().union(*data)\n",
    "\n",
    "    # Write data to CSV file\n",
    "    with open(file_path, 'w', newline='') as csvfile:\n",
    "        writer = csv.DictWriter(csvfile, fieldnames=all_keys)\n",
    "\n",
    "       \n",
    "        writer.writeheader()\n",
    "\n",
    "    \n",
    "        for row in data:\n",
    "            writer.writerow(row)\n"
   ]
  },
  {
   "cell_type": "code",
   "execution_count": 9,
   "id": "f5a9c2d6",
   "metadata": {},
   "outputs": [],
   "source": [
    "data = [\n",
    "    {'a': '1_a', 'b': '1_b', 'c': '1_c'},\n",
    "    {'c': '2_c', 'd': '2_d'},\n",
    "    {'a': '3_a', 'c': '3_c', 'e': '3_e'}\n",
    "]\n",
    "\n",
    "write_data_to_file(data, 'output.csv')\n"
   ]
  },
  {
   "cell_type": "code",
   "execution_count": 10,
   "id": "71ed03ba",
   "metadata": {},
   "outputs": [
    {
     "name": "stdout",
     "output_type": "stream",
     "text": [
      "e,c,d,a,b\n",
      "\n",
      ",1_c,,1_a,1_b\n",
      "\n",
      ",2_c,2_d,,\n",
      "\n",
      "3_e,3_c,,3_a,\n",
      "\n"
     ]
    }
   ],
   "source": [
    "# read this csv file\n",
    "with open('output.csv') as f:\n",
    "    for row in f:\n",
    "        print(row)"
   ]
  },
  {
   "cell_type": "code",
   "execution_count": null,
   "id": "6e9b76f9",
   "metadata": {},
   "outputs": [],
   "source": []
  }
 ],
 "metadata": {
  "kernelspec": {
   "display_name": "Python 3 (ipykernel)",
   "language": "python",
   "name": "python3"
  },
  "language_info": {
   "codemirror_mode": {
    "name": "ipython",
    "version": 3
   },
   "file_extension": ".py",
   "mimetype": "text/x-python",
   "name": "python",
   "nbconvert_exporter": "python",
   "pygments_lexer": "ipython3",
   "version": "3.9.12"
  }
 },
 "nbformat": 4,
 "nbformat_minor": 5
}
