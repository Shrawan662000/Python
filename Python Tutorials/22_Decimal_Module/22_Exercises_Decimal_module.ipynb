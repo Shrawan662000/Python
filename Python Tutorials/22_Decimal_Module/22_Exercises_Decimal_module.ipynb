{
 "cells": [
  {
   "cell_type": "markdown",
   "id": "material-george",
   "metadata": {},
   "source": [
    "### Exercises"
   ]
  },
  {
   "cell_type": "markdown",
   "id": "conscious-reform",
   "metadata": {},
   "source": [
    "### Question 1"
   ]
  },
  {
   "cell_type": "markdown",
   "id": "filled-payroll",
   "metadata": {},
   "source": [
    "There is a file named `transactions.csv` which is a list of purchases and sales."
   ]
  },
  {
   "cell_type": "markdown",
   "id": "invalid-silence",
   "metadata": {},
   "source": [
    "Write code that loads this data and calculates the total of these purchases and sales."
   ]
  },
  {
   "cell_type": "markdown",
   "id": "human-requirement",
   "metadata": {},
   "source": [
    "Take two approaches - one using floats, and one using Decimal objects. Calculate the difference between the two results."
   ]
  },
  {
   "cell_type": "markdown",
   "id": "irish-fleet",
   "metadata": {},
   "source": [
    "Also, time how long it takes to run your code using floats and using Decimals.\n",
    "\n",
    "### Solution"
   ]
  },
  {
   "cell_type": "code",
   "execution_count": 2,
   "id": "b103c60f",
   "metadata": {},
   "outputs": [
    {
     "name": "stdout",
     "output_type": "stream",
     "text": [
      "Total (Float): 9371414197943.00\n",
      "Total (Decimal): 9371414197943.00\n",
      "Difference: 0.00\n",
      "Execution Time (Float): 7.8871 seconds\n",
      "Execution Time (Decimal): 13.6592 seconds\n"
     ]
    }
   ],
   "source": [
    "import csv\n",
    "import time\n",
    "from decimal import Decimal\n",
    "\n",
    "def calculate_total_float():\n",
    "    total = 0.0\n",
    "\n",
    "    with open('transactions.csv', 'r') as file:\n",
    "        reader = csv.reader(file)\n",
    "        next(reader)  # Skip header row\n",
    "\n",
    "        for row in reader:\n",
    "            amount = float(row[1])\n",
    "            total += amount\n",
    "\n",
    "    return total\n",
    "\n",
    "def calculate_total_decimal():\n",
    "    total = Decimal('0')\n",
    "\n",
    "    with open('transactions.csv', 'r') as file:\n",
    "        reader = csv.reader(file)\n",
    "        next(reader)  # Skip header row\n",
    "\n",
    "        for row in reader:\n",
    "            amount = Decimal(row[1])\n",
    "            total += amount\n",
    "\n",
    "    return total\n",
    "\n",
    "# Calculate total using floats\n",
    "start_time_float = time.time()\n",
    "total_float = calculate_total_float()\n",
    "end_time_float = time.time()\n",
    "execution_time_float = end_time_float - start_time_float\n",
    "\n",
    "# Calculate total using Decimal\n",
    "start_time_decimal = time.time()\n",
    "total_decimal = calculate_total_decimal()\n",
    "end_time_decimal = time.time()\n",
    "execution_time_decimal = end_time_decimal - start_time_decimal\n",
    "\n",
    "# Calculate the difference\n",
    "difference = Decimal(str(total_float)) - total_decimal\n",
    "\n",
    "# Print results\n",
    "print(f\"Total (Float): {total_float:.2f}\")\n",
    "print(f\"Total (Decimal): {total_decimal:.2f}\")\n",
    "print(f\"Difference: {difference:.2f}\")\n",
    "print(f\"Execution Time (Float): {execution_time_float:.4f} seconds\")\n",
    "print(f\"Execution Time (Decimal): {execution_time_decimal:.4f} seconds\")\n"
   ]
  },
  {
   "cell_type": "markdown",
   "id": "united-snowboard",
   "metadata": {},
   "source": [
    "#### Question 2"
   ]
  },
  {
   "cell_type": "markdown",
   "id": "simple-diary",
   "metadata": {},
   "source": [
    "Using the same file (`transactions.csv`), we now want to calculate a fee on each transaction."
   ]
  },
  {
   "cell_type": "markdown",
   "id": "decimal-williams",
   "metadata": {},
   "source": [
    "Irrespective of whether the transaction was a credit or a debit, we will calculate a `0.123%` transaction fee for the (absolute) values of each transaction."
   ]
  },
  {
   "cell_type": "markdown",
   "id": "brown-finish",
   "metadata": {},
   "source": [
    "**Each** fee calculation precision should be limited to `8` digits after the decimal point (so use `round(val, 8)`)"
   ]
  },
  {
   "cell_type": "markdown",
   "id": "postal-textbook",
   "metadata": {},
   "source": [
    "In addition, any rounding should always round ties away from `0` (`ROUND_HALF_UP`) - and not use Banker's rounding (`ROUND_HALF_EVEN`)."
   ]
  },
  {
   "cell_type": "markdown",
   "id": "undefined-treasure",
   "metadata": {},
   "source": [
    "Only implement this solution using `Decimal` objects, as floats do not offer a rounding algorithm choice, and writing our own rounding algorithm can be overly complicated."
   ]
  },
  {
   "cell_type": "markdown",
   "id": "convenient-hanging",
   "metadata": {},
   "source": [
    "Also calculate the different in the fee totals when using `ROUND_HALF_UP` vs `ROUND_HALF_EVEN`\n",
    "\n",
    "#### Solution"
   ]
  },
  {
   "cell_type": "code",
   "execution_count": 3,
   "id": "04424417",
   "metadata": {},
   "outputs": [
    {
     "name": "stdout",
     "output_type": "stream",
     "text": [
      "Total Fees (ROUND_HALF_UP): 11526839463.46989000\n",
      "Total Fees (ROUND_HALF_EVEN): 11526839463.46989000\n",
      "Difference in Fee Totals: 0.00000000\n",
      "Execution Time (ROUND_HALF_UP): 38.1587 seconds\n",
      "Execution Time (ROUND_HALF_EVEN): 35.7220 seconds\n"
     ]
    }
   ],
   "source": [
    "import csv\n",
    "import time\n",
    "from decimal import Decimal, ROUND_HALF_UP, ROUND_HALF_EVEN\n",
    "\n",
    "def calculate_fees(rounding_mode):\n",
    "    total_fees = Decimal('0')\n",
    "\n",
    "    with open('transactions.csv', 'r') as file:\n",
    "        reader = csv.reader(file)\n",
    "        next(reader)  # Skip header row\n",
    "\n",
    "        for row in reader:\n",
    "            amount = Decimal(row[1])\n",
    "            fee = round(abs(amount) * Decimal('0.00123'), 8)\n",
    "            fee = fee.quantize(Decimal('0.00000001'), rounding=rounding_mode)\n",
    "            total_fees += fee\n",
    "\n",
    "    return total_fees\n",
    "\n",
    "# Calculate fees using ROUND_HALF_UP\n",
    "start_time_round_up = time.time()\n",
    "total_fees_round_up = calculate_fees(ROUND_HALF_UP)\n",
    "end_time_round_up = time.time()\n",
    "execution_time_round_up = end_time_round_up - start_time_round_up\n",
    "\n",
    "# Calculate fees using ROUND_HALF_EVEN\n",
    "start_time_round_even = time.time()\n",
    "total_fees_round_even = calculate_fees(ROUND_HALF_EVEN)\n",
    "end_time_round_even = time.time()\n",
    "execution_time_round_even = end_time_round_even - start_time_round_even\n",
    "\n",
    "# Calculate the difference in fee totals\n",
    "difference = total_fees_round_up - total_fees_round_even\n",
    "\n",
    "# Print results\n",
    "print(f\"Total Fees (ROUND_HALF_UP): {total_fees_round_up:.8f}\")\n",
    "print(f\"Total Fees (ROUND_HALF_EVEN): {total_fees_round_even:.8f}\")\n",
    "print(f\"Difference in Fee Totals: {difference:.8f}\")\n",
    "print(f\"Execution Time (ROUND_HALF_UP): {execution_time_round_up:.4f} seconds\")\n",
    "print(f\"Execution Time (ROUND_HALF_EVEN): {execution_time_round_even:.4f} seconds\")\n"
   ]
  },
  {
   "cell_type": "code",
   "execution_count": null,
   "id": "b7720ca5",
   "metadata": {},
   "outputs": [],
   "source": []
  }
 ],
 "metadata": {
  "kernelspec": {
   "display_name": "Python 3 (ipykernel)",
   "language": "python",
   "name": "python3"
  },
  "language_info": {
   "codemirror_mode": {
    "name": "ipython",
    "version": 3
   },
   "file_extension": ".py",
   "mimetype": "text/x-python",
   "name": "python",
   "nbconvert_exporter": "python",
   "pygments_lexer": "ipython3",
   "version": "3.9.12"
  }
 },
 "nbformat": 4,
 "nbformat_minor": 5
}
