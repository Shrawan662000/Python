{
 "cells": [
  {
   "cell_type": "markdown",
   "id": "competent-gathering",
   "metadata": {},
   "source": [
    "### Solutions"
   ]
  },
  {
   "cell_type": "markdown",
   "id": "reasonable-raising",
   "metadata": {},
   "source": [
    "#### Question 1"
   ]
  },
  {
   "cell_type": "markdown",
   "id": "oriental-relief",
   "metadata": {},
   "source": [
    "Given this string of comma separated characters, create three new variables containing the unicode codepoint (in hex), uppercase and lower case versions of each character (also comma delimited).\n",
    "\n",
    "For example, if the string was `'a, B, c'` you should generate three lists that look like:\n",
    "* `['0x61', '0x62', '0x63']`\n",
    "* `['a', 'b', 'c']`\n",
    "* `['A', 'B', 'C']`\n",
    "\n",
    "[You should use the `split()` and `strip()` functions, amongst others, to help you solve this.]"
   ]
  },
  {
   "cell_type": "code",
   "execution_count": 5,
   "id": "noble-humanitarian",
   "metadata": {},
   "outputs": [
    {
     "name": "stdout",
     "output_type": "stream",
     "text": [
      "['Π', ' ύ', ' θ', ' ω', ' ν']\n",
      "\n",
      "\n",
      "['0x3a0', '0x3cd', '0x3b8', '0x3c9', '0x3bd']\n",
      "['Π', 'Ύ', 'Θ', 'Ω', 'Ν']\n",
      "['π', 'ύ', 'θ', 'ω', 'ν']\n"
     ]
    }
   ],
   "source": [
    "s = 'Π, ύ, θ, ω, ν'\n",
    "\n",
    "char_list = s.split(',')\n",
    "print(char_list)\n",
    "print(\"\\n\")\n",
    "# Remove whitespace \n",
    "char_list = [char.strip() for char in char_list]\n",
    "\n",
    "\n",
    "unicode_list = [hex(ord(char)) for char in char_list]\n",
    "uppercase_list = [char.upper() for char in char_list]\n",
    "lowercase_list = [char.lower() for char in char_list]\n",
    "\n",
    "# Print out the lists\n",
    "print(unicode_list)    \n",
    "print(uppercase_list)  \n",
    "print(lowercase_list)  \n"
   ]
  },
  {
   "cell_type": "markdown",
   "id": "instrumental-bacteria",
   "metadata": {},
   "source": [
    "#### Question 2"
   ]
  },
  {
   "cell_type": "markdown",
   "id": "amber-vermont",
   "metadata": {},
   "source": [
    "Using two types of string interpolation, and given the variable `a` that contains an integer, print out the following string for `a`:\n",
    "\n",
    "`The number ...value of a... is (or is not) even`\n",
    "\n",
    "For example, if `a` is `42`, the your code should print:\n",
    "\n",
    "`'The number 42 is even'`\n",
    "\n",
    "But if `a` is `31`, then the **same** code should print:\n",
    "\n",
    "`'The number 31 is not even'`\n"
   ]
  },
  {
   "cell_type": "code",
   "execution_count": 6,
   "id": "a9a9b437",
   "metadata": {},
   "outputs": [
    {
     "name": "stdout",
     "output_type": "stream",
     "text": [
      "enter the any value of a:23\n",
      " The Number 23 is not even\n"
     ]
    }
   ],
   "source": [
    "a=int(input(\"enter the any value of a:\"))\n",
    "if a%2==0:\n",
    "    print(f' The Number {a} is even' )\n",
    "else:\n",
    "    print(f' The Number {a} is not even' )"
   ]
  },
  {
   "cell_type": "markdown",
   "id": "favorite-herald",
   "metadata": {},
   "source": [
    "#### Question 3"
   ]
  },
  {
   "cell_type": "markdown",
   "id": "initial-design",
   "metadata": {},
   "source": [
    "You are given two variables `a` and `b` (with `b` non-zero), and you need to generate a string that reads something like this:\n",
    "\n",
    "```\n",
    "'a / b = (result)'\n",
    "```"
   ]
  },
  {
   "cell_type": "markdown",
   "id": "existing-drama",
   "metadata": {},
   "source": [
    "But you want your string to be nicely formatted for display purposes, so you want to limit displaying possible digits after the decimal point in all your values to 4 digits."
   ]
  },
  {
   "cell_type": "code",
   "execution_count": 11,
   "id": "b50fa7d3",
   "metadata": {},
   "outputs": [
    {
     "name": "stdout",
     "output_type": "stream",
     "text": [
      "enter the value of a and b:12 5\n",
      "12 / 5 = (2.4000)\n"
     ]
    }
   ],
   "source": [
    "a,b=[int(x) for x in input(\"enter the value of a and b:\").split()]\n",
    "\n",
    "if b == 0:\n",
    "    raise ValueError(\"b cannot be zero\")\n",
    "\n",
    "result = a / b\n",
    "\n",
    "\n",
    "formatted_result = \"{:.4f}\".format(result)\n",
    "\n",
    "\n",
    "final_result = \"{} / {} = ({})\".format(a, b, formatted_result)\n",
    "\n",
    "print(final_result)  # Output: \"10 / 3 = (3.3333)\"\n"
   ]
  },
  {
   "cell_type": "code",
   "execution_count": null,
   "id": "38c42387",
   "metadata": {},
   "outputs": [],
   "source": []
  }
 ],
 "metadata": {
  "kernelspec": {
   "display_name": "Python 3 (ipykernel)",
   "language": "python",
   "name": "python3"
  },
  "language_info": {
   "codemirror_mode": {
    "name": "ipython",
    "version": 3
   },
   "file_extension": ".py",
   "mimetype": "text/x-python",
   "name": "python",
   "nbconvert_exporter": "python",
   "pygments_lexer": "ipython3",
   "version": "3.9.12"
  }
 },
 "nbformat": 4,
 "nbformat_minor": 5
}
