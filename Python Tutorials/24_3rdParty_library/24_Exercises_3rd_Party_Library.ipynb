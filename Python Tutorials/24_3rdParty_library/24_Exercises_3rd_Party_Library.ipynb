{
 "cells": [
  {
   "cell_type": "markdown",
   "id": "urban-territory",
   "metadata": {},
   "source": [
    "### Solutions"
   ]
  },
  {
   "cell_type": "markdown",
   "id": "computational-fitness",
   "metadata": {},
   "source": [
    "#### Question 1"
   ]
  },
  {
   "cell_type": "markdown",
   "id": "coral-lending",
   "metadata": {},
   "source": [
    "Use the `pytz` and `dateutil` libraries to convert this string into a UTC naive `datetime` object."
   ]
  },
  {
   "cell_type": "code",
   "execution_count": 1,
   "id": "formal-ability",
   "metadata": {},
   "outputs": [],
   "source": [
    "t = \"Feb 8, 2021 5:30pm (Denver Time)\""
   ]
  },
  {
   "cell_type": "markdown",
   "id": "a4121c1e",
   "metadata": {},
   "source": [
    "### Solution"
   ]
  },
  {
   "cell_type": "code",
   "execution_count": 4,
   "id": "11fa8514",
   "metadata": {},
   "outputs": [
    {
     "name": "stdout",
     "output_type": "stream",
     "text": [
      "2021-02-09 00:30:00\n"
     ]
    }
   ],
   "source": [
    "import pytz\n",
    "from dateutil import parser\n",
    "\n",
    "t = \"Feb 8, 2021 5:30pm (Denver Time)\"\n",
    "\n",
    "\n",
    "dt = parser.parse(t, fuzzy=True)\n",
    "\n",
    "if dt:\n",
    "    denver_tz = pytz.timezone(\"America/Denver\")\n",
    "\n",
    "    localized_dt = denver_tz.localize(dt)\n",
    "\n",
    "    #  datetime to UTC\n",
    "    utc_dt = localized_dt.astimezone(pytz.utc)\n",
    "    \n",
    "    utc_naive_dt = utc_dt.replace(tzinfo=None)\n",
    "\n",
    "    print(utc_naive_dt)\n",
    "else:\n",
    "    print(\"Failed to parse the input string.\")\n"
   ]
  },
  {
   "cell_type": "markdown",
   "id": "amended-illustration",
   "metadata": {},
   "source": [
    "#### Question 2"
   ]
  },
  {
   "cell_type": "markdown",
   "id": "massive-input",
   "metadata": {},
   "source": [
    "Use the `requests` library to load the following html page:"
   ]
  },
  {
   "cell_type": "code",
   "execution_count": 2,
   "id": "understanding-softball",
   "metadata": {},
   "outputs": [],
   "source": [
    "url = 'https://en.wikipedia.org/wiki/John_von_Neumann'"
   ]
  },
  {
   "cell_type": "markdown",
   "id": "systematic-shock",
   "metadata": {},
   "source": [
    "Once you have loaded that page, extract the title of that page, which is the text located between the `<title>` and `</title>` tags (often referred to as opening and closing tags, or start and end tags, respectively)."
   ]
  },
  {
   "cell_type": "markdown",
   "id": "equivalent-divide",
   "metadata": {},
   "source": [
    "Hint: You'll want to read the Python docs for the `find` method available for strings:\n",
    "\n",
    "https://docs.python.org/3/library/stdtypes.html?highlight=string#str.find\n",
    "\n",
    "### Solution"
   ]
  },
  {
   "cell_type": "code",
   "execution_count": 5,
   "id": "5e774195",
   "metadata": {},
   "outputs": [
    {
     "name": "stderr",
     "output_type": "stream",
     "text": [
      "C:\\Users\\Lenovo\\anaconda3\\lib\\site-packages\\requests\\__init__.py:102: RequestsDependencyWarning: urllib3 (1.26.9) or chardet (5.1.0)/charset_normalizer (2.0.4) doesn't match a supported version!\n",
      "  warnings.warn(\"urllib3 ({}) or chardet ({})/charset_normalizer ({}) doesn't match a supported \"\n"
     ]
    },
    {
     "name": "stdout",
     "output_type": "stream",
     "text": [
      "John von Neumann - Wikipedia\n"
     ]
    }
   ],
   "source": [
    "import requests\n",
    "\n",
    "url = 'https://en.wikipedia.org/wiki/John_von_Neumann'\n",
    "\n",
    "\n",
    "response = requests.get(url)\n",
    "html_content = response.text\n",
    "\n",
    "\n",
    "start_tag = \"<title>\"\n",
    "end_tag = \"</title>\"\n",
    "start_index = html_content.find(start_tag) + len(start_tag)\n",
    "end_index = html_content.find(end_tag)\n",
    "\n",
    "\n",
    "title = html_content[start_index:end_index]\n",
    "\n",
    "print(title)\n"
   ]
  },
  {
   "cell_type": "markdown",
   "id": "declared-appreciation",
   "metadata": {},
   "source": [
    "#### Question 3"
   ]
  },
  {
   "cell_type": "markdown",
   "id": "fifth-strength",
   "metadata": {},
   "source": [
    "Use a `GET` request to this URL:"
   ]
  },
  {
   "cell_type": "code",
   "execution_count": 3,
   "id": "coordinated-lounge",
   "metadata": {},
   "outputs": [],
   "source": [
    "url = 'https://httpbin.org/json'"
   ]
  },
  {
   "cell_type": "markdown",
   "id": "gross-vatican",
   "metadata": {},
   "source": [
    "Use the response from that request to:\n",
    "- determine the response format\n",
    "- extract the response into a Python object\n",
    "\n",
    "### Solution"
   ]
  },
  {
   "cell_type": "code",
   "execution_count": 6,
   "id": "2b56d031",
   "metadata": {},
   "outputs": [
    {
     "name": "stdout",
     "output_type": "stream",
     "text": [
      "Response Format: application/json\n",
      "Response Data: {'slideshow': {'author': 'Yours Truly', 'date': 'date of publication', 'slides': [{'title': 'Wake up to WonderWidgets!', 'type': 'all'}, {'items': ['Why <em>WonderWidgets</em> are great', 'Who <em>buys</em> WonderWidgets'], 'title': 'Overview', 'type': 'all'}], 'title': 'Sample Slide Show'}}\n"
     ]
    }
   ],
   "source": [
    "import requests\n",
    "import json\n",
    "\n",
    "url = 'https://httpbin.org/json'\n",
    "\n",
    "response = requests.get(url)\n",
    "\n",
    "response_format = response.headers.get('Content-Type')\n",
    "response_data = json.loads(response.text)\n",
    "\n",
    "print(\"Response Format:\", response_format)\n",
    "print(\"Response Data:\", response_data)\n"
   ]
  },
  {
   "cell_type": "markdown",
   "id": "molecular-click",
   "metadata": {},
   "source": [
    "#### Question 4"
   ]
  },
  {
   "cell_type": "markdown",
   "id": "transsexual-simple",
   "metadata": {},
   "source": [
    "Use a `POST` request to call this url:"
   ]
  },
  {
   "cell_type": "code",
   "execution_count": 4,
   "id": "funky-mistress",
   "metadata": {},
   "outputs": [],
   "source": [
    "url = 'https://httpbin.org/anything'"
   ]
  },
  {
   "cell_type": "markdown",
   "id": "diverse-alpha",
   "metadata": {},
   "source": [
    "Make this call passing the following query parameters: `a=1` and `b=2`"
   ]
  },
  {
   "cell_type": "markdown",
   "id": "early-reminder",
   "metadata": {},
   "source": [
    "Also, pass this dictionary as the body of the post request:"
   ]
  },
  {
   "cell_type": "code",
   "execution_count": 5,
   "id": "excessive-mouth",
   "metadata": {},
   "outputs": [],
   "source": [
    "data = {\n",
    "    'x': 100,\n",
    "    'y': 200,\n",
    "    'z': ['a', 'b', 'c']\n",
    "}"
   ]
  },
  {
   "cell_type": "markdown",
   "id": "announced-discharge",
   "metadata": {},
   "source": [
    "Load the returned JSON into a Python object and print it out.\n",
    "\n",
    "### Solution"
   ]
  },
  {
   "cell_type": "code",
   "execution_count": 7,
   "id": "6e939882",
   "metadata": {},
   "outputs": [
    {
     "name": "stdout",
     "output_type": "stream",
     "text": [
      "Response Data: {'args': {'a': '1', 'b': '2'}, 'data': '{\"x\": 100, \"y\": 200, \"z\": [\"a\", \"b\", \"c\"]}', 'files': {}, 'form': {}, 'headers': {'Accept': '*/*', 'Accept-Encoding': 'gzip, deflate, br', 'Content-Length': '42', 'Content-Type': 'application/json', 'Host': 'httpbin.org', 'User-Agent': 'python-requests/2.27.1', 'X-Amzn-Trace-Id': 'Root=1-646b68b3-070cf7594bfc261a0ff8ff99'}, 'json': {'x': 100, 'y': 200, 'z': ['a', 'b', 'c']}, 'method': 'POST', 'origin': '42.105.58.110', 'url': 'https://httpbin.org/anything?a=1&b=2'}\n"
     ]
    }
   ],
   "source": [
    "import requests\n",
    "import json\n",
    "\n",
    "url = 'https://httpbin.org/anything'\n",
    "\n",
    "params = {\n",
    "    'a': 1,\n",
    "    'b': 2\n",
    "}\n",
    "\n",
    "data = {\n",
    "    'x': 100,\n",
    "    'y': 200,\n",
    "    'z': ['a', 'b', 'c']\n",
    "}\n",
    "\n",
    "response = requests.post(url, params=params, json=data)\n",
    "response_data = response.json()\n",
    "\n",
    "print(\"Response Data:\", response_data)\n"
   ]
  },
  {
   "cell_type": "code",
   "execution_count": null,
   "id": "37b5f392",
   "metadata": {},
   "outputs": [],
   "source": []
  }
 ],
 "metadata": {
  "kernelspec": {
   "display_name": "Python 3 (ipykernel)",
   "language": "python",
   "name": "python3"
  },
  "language_info": {
   "codemirror_mode": {
    "name": "ipython",
    "version": 3
   },
   "file_extension": ".py",
   "mimetype": "text/x-python",
   "name": "python",
   "nbconvert_exporter": "python",
   "pygments_lexer": "ipython3",
   "version": "3.9.12"
  }
 },
 "nbformat": 4,
 "nbformat_minor": 5
}
