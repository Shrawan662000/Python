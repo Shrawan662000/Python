{
 "cells": [
  {
   "cell_type": "markdown",
   "id": "alert-document",
   "metadata": {},
   "source": [
    "### Solutions"
   ]
  },
  {
   "cell_type": "markdown",
   "id": "descending-cursor",
   "metadata": {},
   "source": [
    "#### Question 1"
   ]
  },
  {
   "cell_type": "markdown",
   "id": "fundamental-seven",
   "metadata": {},
   "source": [
    "Write a function that takes a variable number of arguments (with a minimum of one), and returns the average of these numbers.\n",
    "\n",
    "#### Solution"
   ]
  },
  {
   "cell_type": "code",
   "execution_count": 2,
   "id": "755e362c",
   "metadata": {},
   "outputs": [
    {
     "name": "stdout",
     "output_type": "stream",
     "text": [
      "5.0\n",
      "6.0\n",
      "10.0\n"
     ]
    }
   ],
   "source": [
    "def calculate_average(*args):\n",
    "    total = sum(args)\n",
    "    average = total / len(args)\n",
    "    return average\n",
    "\n",
    "result = calculate_average(2, 4, 6, 8)\n",
    "print(result)  \n",
    "\n",
    "result = calculate_average(1, 3, 5, 7, 9, 11)\n",
    "print(result)  \n",
    "\n",
    "result = calculate_average(10)\n",
    "print(result)  \n",
    "\n",
    "\n"
   ]
  },
  {
   "cell_type": "markdown",
   "id": "atlantic-edgar",
   "metadata": {},
   "source": [
    "#### Question 2"
   ]
  },
  {
   "cell_type": "markdown",
   "id": "alive-concrete",
   "metadata": {},
   "source": [
    "Write a function that returns a string based on two input arguments:\n",
    "- a character or string to be repeated\n",
    "- the number of times the string should be repeated"
   ]
  },
  {
   "cell_type": "markdown",
   "id": "green-opinion",
   "metadata": {},
   "source": [
    "The function should be such that the number of repetitions defaults to `10` if it is not passed by the caller, and the default character to be repeated should be a negative sign (`-`).\n",
    "\n",
    "Call your function `separator`.\n",
    "\n",
    "Use a keyword-only argument for the string argument.\n",
    "\n",
    "#### Solution"
   ]
  },
  {
   "cell_type": "code",
   "execution_count": 4,
   "id": "32006e53",
   "metadata": {},
   "outputs": [],
   "source": [
    "def separator(*, string=\"-\", repetitions=10):\n",
    "    repeated_string = string * repetitions\n",
    "    return repeated_string\n"
   ]
  },
  {
   "cell_type": "code",
   "execution_count": 5,
   "id": "ca557bfe",
   "metadata": {},
   "outputs": [
    {
     "name": "stdout",
     "output_type": "stream",
     "text": [
      "----------\n",
      "*****\n",
      "Hello Hello Hello \n",
      "--\n"
     ]
    }
   ],
   "source": [
    "result = separator()\n",
    "print(result)  \n",
    "\n",
    "result = separator(string=\"*\", repetitions=5)\n",
    "print(result)  \n",
    "\n",
    "result = separator(string=\"Hello \", repetitions=3)\n",
    "print(result) \n",
    "\n",
    "result = separator(repetitions=2)\n",
    "print(result)  \n"
   ]
  },
  {
   "cell_type": "markdown",
   "id": "elegant-glass",
   "metadata": {},
   "source": [
    "#### Question 3"
   ]
  },
  {
   "cell_type": "markdown",
   "id": "thrown-theology",
   "metadata": {},
   "source": [
    "Write a lambda function that returns the number of unique elements in an iterable. This could be the number of unique characters in a string, or the number of unique elements in a list, tuple, etc.\n",
    "\n",
    "If the iterable received by the lambda function is empty, then it should return `0`.\n",
    "\n",
    "#### Solutions"
   ]
  },
  {
   "cell_type": "code",
   "execution_count": 31,
   "id": "3f29f3c3",
   "metadata": {},
   "outputs": [],
   "source": [
    "count_unique = lambda iterable: len(set(iterable)) if iterable else 0\n"
   ]
  },
  {
   "cell_type": "code",
   "execution_count": 33,
   "id": "85625c5d",
   "metadata": {},
   "outputs": [
    {
     "name": "stdout",
     "output_type": "stream",
     "text": [
      "6\n",
      "3\n",
      "0\n"
     ]
    }
   ],
   "source": [
    "print(count_unique(\"shrawan\"))     \n",
    "print(count_unique([1, 2, 3, 2])) \n",
    "print(count_unique([]))           \n"
   ]
  },
  {
   "cell_type": "markdown",
   "id": "earlier-community",
   "metadata": {},
   "source": [
    "\n",
    "#### Question 4"
   ]
  },
  {
   "cell_type": "markdown",
   "id": "criminal-heritage",
   "metadata": {},
   "source": [
    "Write a function that receives a string as an argument (defaults to an empty string) and returns a dictionary with the unique words and their frequency."
   ]
  },
  {
   "cell_type": "markdown",
   "id": "loose-brooks",
   "metadata": {},
   "source": [
    "For example, for a string such as:\n",
    "\n",
    "```\n",
    "This is the first sentence. This is the scecond sentence. This is not the fourth sentence, it is the third sentence.\n",
    "```\n",
    "\n",
    "the result of the function should be:"
   ]
  },
  {
   "cell_type": "code",
   "execution_count": 1,
   "id": "middle-public",
   "metadata": {},
   "outputs": [],
   "source": [
    "result = {\n",
    "    'This': 3,\n",
    "    'is': 4,\n",
    "    'the': 4,\n",
    "    'first': 1,\n",
    "    'sentence': 4,\n",
    "    'scecond': 1,\n",
    "    'not': 1,\n",
    "    'fourth': 1,\n",
    "    'it': 1,\n",
    "    'third': 1\n",
    "}"
   ]
  },
  {
   "cell_type": "markdown",
   "id": "sonic-civilization",
   "metadata": {},
   "source": [
    "You may assume that word separators are limited to spaces, commas, and periods (no newline characters)."
   ]
  },
  {
   "cell_type": "markdown",
   "id": "finished-collar",
   "metadata": {},
   "source": [
    "Hint: You will want to split based on some character. Problem is that we really need to split based on three different characters: spaces, commas and periods. One approach would be to replace all commas and periods with spaces and then split on spaces.\n",
    "\n",
    "#### Solution"
   ]
  },
  {
   "cell_type": "code",
   "execution_count": 34,
   "id": "cbdcbc3e",
   "metadata": {},
   "outputs": [],
   "source": [
    "def count_word_frequency(sentence=\"\"):\n",
    "    separators = [\" \", \",\", \".\"]\n",
    "    for separator in separators:\n",
    "        sentence = sentence.replace(separator, \" \")\n",
    "    words = sentence.split()\n",
    "\n",
    "    word_frequency = {}\n",
    "    for word in words:\n",
    "        if word in word_frequency:\n",
    "            word_frequency[word] += 1\n",
    "        else:\n",
    "            word_frequency[word] = 1\n",
    "\n",
    "    return word_frequency\n"
   ]
  },
  {
   "cell_type": "code",
   "execution_count": 37,
   "id": "c59427de",
   "metadata": {},
   "outputs": [
    {
     "name": "stdout",
     "output_type": "stream",
     "text": [
      "{'My': 2, 'name': 1, 'is': 3, 'Shrawan': 1, 'job': 1, 'profile': 1, 'Associate': 1, 'Data': 2, 'scientist': 1, 'everything': 1}\n"
     ]
    }
   ],
   "source": [
    "sentence = \"My name is Shrawan, My job profile is Associate Data scientist, Data is everything.\"\n",
    "result = count_word_frequency(sentence)\n",
    "print(result)\n"
   ]
  },
  {
   "cell_type": "code",
   "execution_count": null,
   "id": "98ac6a99",
   "metadata": {},
   "outputs": [],
   "source": []
  }
 ],
 "metadata": {
  "kernelspec": {
   "display_name": "Python 3 (ipykernel)",
   "language": "python",
   "name": "python3"
  },
  "language_info": {
   "codemirror_mode": {
    "name": "ipython",
    "version": 3
   },
   "file_extension": ".py",
   "mimetype": "text/x-python",
   "name": "python",
   "nbconvert_exporter": "python",
   "pygments_lexer": "ipython3",
   "version": "3.9.12"
  }
 },
 "nbformat": 4,
 "nbformat_minor": 5
}
