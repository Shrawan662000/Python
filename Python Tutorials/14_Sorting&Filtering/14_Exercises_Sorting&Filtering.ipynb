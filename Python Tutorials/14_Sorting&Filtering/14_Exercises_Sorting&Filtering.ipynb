{
 "cells": [
  {
   "cell_type": "markdown",
   "id": "shared-intranet",
   "metadata": {},
   "source": [
    "### Exercises"
   ]
  },
  {
   "cell_type": "markdown",
   "id": "persistent-wrapping",
   "metadata": {},
   "source": [
    "#### Question 1"
   ]
  },
  {
   "cell_type": "markdown",
   "id": "coupled-fraction",
   "metadata": {},
   "source": [
    "Given a list of tuples containing two numerical values, write a function that returns a list of the same tuples, sorted by the absolute value of the difference between the two numbers, in descending order."
   ]
  },
  {
   "cell_type": "markdown",
   "id": "human-beatles",
   "metadata": {},
   "source": [
    "For example, if the input is:"
   ]
  },
  {
   "cell_type": "code",
   "execution_count": 4,
   "id": "promotional-conference",
   "metadata": {},
   "outputs": [],
   "source": [
    "l = [\n",
    "    (1, 2),\n",
    "    (-4, -5.5),\n",
    "    (10, -10),\n",
    "    (-2, 2)\n",
    "]"
   ]
  },
  {
   "cell_type": "markdown",
   "id": "beginning-verification",
   "metadata": {},
   "source": [
    "Then the return value of the function should be:\n",
    "\n",
    "```\n",
    "[\n",
    "  (10, -10)\n",
    "  (-2, 2),\n",
    "  (-4, -5.5),\n",
    "  (1, 2)\n",
    "]\n",
    "```\n",
    "\n",
    "#### Solution"
   ]
  },
  {
   "cell_type": "code",
   "execution_count": 9,
   "id": "63b8d99e",
   "metadata": {},
   "outputs": [],
   "source": [
    "def sort_tuples_by_absolute_difference(lst):\n",
    "    return sorted(lst, key=lambda x: abs(x[0] - x[1]), reverse=True)\n"
   ]
  },
  {
   "cell_type": "code",
   "execution_count": 10,
   "id": "95e9f7f9",
   "metadata": {},
   "outputs": [
    {
     "name": "stdout",
     "output_type": "stream",
     "text": [
      "[(10, -10), (-2, 2), (-4, -5.5), (1, 2)]\n"
     ]
    }
   ],
   "source": [
    "data = [\n",
    "    (1, 2),\n",
    "    (-4, -5.5),\n",
    "    (10, -10),\n",
    "    (-2, 2)\n",
    "]\n",
    "\n",
    "sorted_data = sort_tuples_by_absolute_difference(data)\n",
    "print(sorted_data)\n"
   ]
  },
  {
   "cell_type": "markdown",
   "id": "enormous-fabric",
   "metadata": {},
   "source": [
    "#### Question 2"
   ]
  },
  {
   "cell_type": "markdown",
   "id": "distinguished-flood",
   "metadata": {},
   "source": [
    "Given the following data:"
   ]
  },
  {
   "cell_type": "code",
   "execution_count": 10,
   "id": "specified-matrix",
   "metadata": {},
   "outputs": [],
   "source": [
    "suits = 'shdc'  # Spades, Hearts, Diamonds, Clubs\n",
    "ranks = list('23456789') + ['10', 'J', 'Q', 'K', 'A']"
   ]
  },
  {
   "cell_type": "markdown",
   "id": "naval-hometown",
   "metadata": {},
   "source": [
    "Write a function that given those two inputs, returns a list with all 52 cards, i.e.\n",
    "\n",
    "```\n",
    "[\n",
    "  ['2s', '3s', ..., 'Ks', 'As'],\n",
    "  ['2h', '3h', ..., 'Kh', 'Ah'],\n",
    "  ...\n",
    "]\n",
    "```"
   ]
  },
  {
   "cell_type": "markdown",
   "id": "informed-visit",
   "metadata": {},
   "source": [
    "Then, enhance this function so that an optional argument can be used to specify whether the cards in each suit should be sorted in ascending or descending rank order (assume `A` has the highest rank in its suit).\n",
    "\n",
    "#### Solutions"
   ]
  },
  {
   "cell_type": "code",
   "execution_count": 14,
   "id": "064d8bc5",
   "metadata": {},
   "outputs": [],
   "source": [
    "def generate_deck(suits, ranks, sort_order):\n",
    "    deck = [(rank, suit) for suit in suits for rank in ranks]\n",
    "\n",
    "    if sort_order == 'ascending':\n",
    "        deck.sort(key=lambda card: (ranks.index(card[0]), card[1]))\n",
    "    elif sort_order == 'descending':\n",
    "        deck.sort(key=lambda card: (-ranks.index(card[0]), card[1]))\n",
    "\n",
    "    return [list(map(''.join, deck[i:i + len(ranks)])) for i in range(0, len(deck), len(ranks))]\n"
   ]
  },
  {
   "cell_type": "code",
   "execution_count": 15,
   "id": "80556a2d",
   "metadata": {},
   "outputs": [
    {
     "name": "stdout",
     "output_type": "stream",
     "text": [
      "['2c', '2d', '2h', '2s', '3c', '3d', '3h', '3s', '4c', '4d', '4h', '4s', '5c']\n",
      "['5d', '5h', '5s', '6c', '6d', '6h', '6s', '7c', '7d', '7h', '7s', '8c', '8d']\n",
      "['8h', '8s', '9c', '9d', '9h', '9s', '10c', '10d', '10h', '10s', 'Jc', 'Jd', 'Jh']\n",
      "['Js', 'Qc', 'Qd', 'Qh', 'Qs', 'Kc', 'Kd', 'Kh', 'Ks', 'Ac', 'Ad', 'Ah', 'As']\n",
      "['Ac', 'Ad', 'Ah', 'As', 'Kc', 'Kd', 'Kh', 'Ks', 'Qc', 'Qd', 'Qh', 'Qs', 'Jc']\n",
      "['Jd', 'Jh', 'Js', '10c', '10d', '10h', '10s', '9c', '9d', '9h', '9s', '8c', '8d']\n",
      "['8h', '8s', '7c', '7d', '7h', '7s', '6c', '6d', '6h', '6s', '5c', '5d', '5h']\n",
      "['5s', '4c', '4d', '4h', '4s', '3c', '3d', '3h', '3s', '2c', '2d', '2h', '2s']\n"
     ]
    }
   ],
   "source": [
    "suits = 'shdc'\n",
    "ranks = list('23456789') + ['10', 'J', 'Q', 'K', 'A']\n",
    "\n",
    "ascending_deck = generate_deck(suits, ranks, sort_order='ascending')\n",
    "descending_deck = generate_deck(suits, ranks, sort_order='descending')\n",
    "\n",
    "# Print the ascending deck\n",
    "for cards in ascending_deck:\n",
    "    print(cards)\n",
    "\n",
    "# Print the descending deck\n",
    "for cards in descending_deck:\n",
    "    print(cards)\n"
   ]
  },
  {
   "cell_type": "markdown",
   "id": "connected-studio",
   "metadata": {},
   "source": [
    "#### Question 3"
   ]
  },
  {
   "cell_type": "markdown",
   "id": "prostate-directory",
   "metadata": {},
   "source": [
    "Suppose we are given some data consisting of symbols (the keys in the dictionary) and values being a tuple containing Open/High/Low/Close values for that symbol.\n",
    "\n",
    "For example:"
   ]
  },
  {
   "cell_type": "code",
   "execution_count": 37,
   "id": "transsexual-novel",
   "metadata": {},
   "outputs": [],
   "source": [
    "data = {\n",
    "    'S1': (100, 200, 80, 180),\n",
    "    'S2': (10, 20, 8, 18),\n",
    "    'S3': (50, 150, 50, 150)\n",
    "}"
   ]
  },
  {
   "cell_type": "markdown",
   "id": "broadband-holocaust",
   "metadata": {},
   "source": [
    "Write a function that given this data as input, returns the symbol whose `high - low` is smallest."
   ]
  },
  {
   "cell_type": "markdown",
   "id": "clinical-mentor",
   "metadata": {},
   "source": [
    "Expand on your function so that it will either return the symbol with smallest or largest high/low difference, based on an extra argument passed to the function.\n",
    "\n",
    "#### Solution"
   ]
  },
  {
   "cell_type": "code",
   "execution_count": 16,
   "id": "89400bcd",
   "metadata": {},
   "outputs": [],
   "source": [
    "def find_symbol_with_extremum(data, is_smallest=True):\n",
    "    extremum_func = min if is_smallest else max\n",
    "    symbol_extremum = extremum_func(data, key=lambda symbol: data[symbol][1] - data[symbol][2])\n",
    "    return symbol_extremum\n"
   ]
  },
  {
   "cell_type": "code",
   "execution_count": 17,
   "id": "bb3c47eb",
   "metadata": {},
   "outputs": [
    {
     "name": "stdout",
     "output_type": "stream",
     "text": [
      "Symbol with the smallest high-low difference: S2\n"
     ]
    }
   ],
   "source": [
    "data = {\n",
    "    'S1': (100, 200, 80, 180),\n",
    "    'S2': (10, 20, 8, 18),\n",
    "    'S3': (50, 150, 50, 150)\n",
    "}\n",
    "\n",
    "smallest_diff_symbol = find_symbol_with_extremum(data, is_smallest=True)\n",
    "print(\"Symbol with the smallest high-low difference:\", smallest_diff_symbol)\n"
   ]
  },
  {
   "cell_type": "markdown",
   "id": "animal-preliminary",
   "metadata": {},
   "source": [
    "#### Question 4"
   ]
  },
  {
   "cell_type": "markdown",
   "id": "governmental-february",
   "metadata": {},
   "source": [
    "Given data that might look like this:"
   ]
  },
  {
   "cell_type": "code",
   "execution_count": 54,
   "id": "liable-deviation",
   "metadata": {},
   "outputs": [],
   "source": [
    "quotes = [\n",
    "    ('AACC', 6.05, 6.07, 6.03, 6.05, 65800),\n",
    "    ('AAME', 1.7, 1.82, 1.7, 1.82, 4300),\n",
    "    ('AAON', 24.98, 25.07, 24.9, 24.94, 28200),\n",
    "    ('AAPL', 317.99, 319.57, 316.75, 317.13, 12901800),\n",
    "    ('AATI', 3.82, 3.82, 3.74, 3.79, 194600),\n",
    "    ('AAWW', 60.89, 61.44, 60.5, 61.19, 272800),\n",
    "    ('AAXJ', 65.4, 65.71, 65.28, 65.56, 390300),\n",
    "    ('ABAT', 4.01, 4.01, 3.95, 3.99, 656300),\n",
    "    ('ABAX', 25.26, 25.49, 25.04, 25.42, 73700),\n",
    "    ('ABBC', 11.75, 11.88, 11.48, 11.53, 29700),\n",
    "    ('ABCB', 9.3, 9.3, 9.06, 9.14, 42600),\n",
    "    ('ABCD', 3.25, 3.25, 3.11, 3.22, 122800),\n",
    "    ('ABCO', 48.75, 50.41, 46.9, 50.37, 66300),\n",
    "    ('ABCW', 0.52, 0.61, 0.52, 0.53, 83000),\n",
    "    ('ABFS', 25.98, 26.27, 25.41, 25.5, 384900),\n",
    "    ('ABIO', 3.96, 4, 3.88, 4, 38500),\n",
    "    ('ABMD', 11.94, 12, 11.69, 11.87, 122600),\n",
    "    ('ABTL', 0.82, 0.84, 0.82, 0.83, 28700),\n",
    "    ('ABVA', 3.09, 3.25, 3.09, 3.25, 6200),\n",
    "    ('ACAD', 0.76, 0.76, 0.7, 0.74, 341500),\n",
    "    ('ACAS', 7.52, 7.72, 7.52, 7.66, 5199800),\n",
    "    ('ACAT', 14.44, 14.44, 14.04, 14.2, 51700),\n",
    "    ('ACCL', 8.11, 8.21, 7.94, 8.1, 456100),\n",
    "    ('ACET', 8.01, 8.04, 7.13, 7.73, 575600),\n",
    "    ('ACFC', 1.69, 1.7, 1.5, 1.6, 12300),\n",
    "    ('ACFN', 3.82, 4, 3.82, 3.98, 53700),\n",
    "    ('ACGL', 89.76, 90.14, 89.39, 89.92, 240900),\n",
    "    ('ACGY', 22.41, 22.56, 22.25, 22.46, 86800),\n",
    "    ('ACHN', 3.12, 3.2, 3.07, 3.16, 113700),\n",
    "    ('ACIW', 26.96, 27.03, 26.63, 26.8, 157000),\n",
    "    ('ACLI', 33.65, 33.77, 33.45, 33.63, 28700),\n",
    "    ('ACLS', 2.47, 2.63, 2.46, 2.53, 1818800),\n",
    "    ('ACMR', 2.69, 2.84, 2.37, 2.71, 158600),\n",
    "    ('ACOM', 25.2, 26.6, 24.9, 26.56, 265300),\n",
    "    ('ACOR', 26.67, 27.07, 26.38, 27.04, 1415000),\n",
    "    ('ACPW', 1.84, 1.89, 1.77, 1.85, 565500),\n",
    "    ('ACTG', 27.2, 27.43, 26.86, 27.18, 228800),\n",
    "    ('ACTI', 3.25, 3.26, 3.25, 3.26, 148500),\n",
    "    ('ACTS', 2.08, 2.09, 2.07, 2.07, 130500),\n",
    "    ('ACUR', 2.6, 2.64, 2.51, 2.6, 16000),\n",
    "    ('ACWI', 46.53, 46.7, 46.32, 46.51, 286200),\n",
    "    ('ACWX', 44.49, 44.66, 44.36, 44.6, 55500),\n",
    "    ('ACXM', 18, 18.07, 17.81, 18.01, 289800),\n",
    "    ('ADAM', 7.34, 7.49, 7.33, 7.44, 81700),\n",
    "    ('ADAT', 0.6, 0.68, 0.59, 0.66, 86400),\n",
    "    ('ADBE', 29.43, 29.71, 29.07, 29.14, 7585300),\n",
    "    ('ADCT', 12.68, 12.69, 12.66, 12.68, 1660500),\n",
    "    ('ADEP', 6.14, 6.14, 4.95, 5.61, 71000),\n",
    "    ('ADES', 6.2, 6.22, 6, 6.19, 4800),\n",
    "    ('ADGF', 4.31, 4.55, 4.31, 4.54, 10200)\n",
    "]"
   ]
  },
  {
   "cell_type": "markdown",
   "id": "vital-storage",
   "metadata": {},
   "source": [
    "where each tuple consists of the following data: \n",
    "```\n",
    "(symbol, open, high, low, close, volume)\n",
    "```"
   ]
  },
  {
   "cell_type": "markdown",
   "id": "developmental-shelter",
   "metadata": {},
   "source": [
    "Use the `filter` function to generate a list of rows where the `close` value is more than `10%` away from the `high` value."
   ]
  },
  {
   "cell_type": "markdown",
   "id": "balanced-malta",
   "metadata": {},
   "source": [
    "Once you have done this succesfully, modify your code so that we can use any value for the percentage instead of this fixed 10%.\n",
    "\n",
    "#### Solution"
   ]
  },
  {
   "cell_type": "code",
   "execution_count": 20,
   "id": "e5a68a9f",
   "metadata": {},
   "outputs": [],
   "source": [
    "def filter_rows(quotes, percentage):\n",
    "    filtered_rows = list(filter(lambda quote: quote[4] > (1 + percentage/100) * quote[2], quotes))\n",
    "    return filtered_rows\n"
   ]
  },
  {
   "cell_type": "code",
   "execution_count": 28,
   "id": "63d87300",
   "metadata": {},
   "outputs": [
    {
     "name": "stdout",
     "output_type": "stream",
     "text": [
      "Rows where the close value is more than 10 % away from the high value:\n",
      "[]\n"
     ]
    }
   ],
   "source": [
    "quotes = [\n",
    "    ('AACC', 6.05, 6.07, 6.03, 6.05, 65800),\n",
    "    ('AAME', 1.7, 1.82, 1.7, 1.82, 4300),\n",
    "    ('AAON', 24.98, 25.07, 24.9, 24.94, 28200),\n",
    "    ('AAPL', 317.99, 319.57, 316.75, 317.13, 12901800),\n",
    "    ('AATI', 3.82, 3.82, 3.74, 3.79, 194600),\n",
    "    ('AAWW', 60.89, 61.44, 60.5, 61.19, 272800),\n",
    "    ('AAXJ', 65.4, 65.71, 65.28, 65.56, 390300),\n",
    "    ('ABAT', 4.01, 4.01, 3.95, 3.99, 656300),\n",
    "    ('ABAX', 25.26, 25.49, 25.04, 25.42, 73700),\n",
    "    ('ABBC', 11.75, 11.88, 11.48, 11.53, 29700),\n",
    "    ('ABCB', 9.3, 9.3, 9.06, 9.14, 42600),\n",
    "    ('ABCD', 3.25, 3.25, 3.11, 3.22, 122800),\n",
    "    ('ABCO', 48.75, 50.41, 46.9, 50.37, 66300),\n",
    "    ('ABCW', 0.52, 0.61, 0.52, 0.53, 83000),\n",
    "    ('ABFS', 25.98, 26.27, 25.41, 25.5, 384900),\n",
    "    ('ABIO', 3.96, 4, 3.88, 4, 38500),\n",
    "    ('ABMD', 11.94, 12, 11.69, 11.87, 122600),\n",
    "    ('ABTL', 0.82, 0.84, 0.82, 0.83, 28700),\n",
    "    ('ABVA', 3.09, 3.25, 3.09, 3.25, 6200),\n",
    "    ('ACAD', 0.76, 0.76, 0.7, 0.74, 341500),\n",
    "    ('ACAS', 7.52, 7.72, 7.52, 7.66, 5199800),\n",
    "    ('ACAT', 14.44, 14.44, 14.04, 14.2, 51700),\n",
    "    ('ACCL', 8.11, 8.21, 7.94, 8.1, 456100),\n",
    "    ('ACET', 8.01, 8.04, 7.13, 7.73, 575600),\n",
    "    ('ACFC', 1.69, 1.7, 1.5, 1.6, 12300),\n",
    "    ('ACFN', 3.82, 4, 3.82, 3.98, 53700),\n",
    "    ('ACGL', 89.76, 90.14, 89.39, 89.92, 240900),\n",
    "    ('ACGY', 22.41, 22.56, 22.25, 22.46, 86800),\n",
    "    ('ACHN', 3.12, 3.2, 3.07, 3.16, 113700),\n",
    "    ('ACIW', 26.96, 27.03, 26.63, 26.8, 157000),\n",
    "    ('ACLI', 33.65, 33.77, 33.45, 33.63, 28700),\n",
    "    ('ACLS', 2.47, 2.63, 2.46, 2.53, 1818800),\n",
    "    ('ACMR', 2.69, 2.84, 2.37, 2.71, 158600),\n",
    "    ('ACOM', 25.2, 26.6, 24.9, 26.56, 265300),\n",
    "    ('ACOR', 26.67, 27.07, 26.38, 27.04, 1415000),\n",
    "    ('ACPW', 1.84, 1.89, 1.77, 1.85, 565500),\n",
    "    ('ACTG', 27.2, 27.43, 26.86, 27.18, 228800),\n",
    "    ('ACTI', 3.25, 3.26, 3.25, 3.26, 148500),\n",
    "    ('ACTS', 2.08, 2.09, 2.07, 2.07, 130500),\n",
    "    ('ACUR', 2.6, 2.64, 2.51, 2.6, 16000),\n",
    "    ('ACWI', 46.53, 46.7, 46.32, 46.51, 286200),\n",
    "    ('ACWX', 44.49, 44.66, 44.36, 44.6, 55500),\n",
    "    ('ACXM', 18, 18.07, 17.81, 18.01, 289800),\n",
    "    ('ADAM', 7.34, 7.49, 7.33, 7.44, 81700),\n",
    "    ('ADAT', 0.6, 0.68, 0.59, 0.66, 86400),\n",
    "    ('ADBE', 29.43, 29.71, 29.07, 29.14, 7585300),\n",
    "    ('ADCT', 12.68, 12.69, 12.66, 12.68, 1660500),\n",
    "    ('ADEP', 6.14, 6.14, 4.95, 5.61, 71000),\n",
    "    ('ADES', 6.2, 6.22, 6, 6.19, 4800),\n",
    "    ('ADGF', 4.31, 4.55, 4.31, 4.54, 10200)\n",
    "]\n",
    "\n",
    "percentage = 10  \n",
    "\n",
    "filtered_rows = filter_rows(quotes, percentage)\n",
    "\n",
    "print(\"Rows where the close value is more than\", percentage, \"% away from the high value:\")\n",
    "print(filtered_rows)\n"
   ]
  },
  {
   "cell_type": "markdown",
   "id": "heated-advocacy",
   "metadata": {},
   "source": [
    "#### Question 5"
   ]
  },
  {
   "cell_type": "markdown",
   "id": "improved-class",
   "metadata": {},
   "source": [
    "Given an arbitrary list of numbers, write an expression that returns the smallest value in the list based on the absolute values of ech number."
   ]
  },
  {
   "cell_type": "markdown",
   "id": "varied-mercury",
   "metadata": {},
   "source": [
    "For example, given the list:"
   ]
  },
  {
   "cell_type": "code",
   "execution_count": 2,
   "id": "similar-kelly",
   "metadata": {},
   "outputs": [],
   "source": [
    "l = [5, 6, -4, 8]"
   ]
  },
  {
   "cell_type": "markdown",
   "id": "great-weekly",
   "metadata": {},
   "source": [
    "Your expression should return `-4`.\n",
    "\n",
    "#### Solution:"
   ]
  },
  {
   "cell_type": "code",
   "execution_count": 29,
   "id": "7d8d9a3a",
   "metadata": {},
   "outputs": [
    {
     "data": {
      "text/plain": [
       "-4"
      ]
     },
     "execution_count": 29,
     "metadata": {},
     "output_type": "execute_result"
    }
   ],
   "source": [
    "l = [5, 6, -4, 8]\n",
    "res=min(l, key=abs)\n",
    "res"
   ]
  },
  {
   "cell_type": "code",
   "execution_count": null,
   "id": "20857738",
   "metadata": {},
   "outputs": [],
   "source": []
  }
 ],
 "metadata": {
  "kernelspec": {
   "display_name": "Python 3 (ipykernel)",
   "language": "python",
   "name": "python3"
  },
  "language_info": {
   "codemirror_mode": {
    "name": "ipython",
    "version": 3
   },
   "file_extension": ".py",
   "mimetype": "text/x-python",
   "name": "python",
   "nbconvert_exporter": "python",
   "pygments_lexer": "ipython3",
   "version": "3.9.12"
  }
 },
 "nbformat": 4,
 "nbformat_minor": 5
}
