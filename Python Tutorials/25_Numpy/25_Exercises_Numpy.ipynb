{
 "cells": [
  {
   "cell_type": "markdown",
   "id": "complimentary-glory",
   "metadata": {},
   "source": [
    "### Exercises"
   ]
  },
  {
   "cell_type": "markdown",
   "id": "collected-sacramento",
   "metadata": {},
   "source": [
    "#### Question 1"
   ]
  },
  {
   "cell_type": "markdown",
   "id": "bizarre-definition",
   "metadata": {},
   "source": [
    "The accompanying file `data.csv` contains information for the value `x` of something observed at time `t`."
   ]
  },
  {
   "cell_type": "markdown",
   "id": "vocational-remains",
   "metadata": {},
   "source": [
    "Given this data, we want to calculate the rate of change of this value over time - we'll do this by taking two consecutive observations, say $x(t_i)$ and $x(t_{i+1})$ and approximate the rate of change using this formula:\n",
    "\n",
    "$$\n",
    "v(t_{i+1}) = \\frac{x(t_{i+1}) - x(t_i)}{t_{i+1} - t_i}\n",
    "$$"
   ]
  },
  {
   "cell_type": "markdown",
   "id": "affected-rocket",
   "metadata": {},
   "source": [
    "For example, if the data looks like this:\n",
    "\n",
    "```\n",
    "t     x\n",
    "0.1   10\n",
    "0.2   12\n",
    "0.4   14\n",
    "0.5   15\n",
    "```"
   ]
  },
  {
   "cell_type": "markdown",
   "id": "alternate-nudist",
   "metadata": {},
   "source": [
    "Then the first row of data would be considered $t_0$, the second row $t_1$, etc"
   ]
  },
  {
   "cell_type": "markdown",
   "id": "ancient-decade",
   "metadata": {},
   "source": [
    "And we can start approximating the rate of change starting at $v_1$ which would be calculated as:\n",
    "\n",
    "$$\n",
    "v_1 = \\frac{12 - 10}{0.2 - 0.1} = 20.0\n",
    "$$"
   ]
  },
  {
   "cell_type": "markdown",
   "id": "toxic-doctrine",
   "metadata": {},
   "source": [
    "Similarly, $v_2$ would be calculated as:\n",
    "\n",
    "$$\n",
    "v_2 = \\frac{14 - 12}{0.4 - 0.2} = 10.0\n",
    "$$"
   ]
  },
  {
   "cell_type": "markdown",
   "id": "second-participant",
   "metadata": {},
   "source": [
    "Use NumPy arrays to create an array that holds the calculated rates of change and determine the minimum, maximum, average and standard deviation of the rate of change.\n",
    "\n",
    "\n",
    "#### Solution"
   ]
  },
  {
   "cell_type": "code",
   "execution_count": 6,
   "id": "d40d760c",
   "metadata": {},
   "outputs": [
    {
     "name": "stdout",
     "output_type": "stream",
     "text": [
      "Minimum rate of change: 29.42739859222208\n",
      "Maximum rate of change: 69.07300506151955\n",
      "Average rate of change: 49.98125178748103\n",
      "Standard deviation of rate of change: 9.043463532187475\n"
     ]
    }
   ],
   "source": [
    "import numpy as np\n",
    "import pandas as pd\n",
    "\n",
    "# Read the data from the CSV file\n",
    "data = pd.read_csv('data.csv')\n",
    "\n",
    "# Get the 't' and 'x' columns from the data\n",
    "t_values = data['t'].values\n",
    "x_values = data['x'].values\n",
    "\n",
    "# Calculate the rates of change\n",
    "v_values = np.diff(x_values) / np.diff(t_values)\n",
    "\n",
    "# Calculate the statistics of the rates of change\n",
    "minimum = np.min(v_values)\n",
    "maximum = np.max(v_values)\n",
    "average = np.mean(v_values)\n",
    "std_deviation = np.std(v_values)\n",
    "\n",
    "print(\"Minimum rate of change:\", minimum)\n",
    "print(\"Maximum rate of change:\", maximum)\n",
    "print(\"Average rate of change:\", average)\n",
    "print(\"Standard deviation of rate of change:\", std_deviation)\n"
   ]
  },
  {
   "cell_type": "markdown",
   "id": "compliant-mexico",
   "metadata": {},
   "source": [
    "#### Question 2"
   ]
  },
  {
   "cell_type": "markdown",
   "id": "polished-ebony",
   "metadata": {},
   "source": [
    "In linear regression we try to find the coefficients `m` (slope) and `c` (y-intercept) of a straight line\n",
    "\n",
    "$$\n",
    "y = mx + c\n",
    "$$\n",
    "\n",
    "that provides the \"best\" fit given some `x` and `y` data. This formula then allows to predict `y` values for given `x` values."
   ]
  },
  {
   "cell_type": "markdown",
   "id": "gorgeous-assets",
   "metadata": {},
   "source": [
    "Given an array of `n` `(x, y)` data pairs, these coefficients can be calculated very simply."
   ]
  },
  {
   "cell_type": "markdown",
   "id": "failing-tours",
   "metadata": {},
   "source": [
    "A bit of terminology first:"
   ]
  },
  {
   "cell_type": "markdown",
   "id": "liable-civilization",
   "metadata": {},
   "source": [
    "- Let `X` mean the column of `X` values.\n",
    "- Let `Y` mean the column of `Y` values.\n",
    "- Let `XX` mean a column calculated by multiplying each `x` in the `X` column by itself\n",
    "- Let `XY` mean a column calculated by multiplying the `x` and `y` values from the `X` and `Y` columns"
   ]
  },
  {
   "cell_type": "markdown",
   "id": "divine-texas",
   "metadata": {},
   "source": [
    "Then, given some column (say `X`), this symbol: $\\sum{X}$ means the sum of all the elements in the column.\n",
    "\n",
    "Similarly, the symbol $\\sum{XY}$ means the sum of the values obtained by multiplying (pairwise) the values in `X` and `Y`."
   ]
  },
  {
   "cell_type": "markdown",
   "id": "lonely-reward",
   "metadata": {},
   "source": [
    "Given those definitions, the formulas for calculating the \"best\" values of `m` and `c` are given by:"
   ]
  },
  {
   "cell_type": "markdown",
   "id": "engaged-positive",
   "metadata": {},
   "source": [
    "$$\n",
    "m = \\frac{n\\sum{XY} - \\sum{X}\\sum{Y}}{n\\sum{XX} - (\\sum{X})^2}\n",
    "$$"
   ]
  },
  {
   "cell_type": "markdown",
   "id": "japanese-breakfast",
   "metadata": {},
   "source": [
    "$$\n",
    "c = \\frac{\\sum{Y}\\sum{XX} - \\sum{X}\\sum{XY}}{n\\sum{XX} - (\\sum{X})^2}\n",
    "$$"
   ]
  },
  {
   "cell_type": "markdown",
   "id": "collect-guidance",
   "metadata": {},
   "source": [
    "(where `n` is the number of `(x,y)` pairs in our data set.)"
   ]
  },
  {
   "cell_type": "markdown",
   "id": "suspended-calgary",
   "metadata": {},
   "source": [
    "Using the same data we saw in Question 1, calculate the values for `m` and `c` for that data set given the formulas above.\n",
    "\n",
    "You can think of the `t` column in the data as the `X` column, and the `x` values in the data as the `Y` column - we are trying to predict the value of `x` given a value of `t`."
   ]
  },
  {
   "cell_type": "markdown",
   "id": "classical-theorem",
   "metadata": {},
   "source": [
    "This will result in a straight line that \"best\" fits through the data."
   ]
  },
  {
   "cell_type": "markdown",
   "id": "precious-boundary",
   "metadata": {},
   "source": [
    "Compare the slope of this regression line to the average rate of change you calculated in Question 1.\n",
    "\n",
    "### Solution"
   ]
  },
  {
   "cell_type": "code",
   "execution_count": 9,
   "id": "05bfd827",
   "metadata": {},
   "outputs": [
    {
     "name": "stdout",
     "output_type": "stream",
     "text": [
      "Slope (m): 0.02000848092188041\n",
      "Y-Intercept (c): -0.20163019189705095\n"
     ]
    }
   ],
   "source": [
    "import numpy as np\n",
    "import pandas as pd\n",
    "\n",
    "\n",
    "data = pd.read_csv('data.csv')\n",
    "\n",
    "\n",
    "t_values = data['t'].values\n",
    "x_values = data['x'].values\n",
    "\n",
    "\n",
    "n = len(t_values)\n",
    "sum_t = np.sum(t_values)\n",
    "sum_x = np.sum(x_values)\n",
    "sum_xx = np.sum(x_values ** 2)\n",
    "sum_xt = np.sum(x_values * t_values)\n",
    "sum_t_x = np.sum(t_values * x_values)\n",
    "sum_t_t = np.sum(t_values ** 2)\n",
    "\n",
    "# calculate slope and intercept\n",
    "m = (n * sum_xt - sum_x * sum_t) / (n * sum_xx - sum_x ** 2)\n",
    "c = (sum_t * sum_xx - sum_x * sum_xt) / (n * sum_xx - sum_x ** 2)\n",
    "\n",
    "print(\"Slope (m):\", m)\n",
    "print(\"Y-Intercept (c):\", c)\n"
   ]
  },
  {
   "cell_type": "code",
   "execution_count": 10,
   "id": "3daaad4e",
   "metadata": {},
   "outputs": [
    {
     "name": "stdout",
     "output_type": "stream",
     "text": [
      "Average rate of change: 49.98125178748103\n",
      "Slope of regression line: 0.02000848092188041\n"
     ]
    }
   ],
   "source": [
    "print(\"Average rate of change:\", average)\n",
    "print(\"Slope of regression line:\", m)\n"
   ]
  },
  {
   "cell_type": "code",
   "execution_count": null,
   "id": "0b55b27c",
   "metadata": {},
   "outputs": [],
   "source": []
  }
 ],
 "metadata": {
  "kernelspec": {
   "display_name": "Python 3 (ipykernel)",
   "language": "python",
   "name": "python3"
  },
  "language_info": {
   "codemirror_mode": {
    "name": "ipython",
    "version": 3
   },
   "file_extension": ".py",
   "mimetype": "text/x-python",
   "name": "python",
   "nbconvert_exporter": "python",
   "pygments_lexer": "ipython3",
   "version": "3.9.12"
  }
 },
 "nbformat": 4,
 "nbformat_minor": 5
}
