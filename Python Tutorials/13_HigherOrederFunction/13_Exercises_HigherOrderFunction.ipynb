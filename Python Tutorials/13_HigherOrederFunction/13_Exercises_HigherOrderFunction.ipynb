{
 "cells": [
  {
   "cell_type": "markdown",
   "id": "tight-homework",
   "metadata": {},
   "source": [
    "### Exercises"
   ]
  },
  {
   "cell_type": "markdown",
   "id": "focused-phone",
   "metadata": {},
   "source": [
    "#### Question 1"
   ]
  },
  {
   "cell_type": "markdown",
   "id": "accomplished-livestock",
   "metadata": {},
   "source": [
    "We want to write a function that can find an approximate maximum or minimum of some given function over some given range."
   ]
  },
  {
   "cell_type": "markdown",
   "id": "exempt-heater",
   "metadata": {},
   "source": [
    "For example, given some function:\n",
    "\n",
    "```\n",
    "f(x) = x**2 - 1\n",
    "```\n",
    "\n",
    "our function should return an approximate minimum (or maximum) of `f` over some given range, say `[-5, 5]`."
   ]
  },
  {
   "cell_type": "markdown",
   "id": "closing-belle",
   "metadata": {},
   "source": [
    "We'll do this by essentially splitting our intervals into `n` points (what I'll call the `resolution`), evaluating the function at each of these points, and returning either the min or the max."
   ]
  },
  {
   "cell_type": "markdown",
   "id": "comfortable-aviation",
   "metadata": {},
   "source": [
    "We want this function to be generic, so it should have the following parameters:\n",
    "- a function of one variable\n",
    "- a range of values defined by start/end values\n",
    "- a value indicating the \"resolution\"\n",
    "- a value indicating whether we want the min or the max\n",
    "\n",
    "#### Solution"
   ]
  },
  {
   "cell_type": "code",
   "execution_count": 27,
   "id": "065c3c7b",
   "metadata": {},
   "outputs": [],
   "source": [
    "def find_approximate_extreme(f, start, end, resolution, find_min=True):\n",
    "    \n",
    "    points = [start + (i / (resolution - 1)) * (end - start) for i in range(resolution)]\n",
    "    values = [f(x) for x in points]\n",
    "    extreme_index = values.index(min(values)) if find_min else values.index(max(values))\n",
    "    return points[extreme_index], values[extreme_index]\n"
   ]
  },
  {
   "cell_type": "code",
   "execution_count": 28,
   "id": "2c716a9f",
   "metadata": {},
   "outputs": [
    {
     "name": "stdout",
     "output_type": "stream",
     "text": [
      "Approximate minimum:\n",
      "Point: -0.050505050505050164\n",
      "Value: -0.9974492398734823\n",
      "Approximate maximum:\n",
      "Point: -5.0\n",
      "Value: 24.0\n"
     ]
    }
   ],
   "source": [
    "def f(x):\n",
    "    return x ** 2 - 1\n",
    "\n",
    "start = -5\n",
    "end = 5\n",
    "resolution = 100\n",
    "find_min = True\n",
    "\n",
    "approx_min_point, approx_min_value = find_approximate_extreme(f, start, end, resolution, find_min)\n",
    "print(\"Approximate minimum:\")\n",
    "print(\"Point:\", approx_min_point)\n",
    "print(\"Value:\", approx_min_value)\n",
    "\n",
    "find_min = False\n",
    "\n",
    "approx_max_point, approx_max_value = find_approximate_extreme(f, start, end, resolution, find_min)\n",
    "print(\"Approximate maximum:\")\n",
    "print(\"Point:\", approx_max_point)\n",
    "print(\"Value:\", approx_max_value)\n"
   ]
  },
  {
   "cell_type": "markdown",
   "id": "fiscal-exclusive",
   "metadata": {},
   "source": [
    "#### Question 2"
   ]
  },
  {
   "cell_type": "markdown",
   "id": "tribal-irrigation",
   "metadata": {},
   "source": [
    "You are given a function of two variables, and a list of tuples containing the values for the two variables."
   ]
  },
  {
   "cell_type": "markdown",
   "id": "guilty-opposition",
   "metadata": {},
   "source": [
    "Create a list that is the result of calling the function on each values in the list, using three different techniques:\n",
    "- a `for` loop\n",
    "- a list comprehension\n",
    "- the `map` function\n",
    "\n",
    "Use the `timeit` function to time each approach.\n",
    "\n",
    "Hint: write a function that implements each approach, and then time calling those functions using the `timeit` function (`from timeit import timeit` - we've used it before). Also you will want to specify `number=10` or something like that when you run `timeit` - unless you want to sit there watvhing your screen for quite a while :-)"
   ]
  },
  {
   "cell_type": "code",
   "execution_count": 1,
   "id": "prompt-investigator",
   "metadata": {},
   "outputs": [],
   "source": [
    "import math\n",
    "\n",
    "def func(point):\n",
    "    # expect point to be a sequence of two values\n",
    "    x, y = point\n",
    "    return math.hypot(x, y)  \n",
    "    # hypot is a function that calculates sqrt(x**2 + y**2), given a sequence (x, y)\n",
    "\n",
    "points = [\n",
    "    (0, 0),\n",
    "    (1, 1),\n",
    "    (10, 20),\n",
    "    (math.pi, math.e)\n",
    "]"
   ]
  },
  {
   "cell_type": "markdown",
   "id": "tutorial-absolute",
   "metadata": {},
   "source": [
    "Your result for `points` should be:\n",
    "\n",
    "```\n",
    "[0.0, 1.4142135623730951, 22.360679774997898, 4.154354402313314]\n",
    "```"
   ]
  },
  {
   "cell_type": "markdown",
   "id": "digital-september",
   "metadata": {},
   "source": [
    "For timing purposes, use a larger set of points, like this one:"
   ]
  },
  {
   "cell_type": "code",
   "execution_count": 11,
   "id": "informal-equality",
   "metadata": {},
   "outputs": [],
   "source": [
    "points_large = [(math.sin(x), math.cos(x)) for x in range(1, 1_000_000)]\n"
   ]
  },
  {
   "cell_type": "markdown",
   "id": "63756cdf",
   "metadata": {},
   "source": [
    "### Solution"
   ]
  },
  {
   "cell_type": "code",
   "execution_count": 14,
   "id": "f57fff53",
   "metadata": {},
   "outputs": [
    {
     "name": "stdout",
     "output_type": "stream",
     "text": [
      "Result using for loop: [0.0, 1.4142135623730951, 22.360679774997898, 4.154354402313314]\n",
      "Result using list comprehension: [0.0, 1.4142135623730951, 22.360679774997898, 4.154354402313314]\n",
      "Result using map: [0.0, 1.4142135623730951, 22.360679774997898, 4.154354402313314]\n",
      "\n",
      "\n",
      "For loop: 0.7249477700000171 seconds\n",
      "List comprehension: 0.5902956500000073 seconds\n",
      "Map: 0.50337612000003 seconds\n"
     ]
    }
   ],
   "source": [
    "from timeit import timeit\n",
    "import math\n",
    "\n",
    "def apply_function_for_loop(func, values):\n",
    "    results = []\n",
    "    for point in values:\n",
    "        result = func(point)\n",
    "        results.append(result)\n",
    "    return results\n",
    "\n",
    "def apply_function_list_comprehension(func, values):\n",
    "    return [func(point) for point in values]\n",
    "\n",
    "def apply_function_map(func, values):\n",
    "    return list(map(func, values))\n",
    "\n",
    "\n",
    "def func(point):\n",
    "    x, y = point\n",
    "    return math.hypot(x, y)\n",
    "\n",
    "\n",
    "points = [\n",
    "    (0, 0),\n",
    "    (1, 1),\n",
    "    (10, 20),\n",
    "    (math.pi, math.e)\n",
    "]\n",
    "\n",
    "\n",
    "result_for_loop = apply_function_for_loop(func, points)\n",
    "result_list_comprehension = apply_function_list_comprehension(func, points)\n",
    "result_map = apply_function_map(func, points)\n",
    "\n",
    "\n",
    "print(\"Result using for loop:\", result_for_loop)\n",
    "print(\"Result using list comprehension:\", result_list_comprehension)\n",
    "print(\"Result using map:\", result_map)\n",
    "print(\"\\n\")\n",
    "\n",
    "\n",
    "num_iterations = 10\n",
    "\n",
    "points_large = [(math.sin(x), math.cos(x)) for x in range(1, 1_000_000)]\n",
    "\n",
    "for func_name, apply_func in [('For loop', apply_function_for_loop), ('List comprehension', apply_function_list_comprehension), ('Map', apply_function_map)]:\n",
    "    execution_time = timeit(lambda: apply_func(func, points_large), number=num_iterations)\n",
    "    print(f\"{func_name}: {execution_time / num_iterations} seconds\")\n"
   ]
  },
  {
   "cell_type": "markdown",
   "id": "caroline-analysis",
   "metadata": {},
   "source": [
    "#### Question 3"
   ]
  },
  {
   "cell_type": "markdown",
   "id": "special-stuart",
   "metadata": {},
   "source": [
    "Write a function that returns a function with all arguments, except the first one, prefilled with certain values provided to the outer function."
   ]
  },
  {
   "cell_type": "markdown",
   "id": "becoming-civilization",
   "metadata": {},
   "source": [
    "(This is sometimes called a partial function)."
   ]
  },
  {
   "cell_type": "markdown",
   "id": "solar-watson",
   "metadata": {},
   "source": [
    "For example, we may have some functions such as:"
   ]
  },
  {
   "cell_type": "code",
   "execution_count": 3,
   "id": "divine-brand",
   "metadata": {},
   "outputs": [],
   "source": [
    "import math"
   ]
  },
  {
   "cell_type": "code",
   "execution_count": 4,
   "id": "saving-hazard",
   "metadata": {},
   "outputs": [],
   "source": [
    "def power(x, n):\n",
    "    return x ** n"
   ]
  },
  {
   "cell_type": "code",
   "execution_count": 5,
   "id": "requested-mathematics",
   "metadata": {},
   "outputs": [],
   "source": [
    "def dist(pt1, pt2):\n",
    "    return math.sqrt(sum(coord_1 - coord_2 for coord_1, coord_2 in zip(pt1, pt2)))"
   ]
  },
  {
   "cell_type": "markdown",
   "id": "hungry-aberdeen",
   "metadata": {},
   "source": [
    "Or even functions already defined, such as:\n",
    "\n",
    "```\n",
    "math.gcd(a, b)\n",
    "```\n",
    "or\n",
    "```\n",
    "math.log(x, base)\n",
    "```"
   ]
  },
  {
   "cell_type": "markdown",
   "id": "entitled-denver",
   "metadata": {},
   "source": [
    "We want to to be able to generate new functions, based on these ones (`power`, `dist`, `gcd`, `log`) but with all the values except the first one prefilled, for example, assuming our function is named `partial`, we can use it to define new functions this way:"
   ]
  },
  {
   "cell_type": "markdown",
   "id": "first-velvet",
   "metadata": {},
   "source": [
    "```\n",
    "squares = partial(power, 2)\n",
    "dist_from_origin = partial(dist, (0, 0))\n",
    "gcd_13 = partial(math.gcd, 13)\n",
    "log_2 = partial(math.log, 2)\n",
    "log_10 = partial(math.log, 10)\n",
    "log_16 = partial(math.log, 16)\n",
    "```"
   ]
  },
  {
   "cell_type": "markdown",
   "id": "gentle-monitor",
   "metadata": {},
   "source": [
    "Then when we call our new functions, we just pass in the value for the first argument, i.e."
   ]
  },
  {
   "cell_type": "markdown",
   "id": "bridal-scenario",
   "metadata": {},
   "source": [
    "```\n",
    "squares(3) --> 9\n",
    "squares(4) --> 16\n",
    "dist_from_origin((1, 1)) --> 1.414\n",
    "log_2(10) --> 3.3219\n",
    "log_10(10) --> 1.0\n",
    "log_16(10) --> 0.8304\n",
    "```\n",
    "\n",
    "#### Solution"
   ]
  },
  {
   "cell_type": "code",
   "execution_count": 18,
   "id": "ba94a773",
   "metadata": {},
   "outputs": [],
   "source": [
    "from functools import partial\n",
    "\n",
    "def partial(func, *args):\n",
    "    def new_func(*new_args):\n",
    "        all_args = args + new_args\n",
    "        return func(*all_args)\n",
    "    return new_func\n"
   ]
  },
  {
   "cell_type": "code",
   "execution_count": 21,
   "id": "7c0c26fb",
   "metadata": {},
   "outputs": [
    {
     "name": "stdout",
     "output_type": "stream",
     "text": [
      "4\n",
      "16\n",
      "0.30102999566398114\n",
      "1.0\n",
      "1.2041199826559246\n"
     ]
    }
   ],
   "source": [
    "import math\n",
    "\n",
    "def power(x, n):\n",
    "    return x ** n\n",
    "\n",
    "def dist(pt1, pt2):\n",
    "    return math.sqrt(sum(coord_1 - coord_2 for coord_1, coord_2 in zip(pt1, pt2)))\n",
    "\n",
    "squares = partial(power, 2)\n",
    "dist_from_origin = partial(dist, (0, 0))\n",
    "gcd_13 = partial(math.gcd, 13)\n",
    "log_2 = partial(math.log, 2)\n",
    "log_10 = partial(math.log, 10)\n",
    "log_16 = partial(math.log, 16)\n",
    "\n",
    "print(squares(2))  \n",
    "print(squares(4))  \n",
    "#print(dist_from_origin((1, 1))) \n",
    "print(log_2(10)) \n",
    "print(log_10(10))  \n",
    "print(log_16(10))  \n"
   ]
  },
  {
   "cell_type": "markdown",
   "id": "cleared-watson",
   "metadata": {},
   "source": [
    "#### Question 4"
   ]
  },
  {
   "cell_type": "markdown",
   "id": "registered-moscow",
   "metadata": {},
   "source": [
    "Write a function that can be used to not only execute another function with specified arguments, but print a \"log\" (basically just print to the console\", of how long it took to execute the function."
   ]
  },
  {
   "cell_type": "markdown",
   "id": "invisible-elephant",
   "metadata": {},
   "source": [
    "For example, given some functions like this:"
   ]
  },
  {
   "cell_type": "code",
   "execution_count": 6,
   "id": "prerequisite-allergy",
   "metadata": {},
   "outputs": [],
   "source": [
    "def norm(x, y):\n",
    "    return math.sqrt(x**2 + y**2)\n",
    "\n",
    "def find_index_min(seq):\n",
    "    min_ = min(seq)\n",
    "    return seq.index(min_)"
   ]
  },
  {
   "cell_type": "markdown",
   "id": "heavy-police",
   "metadata": {},
   "source": [
    "Then assuming your logging function is called `logged`, you could create logged functions this way:"
   ]
  },
  {
   "cell_type": "code",
   "execution_count": 7,
   "id": "liquid-divide",
   "metadata": {},
   "outputs": [],
   "source": [
    "def logged(f):\n",
    "    # implement this\n",
    "    pass"
   ]
  },
  {
   "cell_type": "code",
   "execution_count": 8,
   "id": "measured-packaging",
   "metadata": {},
   "outputs": [],
   "source": [
    "norm_logged = logged(norm)\n",
    "find_index_min_logged = logged(find_index_min)"
   ]
  },
  {
   "cell_type": "markdown",
   "id": "czech-husband",
   "metadata": {},
   "source": [
    "You would then be able to call `norm_logged` with some arguments, or `find_index_min_logged` with some arguments, and not only get the actual result back, but also see an output to the console that tells you how long the function took to run.\n",
    "\n",
    "####  Solution:"
   ]
  },
  {
   "cell_type": "code",
   "execution_count": 22,
   "id": "f0a859d4",
   "metadata": {},
   "outputs": [],
   "source": [
    "import time\n",
    "\n",
    "def logged(f):\n",
    "    def wrapper(*args, **kwargs):\n",
    "        start_time = time.time()\n",
    "        result = f(*args, **kwargs)\n",
    "        end_time = time.time()\n",
    "        execution_time = end_time - start_time\n",
    "        print(f\"Function '{f.__name__}' took {execution_time:.6f} seconds to execute.\")\n",
    "        return result\n",
    "    return wrapper\n"
   ]
  },
  {
   "cell_type": "code",
   "execution_count": 23,
   "id": "0ed6f89c",
   "metadata": {},
   "outputs": [
    {
     "name": "stdout",
     "output_type": "stream",
     "text": [
      "Function 'norm' took 0.000000 seconds to execute.\n",
      "Result: 5.0\n",
      "Function 'find_index_min' took 0.000000 seconds to execute.\n",
      "Result: 4\n"
     ]
    }
   ],
   "source": [
    "import math\n",
    "\n",
    "def norm(x, y):\n",
    "    return math.sqrt(x**2 + y**2)\n",
    "\n",
    "def find_index_min(seq):\n",
    "    min_ = min(seq)\n",
    "    return seq.index(min_)\n",
    "\n",
    "norm_logged = logged(norm)\n",
    "find_index_min_logged = logged(find_index_min)\n",
    "\n",
    "result_norm = norm_logged(3, 4)  \n",
    "print(\"Result:\", result_norm)  \n",
    "\n",
    "result_min_index = find_index_min_logged([9, 5, 2, 7, 1])  \n",
    "print(\"Result:\", result_min_index)  \n",
    "\n"
   ]
  },
  {
   "cell_type": "code",
   "execution_count": null,
   "id": "29ba9dcf",
   "metadata": {},
   "outputs": [],
   "source": []
  }
 ],
 "metadata": {
  "kernelspec": {
   "display_name": "Python 3 (ipykernel)",
   "language": "python",
   "name": "python3"
  },
  "language_info": {
   "codemirror_mode": {
    "name": "ipython",
    "version": 3
   },
   "file_extension": ".py",
   "mimetype": "text/x-python",
   "name": "python",
   "nbconvert_exporter": "python",
   "pygments_lexer": "ipython3",
   "version": "3.9.12"
  }
 },
 "nbformat": 4,
 "nbformat_minor": 5
}
