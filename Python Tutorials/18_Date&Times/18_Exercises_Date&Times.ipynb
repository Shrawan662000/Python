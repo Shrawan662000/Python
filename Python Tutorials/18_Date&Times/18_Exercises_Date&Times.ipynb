{
 "cells": [
  {
   "cell_type": "markdown",
   "id": "anonymous-accounting",
   "metadata": {},
   "source": [
    "### Exercises"
   ]
  },
  {
   "cell_type": "markdown",
   "id": "nominated-african",
   "metadata": {},
   "source": [
    "#### Question 1"
   ]
  },
  {
   "cell_type": "markdown",
   "id": "hungry-vietnam",
   "metadata": {},
   "source": [
    "Write a function that, given an epoch timestamp, returns a `datetime` object set to the beginning of that month (so midnight of the first day of the month)."
   ]
  },
  {
   "cell_type": "markdown",
   "id": "false-fountain",
   "metadata": {},
   "source": [
    "For example, given the epoch time `12345678.9`, your function should return:\n",
    "```\n",
    "datetime.datetime(1970, 5, 1, 0, 0)\n",
    "```\n",
    "\n",
    "\n",
    "### solution"
   ]
  },
  {
   "cell_type": "code",
   "execution_count": 2,
   "id": "71829626",
   "metadata": {},
   "outputs": [],
   "source": [
    "import datetime\n",
    "\n",
    "def func(epoch_time):\n",
    "    # Convert epoch time to a datetime object\n",
    "    dt = datetime.datetime.fromtimestamp(epoch_time)\n",
    "\n",
    "    # Set the day to 1 and time to midnight\n",
    "    beginning_of_month = datetime.datetime(dt.year, dt.month, 1, 0, 0)\n",
    "\n",
    "    return beginning_of_month\n"
   ]
  },
  {
   "cell_type": "code",
   "execution_count": 4,
   "id": "cc319ded",
   "metadata": {},
   "outputs": [
    {
     "name": "stdout",
     "output_type": "stream",
     "text": [
      "1970-05-01 00:00:00\n"
     ]
    }
   ],
   "source": [
    "epoch_time = 12345678.9\n",
    "result = func(epoch_time)\n",
    "print(result)\n"
   ]
  },
  {
   "cell_type": "markdown",
   "id": "photographic-willow",
   "metadata": {},
   "source": [
    "#### Question 2"
   ]
  },
  {
   "cell_type": "markdown",
   "id": "mexican-cooperative",
   "metadata": {},
   "source": [
    "Write a function that returns the difference in hours between two dates provided as Python standard ISO formatted strings, rounded to the nearest hour. For simplicity, assume that these dates do not contain fractional seconds."
   ]
  },
  {
   "cell_type": "markdown",
   "id": "underlying-concord",
   "metadata": {},
   "source": [
    "For example, given these two dates:\n",
    "```\n",
    "2001-01-01T13:50:23\n",
    "```\n",
    "\n",
    "and \n",
    "```\n",
    "2001-06-12T14:23:50\n",
    "```\n",
    "\n",
    "your result should be `3889` hours.\n",
    "\n",
    "### Solution"
   ]
  },
  {
   "cell_type": "code",
   "execution_count": 6,
   "id": "531ec86e",
   "metadata": {},
   "outputs": [],
   "source": [
    "from datetime import datetime, timedelta\n",
    "\n",
    "def hours_difference(date1_str, date2_str):\n",
    "    # Convert the ISO formatted strings to datetime objects\n",
    "    date1 = datetime.fromisoformat(date1_str)\n",
    "    date2 = datetime.fromisoformat(date2_str)\n",
    "\n",
    "   \n",
    "    hours_difference = round((date2 - date1) / timedelta(hours=1))\n",
    "\n",
    "    return hours_difference\n"
   ]
  },
  {
   "cell_type": "code",
   "execution_count": 7,
   "id": "3b04171b",
   "metadata": {},
   "outputs": [
    {
     "name": "stdout",
     "output_type": "stream",
     "text": [
      "3889\n"
     ]
    }
   ],
   "source": [
    "date1_str = \"2001-01-01T13:50:23\"\n",
    "date2_str = \"2001-06-12T14:23:50\"\n",
    "result = hours_difference(date1_str, date2_str)\n",
    "print(result)\n"
   ]
  },
  {
   "cell_type": "markdown",
   "id": "promising-demand",
   "metadata": {},
   "source": [
    "### Question 3"
   ]
  },
  {
   "cell_type": "markdown",
   "id": "fewer-reception",
   "metadata": {},
   "source": [
    "Write a function that can be used to consistently format `datetime` objects into strings with some default format, but allows the caller to override the default format."
   ]
  },
  {
   "cell_type": "markdown",
   "id": "conditional-mason",
   "metadata": {},
   "source": [
    "For example, the default format could be `mm/dd/yyyy hh:mm:ss am/pm`, but your function allows itself to be called with some argument that can override that format.\n",
    "\n",
    "### Solution"
   ]
  },
  {
   "cell_type": "code",
   "execution_count": 8,
   "id": "1512a113",
   "metadata": {},
   "outputs": [],
   "source": [
    "from datetime import datetime\n",
    "\n",
    "def format_datetime(dt, format_str=\"%m/%d/%Y %I:%M:%S %p\"):\n",
    "    formatted_dt = dt.strftime(format_str)\n",
    "    return formatted_dt\n"
   ]
  },
  {
   "cell_type": "code",
   "execution_count": 9,
   "id": "5dfe5b59",
   "metadata": {},
   "outputs": [
    {
     "name": "stdout",
     "output_type": "stream",
     "text": [
      "Default format: 05/19/2023 04:46:00 PM\n",
      "Custom format: 2023-05-19 16:46:00\n"
     ]
    }
   ],
   "source": [
    "# Example usage\n",
    "dt = datetime.now()\n",
    "default_format = format_datetime(dt)\n",
    "custom_format = format_datetime(dt, \"%Y-%m-%d %H:%M:%S\")\n",
    "\n",
    "print(\"Default format:\", default_format)\n",
    "print(\"Custom format:\", custom_format)\n"
   ]
  },
  {
   "cell_type": "code",
   "execution_count": null,
   "id": "6bf5ce82",
   "metadata": {},
   "outputs": [],
   "source": []
  }
 ],
 "metadata": {
  "kernelspec": {
   "display_name": "Python 3 (ipykernel)",
   "language": "python",
   "name": "python3"
  },
  "language_info": {
   "codemirror_mode": {
    "name": "ipython",
    "version": 3
   },
   "file_extension": ".py",
   "mimetype": "text/x-python",
   "name": "python",
   "nbconvert_exporter": "python",
   "pygments_lexer": "ipython3",
   "version": "3.9.12"
  }
 },
 "nbformat": 4,
 "nbformat_minor": 5
}
