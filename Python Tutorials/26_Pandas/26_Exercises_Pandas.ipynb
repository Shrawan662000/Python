{
 "cells": [
  {
   "cell_type": "markdown",
   "id": "sacred-massage",
   "metadata": {},
   "source": [
    "### Exercises"
   ]
  },
  {
   "cell_type": "markdown",
   "id": "purple-invalid",
   "metadata": {},
   "source": [
    "#### Question 1"
   ]
  },
  {
   "cell_type": "markdown",
   "id": "ideal-vocabulary",
   "metadata": {},
   "source": [
    "Alongside this notebook is a data file named `daily_quotes.csv` which contains EOD OHLC/Volume data for a small number of equities over a 6 month period."
   ]
  },
  {
   "cell_type": "markdown",
   "id": "physical-orlando",
   "metadata": {},
   "source": [
    "The first step is to load up this data into a dataframe, ensuring that all data types are correct (datetime objects for dates, floats for OHLC data, and integers for Volume)."
   ]
  },
  {
   "cell_type": "markdown",
   "id": "subsequent-collection",
   "metadata": {},
   "source": [
    "Write a function that receives the file name as an argument and returns a dataframe that:\n",
    "- has the correct data type for each column (`str`, `float`, `int`)\n",
    "- has a row index based on the `symbol` column"
   ]
  },
  {
   "cell_type": "markdown",
   "id": "coral-daily",
   "metadata": {},
   "source": [
    "In addition, we would like our dataframe to contain columns named and ordered in a specific way:\n",
    "- symbol (`str`)\n",
    "- date (`datetime`)\n",
    "- open (`float`)\n",
    "- high (`float`)\n",
    "- low (`float`)\n",
    "- close (`float`)\n",
    "- volume (`int`)\n",
    "\n",
    "(with `symbol` being used as the row index)"
   ]
  },
  {
   "cell_type": "markdown",
   "id": "celtic-correspondence",
   "metadata": {},
   "source": [
    "Hint: \n",
    "\n",
    "You will want to read up the Pandas docs for `read_csv` to see how you can handle datetime data directly while loading the data (in particular you should look at the `parse_dates` option):\n",
    "\n",
    "https://pandas.pydata.org/pandas-docs/stable/reference/api/pandas.read_csv.html\n",
    "\n",
    "Alternatively, you could convert these objects into proper datetime types after loading by using the Pandas function `to_datetime`, documented here:\n",
    "\n",
    "https://pandas.pydata.org/pandas-docs/stable/reference/api/pandas.to_datetime.html\n",
    "\n",
    "and then use conatenation to build up a dataframe that replaces the \"old\" `date` column with the \"new\" (properly typed) column.\n",
    "\n",
    "### solution"
   ]
  },
  {
   "cell_type": "code",
   "execution_count": 54,
   "id": "4c8ff833",
   "metadata": {},
   "outputs": [],
   "source": [
    "import pandas as pd\n",
    "\n",
    "def load_data(file_name):\n",
    "    # Read the CSV file and specify the data types\n",
    "    df = pd.read_csv(file_name, parse_dates=['Date'], dtype={'Symbol': str, 'Low': float, 'Close/Last': float, 'Volume': int})\n",
    "    \n",
    "    df.set_index('Symbol', inplace=True)\n",
    "    \n",
    "    # Reorder the columns\n",
    "    df = df[['Date', ' Close/Last', ' Volume', ' Open', ' High', ' Low']]\n",
    "    \n",
    "    return df\n"
   ]
  },
  {
   "cell_type": "code",
   "execution_count": 55,
   "id": "ba805650",
   "metadata": {},
   "outputs": [
    {
     "name": "stderr",
     "output_type": "stream",
     "text": [
      "C:\\Users\\Lenovo\\AppData\\Local\\Temp\\ipykernel_5132\\483800711.py:5: UserWarning: Could not infer format, so each element will be parsed individually, falling back to `dateutil`. To ensure parsing is consistent and as-expected, please specify a format.\n",
      "  df = pd.read_csv(file_name, parse_dates=['Date'], dtype={'Symbol': str, 'Low': float, 'Close/Last': float, 'Volume': int})\n"
     ]
    },
    {
     "data": {
      "text/html": [
       "<div>\n",
       "<style scoped>\n",
       "    .dataframe tbody tr th:only-of-type {\n",
       "        vertical-align: middle;\n",
       "    }\n",
       "\n",
       "    .dataframe tbody tr th {\n",
       "        vertical-align: top;\n",
       "    }\n",
       "\n",
       "    .dataframe thead th {\n",
       "        text-align: right;\n",
       "    }\n",
       "</style>\n",
       "<table border=\"1\" class=\"dataframe\">\n",
       "  <thead>\n",
       "    <tr style=\"text-align: right;\">\n",
       "      <th></th>\n",
       "      <th>Date</th>\n",
       "      <th>Close/Last</th>\n",
       "      <th>Volume</th>\n",
       "      <th>Open</th>\n",
       "      <th>High</th>\n",
       "      <th>Low</th>\n",
       "    </tr>\n",
       "    <tr>\n",
       "      <th>Symbol</th>\n",
       "      <th></th>\n",
       "      <th></th>\n",
       "      <th></th>\n",
       "      <th></th>\n",
       "      <th></th>\n",
       "      <th></th>\n",
       "    </tr>\n",
       "  </thead>\n",
       "  <tbody>\n",
       "    <tr>\n",
       "      <th>AAPL</th>\n",
       "      <td>2021-02-12</td>\n",
       "      <td>135.37</td>\n",
       "      <td>60145130</td>\n",
       "      <td>134.350</td>\n",
       "      <td>135.53</td>\n",
       "      <td>133.6921</td>\n",
       "    </tr>\n",
       "    <tr>\n",
       "      <th>AMZN</th>\n",
       "      <td>2021-02-12</td>\n",
       "      <td>3277.71</td>\n",
       "      <td>2335339</td>\n",
       "      <td>3250.000</td>\n",
       "      <td>3280.25</td>\n",
       "      <td>3233.3100</td>\n",
       "    </tr>\n",
       "    <tr>\n",
       "      <th>GOOG</th>\n",
       "      <td>2021-02-12</td>\n",
       "      <td>2104.11</td>\n",
       "      <td>855865</td>\n",
       "      <td>2090.250</td>\n",
       "      <td>2108.82</td>\n",
       "      <td>2083.1300</td>\n",
       "    </tr>\n",
       "    <tr>\n",
       "      <th>MSFT</th>\n",
       "      <td>2021-02-12</td>\n",
       "      <td>244.99</td>\n",
       "      <td>16561080</td>\n",
       "      <td>243.933</td>\n",
       "      <td>245.30</td>\n",
       "      <td>242.7300</td>\n",
       "    </tr>\n",
       "    <tr>\n",
       "      <th>AAPL</th>\n",
       "      <td>2021-02-11</td>\n",
       "      <td>135.13</td>\n",
       "      <td>64280030</td>\n",
       "      <td>135.900</td>\n",
       "      <td>136.39</td>\n",
       "      <td>133.7700</td>\n",
       "    </tr>\n",
       "  </tbody>\n",
       "</table>\n",
       "</div>"
      ],
      "text/plain": [
       "             Date   Close/Last    Volume      Open     High        Low\n",
       "Symbol                                                                \n",
       "AAPL   2021-02-12       135.37  60145130   134.350   135.53   133.6921\n",
       "AMZN   2021-02-12      3277.71   2335339  3250.000  3280.25  3233.3100\n",
       "GOOG   2021-02-12      2104.11    855865  2090.250  2108.82  2083.1300\n",
       "MSFT   2021-02-12       244.99  16561080   243.933   245.30   242.7300\n",
       "AAPL   2021-02-11       135.13  64280030   135.900   136.39   133.7700"
      ]
     },
     "execution_count": 55,
     "metadata": {},
     "output_type": "execute_result"
    }
   ],
   "source": [
    "file_name = 'daily_quotes.csv'\n",
    "df = load_data(file_name)\n",
    "df.head()"
   ]
  },
  {
   "cell_type": "markdown",
   "id": "illegal-chaos",
   "metadata": {},
   "source": [
    "#### Question 2"
   ]
  },
  {
   "cell_type": "markdown",
   "id": "illegal-communication",
   "metadata": {},
   "source": [
    "Write a function that, given a dataframe sructured as the one we created in Question 1 and a symbol name as a string (e.g. `AAPL`, `MSFT`, etc), will:\n",
    "- return a similarly structured dataframe consisting of the row (or rows) containing the records with the highest volume for the given symbol\n",
    "- raises a `ValueError` if the symbol is not in the dataframe\n",
    "\n",
    "#### Solution"
   ]
  },
  {
   "cell_type": "code",
   "execution_count": 60,
   "id": "1e05d3be",
   "metadata": {},
   "outputs": [],
   "source": [
    "def get_highest_volume(df, symbol):\n",
    "    symbol_df = df[df.index == symbol]\n",
    "\n",
    "    if symbol_df.empty:\n",
    "        raise ValueError(f\"Symbol '{symbol}' not found in the dataframe.\")\n",
    "    \n",
    "    max_volume = symbol_df[' Volume'].max()\n",
    "   \n",
    "    result_df = symbol_df[symbol_df[' Volume'] == max_volume]\n",
    "    \n",
    "    return result_df"
   ]
  },
  {
   "cell_type": "code",
   "execution_count": 61,
   "id": "a8848c8d",
   "metadata": {},
   "outputs": [
    {
     "data": {
      "text/html": [
       "<div>\n",
       "<style scoped>\n",
       "    .dataframe tbody tr th:only-of-type {\n",
       "        vertical-align: middle;\n",
       "    }\n",
       "\n",
       "    .dataframe tbody tr th {\n",
       "        vertical-align: top;\n",
       "    }\n",
       "\n",
       "    .dataframe thead th {\n",
       "        text-align: right;\n",
       "    }\n",
       "</style>\n",
       "<table border=\"1\" class=\"dataframe\">\n",
       "  <thead>\n",
       "    <tr style=\"text-align: right;\">\n",
       "      <th></th>\n",
       "      <th>Date</th>\n",
       "      <th>Close/Last</th>\n",
       "      <th>Volume</th>\n",
       "      <th>Open</th>\n",
       "      <th>High</th>\n",
       "      <th>Low</th>\n",
       "    </tr>\n",
       "    <tr>\n",
       "      <th>Symbol</th>\n",
       "      <th></th>\n",
       "      <th></th>\n",
       "      <th></th>\n",
       "      <th></th>\n",
       "      <th></th>\n",
       "      <th></th>\n",
       "    </tr>\n",
       "  </thead>\n",
       "  <tbody>\n",
       "    <tr>\n",
       "      <th>MSFT</th>\n",
       "      <td>1/27/21</td>\n",
       "      <td>232.9</td>\n",
       "      <td>69870640</td>\n",
       "      <td>238.0</td>\n",
       "      <td>240.44</td>\n",
       "      <td>230.14</td>\n",
       "    </tr>\n",
       "  </tbody>\n",
       "</table>\n",
       "</div>"
      ],
      "text/plain": [
       "           Date   Close/Last    Volume   Open    High     Low\n",
       "Symbol                                                       \n",
       "MSFT    1/27/21        232.9  69870640  238.0  240.44  230.14"
      ]
     },
     "execution_count": 61,
     "metadata": {},
     "output_type": "execute_result"
    }
   ],
   "source": [
    "highest_volume_df = get_highest_volume(df, 'MSFT')\n",
    "highest_volume_df\n"
   ]
  },
  {
   "cell_type": "markdown",
   "id": "spoken-facing",
   "metadata": {},
   "source": [
    "#### Question 3"
   ]
  },
  {
   "cell_type": "markdown",
   "id": "centered-margin",
   "metadata": {},
   "source": [
    "Using the same dataframe as in the preceding questions, our goal now is to write a function that will return, for a specific symbol, the row that had the largest high-low spread."
   ]
  },
  {
   "cell_type": "markdown",
   "id": "appropriate-litigation",
   "metadata": {},
   "source": [
    "Write a function to do that - it should just return a dataframe with the row (or rows) with the largest high-low spread.\n",
    "\n",
    "### Solution"
   ]
  },
  {
   "cell_type": "code",
   "execution_count": 64,
   "id": "22db54b9",
   "metadata": {},
   "outputs": [
    {
     "data": {
      "text/plain": [
       "Index(['Date', ' Close/Last', ' Volume', ' Open', ' High', ' Low'], dtype='object')"
      ]
     },
     "execution_count": 64,
     "metadata": {},
     "output_type": "execute_result"
    }
   ],
   "source": [
    "df.columns"
   ]
  },
  {
   "cell_type": "code",
   "execution_count": 65,
   "id": "2039ad0c",
   "metadata": {},
   "outputs": [],
   "source": [
    "def get_largest_spread(df, symbol):\n",
    "    symbol_df = df[df.index == symbol]\n",
    "\n",
    "    if symbol_df.empty:\n",
    "        raise ValueError(f\"Symbol '{symbol}' not found in the dataframe.\")\n",
    "    \n",
    "    # Calculate the high-low spread\n",
    "    symbol_df['Spread'] = symbol_df[' High'] - symbol_df[' Low']\n",
    "    \n",
    "    # Find the maximum spread\n",
    "    max_spread = symbol_df['Spread'].max()\n",
    "    \n",
    "    # Filter the dataframe for rows with the maximum spread\n",
    "    result_df = symbol_df[symbol_df['Spread'] == max_spread]\n",
    "    \n",
    "    return result_df\n"
   ]
  },
  {
   "cell_type": "code",
   "execution_count": 66,
   "id": "62021a17",
   "metadata": {},
   "outputs": [
    {
     "name": "stderr",
     "output_type": "stream",
     "text": [
      "C:\\Users\\Lenovo\\AppData\\Local\\Temp\\ipykernel_5132\\20137581.py:8: SettingWithCopyWarning: \n",
      "A value is trying to be set on a copy of a slice from a DataFrame.\n",
      "Try using .loc[row_indexer,col_indexer] = value instead\n",
      "\n",
      "See the caveats in the documentation: https://pandas.pydata.org/pandas-docs/stable/user_guide/indexing.html#returning-a-view-versus-a-copy\n",
      "  symbol_df['Spread'] = symbol_df[' High'] - symbol_df[' Low']\n"
     ]
    },
    {
     "data": {
      "text/html": [
       "<div>\n",
       "<style scoped>\n",
       "    .dataframe tbody tr th:only-of-type {\n",
       "        vertical-align: middle;\n",
       "    }\n",
       "\n",
       "    .dataframe tbody tr th {\n",
       "        vertical-align: top;\n",
       "    }\n",
       "\n",
       "    .dataframe thead th {\n",
       "        text-align: right;\n",
       "    }\n",
       "</style>\n",
       "<table border=\"1\" class=\"dataframe\">\n",
       "  <thead>\n",
       "    <tr style=\"text-align: right;\">\n",
       "      <th></th>\n",
       "      <th>Date</th>\n",
       "      <th>Close/Last</th>\n",
       "      <th>Volume</th>\n",
       "      <th>Open</th>\n",
       "      <th>High</th>\n",
       "      <th>Low</th>\n",
       "      <th>Spread</th>\n",
       "    </tr>\n",
       "    <tr>\n",
       "      <th>Symbol</th>\n",
       "      <th></th>\n",
       "      <th></th>\n",
       "      <th></th>\n",
       "      <th></th>\n",
       "      <th></th>\n",
       "      <th></th>\n",
       "      <th></th>\n",
       "    </tr>\n",
       "  </thead>\n",
       "  <tbody>\n",
       "    <tr>\n",
       "      <th>AAPL</th>\n",
       "      <td>9/4/20</td>\n",
       "      <td>120.96</td>\n",
       "      <td>332607200</td>\n",
       "      <td>120.07</td>\n",
       "      <td>123.7</td>\n",
       "      <td>110.89</td>\n",
       "      <td>12.81</td>\n",
       "    </tr>\n",
       "  </tbody>\n",
       "</table>\n",
       "</div>"
      ],
      "text/plain": [
       "          Date   Close/Last     Volume    Open   High     Low  Spread\n",
       "Symbol                                                               \n",
       "AAPL    9/4/20       120.96  332607200  120.07  123.7  110.89   12.81"
      ]
     },
     "execution_count": 66,
     "metadata": {},
     "output_type": "execute_result"
    }
   ],
   "source": [
    "largest_spread=get_largest_spread(df, 'AAPL')\n",
    "largest_spread"
   ]
  },
  {
   "cell_type": "markdown",
   "id": "fundamental-magazine",
   "metadata": {},
   "source": [
    "#### Question 4"
   ]
  },
  {
   "cell_type": "markdown",
   "id": "structured-coral",
   "metadata": {},
   "source": [
    "Using the same dataframe as the preceding questions, write a function that returns a single dataframe containing the record(s) with maximum high-low spread for each symbol in the dataframe. (Do not hardcode symbol names in this function - instead you should recover the possible symbol names from the data itself)."
   ]
  },
  {
   "cell_type": "markdown",
   "id": "warming-oriental",
   "metadata": {},
   "source": [
    "The returned dataframe should have the same structure as the original dataframe, but just contain the rows of maximum high-low spread for each symbol.\n",
    "\n",
    "### solutions"
   ]
  },
  {
   "cell_type": "code",
   "execution_count": 71,
   "id": "72984639",
   "metadata": {},
   "outputs": [],
   "source": [
    "import pandas as pd\n",
    "\n",
    "def get_max_spread_per_symbol(df):\n",
    "    df['Spread'] = df[' High'] - df[' Low']\n",
    "    \n",
    "    max_spreads = df.groupby(df.index)['Spread'].max()\n",
    "    \n",
    "    result_df = pd.DataFrame(columns=df.columns)\n",
    "   \n",
    "    for symbol, max_spread in max_spreads.items():\n",
    "        symbol_df = df[df.index == symbol]\n",
    "        max_spread_rows = symbol_df[symbol_df['Spread'] == max_spread]\n",
    "        result_df = pd.concat([result_df, max_spread_rows])\n",
    "    \n",
    "    return result_df\n"
   ]
  },
  {
   "cell_type": "code",
   "execution_count": 72,
   "id": "0e5adf4a",
   "metadata": {},
   "outputs": [
    {
     "data": {
      "text/html": [
       "<div>\n",
       "<style scoped>\n",
       "    .dataframe tbody tr th:only-of-type {\n",
       "        vertical-align: middle;\n",
       "    }\n",
       "\n",
       "    .dataframe tbody tr th {\n",
       "        vertical-align: top;\n",
       "    }\n",
       "\n",
       "    .dataframe thead th {\n",
       "        text-align: right;\n",
       "    }\n",
       "</style>\n",
       "<table border=\"1\" class=\"dataframe\">\n",
       "  <thead>\n",
       "    <tr style=\"text-align: right;\">\n",
       "      <th></th>\n",
       "      <th>Date</th>\n",
       "      <th>Close/Last</th>\n",
       "      <th>Volume</th>\n",
       "      <th>Open</th>\n",
       "      <th>High</th>\n",
       "      <th>Low</th>\n",
       "      <th>Spread</th>\n",
       "    </tr>\n",
       "  </thead>\n",
       "  <tbody>\n",
       "    <tr>\n",
       "      <th>AAPL</th>\n",
       "      <td>9/4/20</td>\n",
       "      <td>120.96</td>\n",
       "      <td>332607200</td>\n",
       "      <td>120.07</td>\n",
       "      <td>123.70</td>\n",
       "      <td>110.8900</td>\n",
       "      <td>12.8100</td>\n",
       "    </tr>\n",
       "    <tr>\n",
       "      <th>AMZN</th>\n",
       "      <td>9/4/20</td>\n",
       "      <td>3294.62</td>\n",
       "      <td>8781754</td>\n",
       "      <td>3318.00</td>\n",
       "      <td>3381.50</td>\n",
       "      <td>3111.1300</td>\n",
       "      <td>270.3700</td>\n",
       "    </tr>\n",
       "    <tr>\n",
       "      <th>GOOG</th>\n",
       "      <td>2/3/21</td>\n",
       "      <td>2070.07</td>\n",
       "      <td>4118170</td>\n",
       "      <td>2073.00</td>\n",
       "      <td>2116.50</td>\n",
       "      <td>2018.3800</td>\n",
       "      <td>98.1200</td>\n",
       "    </tr>\n",
       "    <tr>\n",
       "      <th>MSFT</th>\n",
       "      <td>9/3/20</td>\n",
       "      <td>217.30</td>\n",
       "      <td>58400290</td>\n",
       "      <td>229.27</td>\n",
       "      <td>229.31</td>\n",
       "      <td>214.9602</td>\n",
       "      <td>14.3498</td>\n",
       "    </tr>\n",
       "  </tbody>\n",
       "</table>\n",
       "</div>"
      ],
      "text/plain": [
       "        Date   Close/Last     Volume     Open     High        Low    Spread\n",
       "AAPL  9/4/20       120.96  332607200   120.07   123.70   110.8900   12.8100\n",
       "AMZN  9/4/20      3294.62    8781754  3318.00  3381.50  3111.1300  270.3700\n",
       "GOOG  2/3/21      2070.07    4118170  2073.00  2116.50  2018.3800   98.1200\n",
       "MSFT  9/3/20       217.30   58400290   229.27   229.31   214.9602   14.3498"
      ]
     },
     "execution_count": 72,
     "metadata": {},
     "output_type": "execute_result"
    }
   ],
   "source": [
    "max_spread_per_symbol=get_max_spread_per_symbol(df)\n",
    "max_spread_per_symbol"
   ]
  },
  {
   "cell_type": "code",
   "execution_count": null,
   "id": "32ec6d8a",
   "metadata": {},
   "outputs": [],
   "source": []
  }
 ],
 "metadata": {
  "kernelspec": {
   "display_name": "Python 3 (ipykernel)",
   "language": "python",
   "name": "python3"
  },
  "language_info": {
   "codemirror_mode": {
    "name": "ipython",
    "version": 3
   },
   "file_extension": ".py",
   "mimetype": "text/x-python",
   "name": "python",
   "nbconvert_exporter": "python",
   "pygments_lexer": "ipython3",
   "version": "3.9.12"
  }
 },
 "nbformat": 4,
 "nbformat_minor": 5
}
