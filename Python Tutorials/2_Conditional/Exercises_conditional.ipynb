{
 "cells": [
  {
   "cell_type": "markdown",
   "id": "sensitive-saint",
   "metadata": {},
   "source": [
    "### Exercises"
   ]
  },
  {
   "cell_type": "markdown",
   "id": "particular-humidity",
   "metadata": {},
   "source": [
    "#### Exercise 1"
   ]
  },
  {
   "cell_type": "markdown",
   "id": "trained-masters",
   "metadata": {},
   "source": [
    "Given a variable `a` (containing any value), re-assign the value `\"N/A\"` if `a` is `None`, and leave `a` unchanged otherwise. Use an `if...else...` statement."
   ]
  },
  {
   "cell_type": "code",
   "execution_count": 9,
   "id": "4dd6abb6",
   "metadata": {},
   "outputs": [],
   "source": [
    "\n",
    "if a is None:\n",
    "    a = \"N/A\"\n",
    "else:\n",
    "    pass\n"
   ]
  },
  {
   "cell_type": "markdown",
   "id": "growing-acoustic",
   "metadata": {},
   "source": [
    "#### Exercise 2"
   ]
  },
  {
   "cell_type": "markdown",
   "id": "hazardous-formula",
   "metadata": {},
   "source": [
    "Do the same thing as Question 1, but this time use a ternary operator."
   ]
  },
  {
   "cell_type": "code",
   "execution_count": 10,
   "id": "192c3102",
   "metadata": {},
   "outputs": [
    {
     "name": "stdout",
     "output_type": "stream",
     "text": [
      "None\n"
     ]
    }
   ],
   "source": [
    "a = \"N/A\" if a is None else a\n",
    "print(a)\n"
   ]
  },
  {
   "cell_type": "markdown",
   "id": "seasonal-bronze",
   "metadata": {},
   "source": [
    "#### Exercise 3"
   ]
  },
  {
   "cell_type": "markdown",
   "id": "atomic-authority",
   "metadata": {},
   "source": [
    "Given an credit score `score`, assign a string value to another variable `rating` based on the following scale:\n",
    "\n",
    "- [0, 580) --> Poor\n",
    "- [580, 670) --> Fair\n",
    "- [670, 740) --> Good\n",
    "- [740, 800) --> Very Good\n",
    "- [800, 850] --> Excellent\n"
   ]
  },
  {
   "cell_type": "code",
   "execution_count": 12,
   "id": "7d5feb4b",
   "metadata": {},
   "outputs": [
    {
     "name": "stdout",
     "output_type": "stream",
     "text": [
      "enter the score:3695\n",
      "Score Range is not defined\n"
     ]
    }
   ],
   "source": [
    "score=int(input(\"enter the score:\"))\n",
    "if score>=0 and score<580:\n",
    "    print(\"Poor\")\n",
    "elif score>=580 and score<670:\n",
    "    print(\"Fair\")\n",
    "elif score>=670 and score<740:\n",
    "    print(\"Good\")\n",
    "elif score>=740 and score<800:\n",
    "    print(\"Very Good\")\n",
    "elif score>=800 and score<=850:\n",
    "    print(\"Excellent\")\n",
    "else:\n",
    "    print(\"Score Range is not defined\")"
   ]
  },
  {
   "cell_type": "markdown",
   "id": "fiscal-estate",
   "metadata": {},
   "source": [
    "#### Exercise 4"
   ]
  },
  {
   "cell_type": "markdown",
   "id": "overhead-candidate",
   "metadata": {},
   "source": [
    "Given an `elapsed` time (in seconds), write code to set a variable `magnitude` based on the following conditions:\n",
    "\n",
    "- if elapsed time is less than 1 minute, `magnitude` --> `'seconds'`\n",
    "- if elapsed time is more than 1 minute, but less than 1 hour, `magnitude` --> `'minutes'`\n",
    "- if elapsed time is more than 1 hour, but less than 1 day, `magnitude` --> `'hours'`\n",
    "- if elapsed time is more than 1 day, but less than 1 week: `magnitude` --> `'days'`\n",
    "- if elapsed time is more than 1 week, `magnitude` --> '`weeks'`"
   ]
  },
  {
   "cell_type": "code",
   "execution_count": 18,
   "id": "e4fc08f8",
   "metadata": {},
   "outputs": [
    {
     "name": "stdout",
     "output_type": "stream",
     "text": [
      "Enter the elapsed time in seconds:1253\n",
      " the magnitude assigend is: minutes\n"
     ]
    }
   ],
   "source": [
    "elapsed_time=int(input(\"Enter the elapsed time in seconds:\"))\n",
    "\n",
    "if elapsed_time < 60:\n",
    "    magnitude = 'seconds'\n",
    "elif elapsed_time < 3600:\n",
    "    magnitude = 'minutes'\n",
    "elif elapsed_time < 86400:\n",
    "    magnitude = 'hours'\n",
    "elif elapsed_time < 604800:\n",
    "    magnitude = 'days'\n",
    "else:\n",
    "    magnitude = 'weeks'\n",
    "print(f' the magnitude assigend is: {magnitude}')"
   ]
  },
  {
   "cell_type": "code",
   "execution_count": null,
   "id": "3996da36",
   "metadata": {},
   "outputs": [],
   "source": []
  }
 ],
 "metadata": {
  "kernelspec": {
   "display_name": "Python 3 (ipykernel)",
   "language": "python",
   "name": "python3"
  },
  "language_info": {
   "codemirror_mode": {
    "name": "ipython",
    "version": 3
   },
   "file_extension": ".py",
   "mimetype": "text/x-python",
   "name": "python",
   "nbconvert_exporter": "python",
   "pygments_lexer": "ipython3",
   "version": "3.9.12"
  }
 },
 "nbformat": 4,
 "nbformat_minor": 5
}
