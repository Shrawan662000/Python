{
 "cells": [
  {
   "cell_type": "markdown",
   "id": "actual-product",
   "metadata": {},
   "source": [
    "### Solutions"
   ]
  },
  {
   "cell_type": "markdown",
   "id": "choice-local",
   "metadata": {},
   "source": [
    "#### Question 1"
   ]
  },
  {
   "cell_type": "markdown",
   "id": "later-brown",
   "metadata": {},
   "source": [
    "Given the following list:"
   ]
  },
  {
   "cell_type": "code",
   "execution_count": 1,
   "id": "bound-religion",
   "metadata": {},
   "outputs": [],
   "source": [
    "l = [10, 'abc', 3.14, True]"
   ]
  },
  {
   "cell_type": "markdown",
   "id": "fatty-quantity",
   "metadata": {},
   "source": [
    "Write code that prints out the index number and value at that index for every element of `l`.\n",
    "\n",
    "### Solution"
   ]
  },
  {
   "cell_type": "code",
   "execution_count": 4,
   "id": "f6c10796",
   "metadata": {},
   "outputs": [
    {
     "name": "stdout",
     "output_type": "stream",
     "text": [
      "0 : 10\n",
      "1 : abc\n",
      "2 : 3.14\n",
      "3 : True\n"
     ]
    }
   ],
   "source": [
    "l = [10, 'abc', 3.14, True]\n",
    "iterator = iter(l)\n",
    "\n",
    "for index, value in enumerate(iterator):\n",
    "    print(f'{index} : {value}')\n"
   ]
  },
  {
   "cell_type": "markdown",
   "id": "based-baking",
   "metadata": {},
   "source": [
    "#### Question 2"
   ]
  },
  {
   "cell_type": "markdown",
   "id": "mental-venture",
   "metadata": {},
   "source": [
    "We saw in this section how generator expressions can be more efficient, not only in terms os memory, but also in terms of computation time when not all values in the generator are iterated."
   ]
  },
  {
   "cell_type": "markdown",
   "id": "referenced-italy",
   "metadata": {},
   "source": [
    "Create a generator expression that when iterated over will produce the integers from `1` to `10_000` raised to the power of `1`, `2`, `3`, etc."
   ]
  },
  {
   "cell_type": "markdown",
   "id": "shared-serbia",
   "metadata": {},
   "source": [
    "So this generator should produce these results:"
   ]
  },
  {
   "cell_type": "markdown",
   "id": "cheap-emission",
   "metadata": {},
   "source": [
    "```\n",
    "1**1, 2**2, 3**3, 4**4, ...\n",
    "```"
   ]
  },
  {
   "cell_type": "markdown",
   "id": "liable-connectivity",
   "metadata": {},
   "source": [
    "Once you have created a generator expression to do this, time your results to create the generator and iterate through the first 5 elements of the generator."
   ]
  },
  {
   "cell_type": "markdown",
   "id": "divided-senior",
   "metadata": {},
   "source": [
    "Then, do the same thing, but using a list comprehension instead of a generator expression."
   ]
  },
  {
   "cell_type": "markdown",
   "id": "mexican-latin",
   "metadata": {},
   "source": [
    "Hint: you should use the `perf_counter` apprioach we have seen a few times in previous lectures:\n",
    "\n",
    "```\n",
    "from time import perf_counter\n",
    "\n",
    "start = perf_counter()\n",
    "# your code goes here\n",
    "end = perf_counter()\n",
    "print('elapsed:', end - start)\n",
    "```\n"
   ]
  },
  {
   "cell_type": "markdown",
   "id": "caroline-queen",
   "metadata": {},
   "source": [
    "To make timings more accurate, you should time a loop that repeats your code at least 10 times.\n",
    "\n",
    "#### Solution"
   ]
  },
  {
   "cell_type": "code",
   "execution_count": 6,
   "id": "878d6787",
   "metadata": {},
   "outputs": [
    {
     "name": "stdout",
     "output_type": "stream",
     "text": [
      "1\n",
      "4\n",
      "27\n",
      "256\n",
      "3125\n",
      "Elapsed time (generator expression): 0.0008298000000195316\n"
     ]
    }
   ],
   "source": [
    "from time import perf_counter\n",
    "\n",
    "# Using a generator expression\n",
    "start = perf_counter()\n",
    "generator_expr = (i ** i for i in range(1, 10001))\n",
    "for _ in range(5):\n",
    "    print(next(generator_expr))\n",
    "end = perf_counter()\n",
    "print('Elapsed time (generator expression):', end - start)\n",
    "\n",
    "\n"
   ]
  },
  {
   "cell_type": "code",
   "execution_count": null,
   "id": "ced347a6",
   "metadata": {},
   "outputs": [],
   "source": []
  }
 ],
 "metadata": {
  "kernelspec": {
   "display_name": "Python 3 (ipykernel)",
   "language": "python",
   "name": "python3"
  },
  "language_info": {
   "codemirror_mode": {
    "name": "ipython",
    "version": 3
   },
   "file_extension": ".py",
   "mimetype": "text/x-python",
   "name": "python",
   "nbconvert_exporter": "python",
   "pygments_lexer": "ipython3",
   "version": "3.9.12"
  }
 },
 "nbformat": 4,
 "nbformat_minor": 5
}
