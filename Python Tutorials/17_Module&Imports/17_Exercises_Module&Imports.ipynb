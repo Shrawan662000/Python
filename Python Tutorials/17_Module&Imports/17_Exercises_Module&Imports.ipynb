{
 "cells": [
  {
   "cell_type": "markdown",
   "id": "invalid-compatibility",
   "metadata": {},
   "source": [
    "### Exercises"
   ]
  },
  {
   "cell_type": "markdown",
   "id": "theoretical-livestock",
   "metadata": {},
   "source": [
    "#### Question 1"
   ]
  },
  {
   "cell_type": "markdown",
   "id": "liberal-gibraltar",
   "metadata": {},
   "source": [
    "Your code uses a few functions in the `math` module here and there, but you also tend to use the `sin`, `cos` and `tan` functions and the `pi` constant very frequently."
   ]
  },
  {
   "cell_type": "markdown",
   "id": "presidential-milwaukee",
   "metadata": {},
   "source": [
    "Write some import statements that you think would be helpful in this scenario.\n",
    "\n",
    "### Solution\n"
   ]
  },
  {
   "cell_type": "code",
   "execution_count": 2,
   "id": "7e7aebce",
   "metadata": {},
   "outputs": [
    {
     "name": "stdout",
     "output_type": "stream",
     "text": [
      "0.8414709848078965\n",
      "0.5403023058681397\n",
      "0.5292438647444802\n",
      "25.132741228718345\n"
     ]
    }
   ],
   "source": [
    "from math import sin, cos, tan, pi\n",
    "print(sin(1))\n",
    "print(cos(1))\n",
    "print(tan(500))\n",
    "print(2*pi*4)"
   ]
  },
  {
   "cell_type": "markdown",
   "id": "binding-cream",
   "metadata": {},
   "source": [
    "#### Question 2"
   ]
  },
  {
   "cell_type": "markdown",
   "id": "fewer-actress",
   "metadata": {},
   "source": [
    "There is a library that we installed for our course called `matplotlib`."
   ]
  },
  {
   "cell_type": "markdown",
   "id": "instrumental-interaction",
   "metadata": {},
   "source": [
    "We can certainly import that library using its full name, but whenever we need to reach into that module we need to type out `matplotlib.som_func` - since we use this library quite often, typing out `matplotlib` every time gets tiring."
   ]
  },
  {
   "cell_type": "markdown",
   "id": "computational-robert",
   "metadata": {},
   "source": [
    "Write an import function that allows you to reference that module using the name `mpl` instead of the full name `matplotlib`.\n",
    "\n",
    "### Solution"
   ]
  },
  {
   "cell_type": "code",
   "execution_count": 3,
   "id": "baf1a8c1",
   "metadata": {},
   "outputs": [],
   "source": [
    "import matplotlib.pyplot as mpl"
   ]
  },
  {
   "cell_type": "code",
   "execution_count": 4,
   "id": "95249f1d",
   "metadata": {},
   "outputs": [
    {
     "data": {
      "image/png": "[encoded data removed]",
      "text/plain": [
       "<Figure size 432x288 with 1 Axes>"
      ]
     },
     "metadata": {
      "needs_background": "light"
     },
     "output_type": "display_data"
    }
   ],
   "source": [
    "x = [1, 2, 3, 4, 5]\n",
    "\n",
    "\n",
    "y = [2, 4, 6, 8, 10]\n",
    "\n",
    "# line graph\n",
    "mpl.plot(x, y)\n",
    "\n",
    "\n",
    "mpl.xlabel('X-axis')\n",
    "mpl.ylabel('Y-axis')\n",
    "mpl.title('Simple Line Graph')\n",
    "\n",
    "mpl.show()\n"
   ]
  },
  {
   "cell_type": "code",
   "execution_count": null,
   "id": "26b0bf26",
   "metadata": {},
   "outputs": [],
   "source": []
  }
 ],
 "metadata": {
  "kernelspec": {
   "display_name": "Python 3 (ipykernel)",
   "language": "python",
   "name": "python3"
  },
  "language_info": {
   "codemirror_mode": {
    "name": "ipython",
    "version": 3
   },
   "file_extension": ".py",
   "mimetype": "text/x-python",
   "name": "python",
   "nbconvert_exporter": "python",
   "pygments_lexer": "ipython3",
   "version": "3.9.12"
  }
 },
 "nbformat": 4,
 "nbformat_minor": 5
}
