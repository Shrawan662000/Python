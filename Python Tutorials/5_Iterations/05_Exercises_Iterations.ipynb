{
 "cells": [
  {
   "cell_type": "markdown",
   "id": "canadian-manchester",
   "metadata": {},
   "source": [
    "### Solutions"
   ]
  },
  {
   "cell_type": "markdown",
   "id": "generic-ottawa",
   "metadata": {},
   "source": [
    "#### Question 1"
   ]
  },
  {
   "cell_type": "markdown",
   "id": "mexican-fairy",
   "metadata": {},
   "source": [
    "Write some code that generates an `m` x `n` multiplication table.\n",
    "\n",
    "For example if `m=3` and `n=4` your output should look something like:\n",
    "\n",
    "```\n",
    "1 x 1 = 1\n",
    "1 x 2 = 2\n",
    "1 x 3 = 3\n",
    "1 x 4 = 4\n",
    "---------------\n",
    "2 x 1 = 2\n",
    "2 x 2 = 4\n",
    "2 x 3 = 6\n",
    "2 x 4 = 8\n",
    "---------------\n",
    "3 x 1 = 3\n",
    "3 x 2 = 6\n",
    "3 x 3 = 9\n",
    "3 x 4 = 12\n",
    "---------------\n",
    "```"
   ]
  },
  {
   "cell_type": "markdown",
   "id": "unlikely-awareness",
   "metadata": {},
   "source": [
    "Your code should be generic enough that it can handle any positive integer values of `m` and `n`."
   ]
  },
  {
   "cell_type": "markdown",
   "id": "af2846c0",
   "metadata": {},
   "source": [
    "Solution :"
   ]
  },
  {
   "cell_type": "code",
   "execution_count": 3,
   "id": "9f5c38ff",
   "metadata": {},
   "outputs": [
    {
     "name": "stdout",
     "output_type": "stream",
     "text": [
      "enter the value of m and n:3 4\n",
      "1 x 1 = 1\n",
      "1 x 2 = 2\n",
      "1 x 3 = 3\n",
      "1 x 4 = 4\n",
      "-------------------------\n",
      "2 x 1 = 2\n",
      "2 x 2 = 4\n",
      "2 x 3 = 6\n",
      "2 x 4 = 8\n",
      "-------------------------\n",
      "3 x 1 = 3\n",
      "3 x 2 = 6\n",
      "3 x 3 = 9\n",
      "3 x 4 = 12\n",
      "-------------------------\n"
     ]
    }
   ],
   "source": [
    "m,n=[int(x) for x in input(\"enter the value of m and n:\").split()]\n",
    "for i in range(1, m+1):\n",
    "    for j in range(1, n+1):\n",
    "        res=i*j\n",
    "        print(f'{i} x {j} = {res}')\n",
    "    print(\"-------------------------\")"
   ]
  },
  {
   "cell_type": "markdown",
   "id": "automotive-establishment",
   "metadata": {},
   "source": [
    "#### Question 2"
   ]
  },
  {
   "cell_type": "markdown",
   "id": "resident-plain",
   "metadata": {},
   "source": [
    "Your are given the following tuple of lists:"
   ]
  },
  {
   "cell_type": "code",
   "execution_count": 5,
   "id": "oriental-turtle",
   "metadata": {},
   "outputs": [],
   "source": [
    "data = (\n",
    "    ['2021-01-01', 10, 20],\n",
    "    ['2021-01-02', 20, 18],\n",
    "    ['2021-01-03', -10, 10],\n",
    "    ['2021-01-04', 100, 102],\n",
    "    ['2021-01-05', 20, 45]\n",
    ")"
   ]
  },
  {
   "cell_type": "markdown",
   "id": "ordered-jonathan",
   "metadata": {},
   "source": [
    "Your program should:\n",
    "1. Mutate the lists in `data` to add one more element indicating the distance between the two integer numbers (i.e. the absolute value fo the difference)\n",
    "2. Determine on which date this newly calculate value was the largest.\n",
    "3. Be able to work for a `data` set containing any number of lists."
   ]
  },
  {
   "cell_type": "markdown",
   "id": "7c001da0",
   "metadata": {},
   "source": [
    "Solution :\n",
    "\n",
    "1.\n"
   ]
  },
  {
   "cell_type": "code",
   "execution_count": 6,
   "id": "0b649035",
   "metadata": {},
   "outputs": [
    {
     "data": {
      "text/plain": [
       "(['2021-01-01', 10, 20, 10],\n",
       " ['2021-01-02', 20, 18, 2],\n",
       " ['2021-01-03', -10, 10, 20],\n",
       " ['2021-01-04', 100, 102, 2],\n",
       " ['2021-01-05', 20, 45, 25])"
      ]
     },
     "execution_count": 6,
     "metadata": {},
     "output_type": "execute_result"
    }
   ],
   "source": [
    "for row in data:\n",
    "    row.append(abs(row[1] - row[2]))\n",
    "data"
   ]
  },
  {
   "cell_type": "markdown",
   "id": "4c606d1a",
   "metadata": {},
   "source": [
    "solution 2.2"
   ]
  },
  {
   "cell_type": "code",
   "execution_count": 7,
   "id": "52ba98a3",
   "metadata": {},
   "outputs": [
    {
     "data": {
      "text/plain": [
       "('2021-01-01', 10)"
      ]
     },
     "execution_count": 7,
     "metadata": {},
     "output_type": "execute_result"
    }
   ],
   "source": [
    "max_spread = data[0][-1]\n",
    "max_date = data[0][0]\n",
    "\n",
    "max_date, max_spread"
   ]
  },
  {
   "cell_type": "code",
   "execution_count": 8,
   "id": "db31f318",
   "metadata": {},
   "outputs": [
    {
     "data": {
      "text/plain": [
       "('2021-01-05', 25)"
      ]
     },
     "execution_count": 8,
     "metadata": {},
     "output_type": "execute_result"
    }
   ],
   "source": [
    "for dt, num_1, num_2, spread in data[1:]:\n",
    "    if spread > max_spread:\n",
    "        # found a new high\n",
    "        max_spread = spread\n",
    "        max_date = dt\n",
    "        \n",
    "max_date, max_spread"
   ]
  },
  {
   "cell_type": "markdown",
   "id": "activated-pixel",
   "metadata": {},
   "source": [
    "#### Question 3"
   ]
  },
  {
   "cell_type": "markdown",
   "id": "aquatic-sewing",
   "metadata": {},
   "source": [
    "You are given a list of lists containing two numbers that will need to be color coded later based on a trend determined by the following rules:\n",
    "1. If the first number of a row is higher than the second number of the previous row, append the string `up` to the row\n",
    "2. If the first number of a row is lower than the second number of the previous row, append the string `down` to the row\n",
    "3. Otherwise, append `same` to the row.\n",
    "\n",
    "Obviously you cannot apply these rules to the first row (there is no preceding row), so append an empty string for the first row.\n",
    "\n",
    "Basically think of this as a list of Open/Close values, and we want to assign the values `same`, `up`, or `down` based on how a row's Open value compares to the Close of the *previous* row."
   ]
  },
  {
   "cell_type": "markdown",
   "id": "reliable-cleveland",
   "metadata": {},
   "source": [
    "For example, given the following list:"
   ]
  },
  {
   "cell_type": "code",
   "execution_count": 2,
   "id": "still-bridges",
   "metadata": {},
   "outputs": [],
   "source": [
    "data = [\n",
    "    [10, 20],\n",
    "    [20, 30],\n",
    "    [35, 50],\n",
    "    [45, 60]\n",
    "]"
   ]
  },
  {
   "cell_type": "markdown",
   "id": "activated-phase",
   "metadata": {},
   "source": [
    "Then after your code finishes running, your `data` should look like this:\n",
    "\n",
    "```\n",
    "[\n",
    "    [10, 20, ''],\n",
    "    [20, 30, 'same'],\n",
    "    [35, 50, 'up'],\n",
    "    [45, 60, 'down']\n",
    "]\n",
    "```\n",
    "\n",
    "Solution"
   ]
  },
  {
   "cell_type": "code",
   "execution_count": 9,
   "id": "b3bbda55",
   "metadata": {},
   "outputs": [
    {
     "name": "stdout",
     "output_type": "stream",
     "text": [
      "[[10, 20, ''], [20, 30, 'same'], [35, 50, 'up'], [45, 60, 'down']]\n"
     ]
    }
   ],
   "source": [
    "data = [    [10, 20],\n",
    "    [20, 30],\n",
    "    [35, 50],\n",
    "    [45, 60]\n",
    "]\n",
    "\n",
    "trend = [''] # empty string for first row\n",
    "\n",
    "for i in range(1, len(data)):\n",
    "    if data[i][0] > data[i-1][1]:\n",
    "        trend.append('up')\n",
    "    elif data[i][0] < data[i-1][1]:\n",
    "        trend.append('down')\n",
    "    else:\n",
    "        trend.append('same')\n",
    "\n",
    "for i in range(len(data)):\n",
    "    data[i].append(trend[i])\n",
    "    \n",
    "print(data)\n"
   ]
  },
  {
   "cell_type": "code",
   "execution_count": null,
   "id": "76203643",
   "metadata": {},
   "outputs": [],
   "source": []
  }
 ],
 "metadata": {
  "kernelspec": {
   "display_name": "Python 3 (ipykernel)",
   "language": "python",
   "name": "python3"
  },
  "language_info": {
   "codemirror_mode": {
    "name": "ipython",
    "version": 3
   },
   "file_extension": ".py",
   "mimetype": "text/x-python",
   "name": "python",
   "nbconvert_exporter": "python",
   "pygments_lexer": "ipython3",
   "version": "3.9.12"
  }
 },
 "nbformat": 4,
 "nbformat_minor": 5
}
