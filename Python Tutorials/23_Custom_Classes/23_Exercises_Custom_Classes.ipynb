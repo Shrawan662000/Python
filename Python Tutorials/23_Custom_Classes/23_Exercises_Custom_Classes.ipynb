{
 "cells": [
  {
   "cell_type": "markdown",
   "id": "intimate-skirt",
   "metadata": {},
   "source": [
    "### Solutions"
   ]
  },
  {
   "cell_type": "markdown",
   "id": "compliant-pavilion",
   "metadata": {},
   "source": [
    "#### Question 1"
   ]
  },
  {
   "cell_type": "markdown",
   "id": "private-theory",
   "metadata": {},
   "source": [
    "Write a custom class that will be used to model a single bank account."
   ]
  },
  {
   "cell_type": "markdown",
   "id": "greenhouse-anchor",
   "metadata": {},
   "source": [
    "Your class should implement functionality to:\n",
    "- allow initialization with values for `first_name`, `last_name`, `account_number`, `balance`, `is_overdraft_allowed`\n",
    "- keep track of a \"ledger\" that keeps a record all transactions (just use a list to keep track of this)\n",
    "    - at a minimum it should keep track of the transaction date (the current UTC datetime) and the amount (positive, or negative to indicate deposits/withdrawals) - later you could add tracking the running balance as well.\n",
    "- provide read-only properties for `first_name`, `last_name`, `account_number` and `balance`\n",
    "- provide a property to access the ledger in such a way that a user of this class cannot mutate the ledger directly\n",
    "- provide a read-write property for `is_overdraft_allowed` that indicates whether overdrafts are allowed on the account.\n",
    "- provide methods to debit (`def withdraw`) and credit (`def deposit`) transactions that:\n",
    "    - verify withdrawals against available balance and `is_overdraft_allowed` flag\n",
    "        - if withdrawal is larger than available balance and overdrafts are not allowed, this should raise a custom `OverdraftNotAllowed` exception.\n",
    "        - if transaction value is not positive, this should raise a `ValueError` exception (we have separate methods for deposits and withdrawals, and we expect the value to be positive in both cases - one will add to the balance, one will subtract from the balance).\n",
    "    - add an entry to the ledger with a current UTC timestamp (positive or negative to indicate credit/debit)\n",
    "    - keeps the available balance updated\n",
    "- implements a good string representation for the instance (maybe something like `first_name last_name (account_number): balance`"
   ]
  },
  {
   "cell_type": "markdown",
   "id": "cultural-point",
   "metadata": {},
   "source": [
    "Feel free to expand on the minimum definition I have given here and enhance your custom class.\n",
    "\n",
    "### Solution"
   ]
  },
  {
   "cell_type": "code",
   "execution_count": 1,
   "id": "bec013ec",
   "metadata": {},
   "outputs": [],
   "source": [
    "from datetime import datetime, timezone\n",
    "\n",
    "class OverdraftNotAllowed(Exception):\n",
    "    pass\n",
    "\n",
    "class BankAccount:\n",
    "    def __init__(self, first_name, last_name, account_number, balance, is_overdraft_allowed):\n",
    "        self._first_name = first_name\n",
    "        self._last_name = last_name\n",
    "        self._account_number = account_number\n",
    "        self._balance = balance\n",
    "        self._is_overdraft_allowed = is_overdraft_allowed\n",
    "        self._ledger = []\n",
    "\n",
    "    @property\n",
    "    def first_name(self):\n",
    "        return self._first_name\n",
    "\n",
    "    @property\n",
    "    def last_name(self):\n",
    "        return self._last_name\n",
    "\n",
    "    @property\n",
    "    def account_number(self):\n",
    "        return self._account_number\n",
    "\n",
    "    @property\n",
    "    def balance(self):\n",
    "        return self._balance\n",
    "\n",
    "    @property\n",
    "    def ledger(self):\n",
    "        return self._ledger.copy()\n",
    "\n",
    "    @property\n",
    "    def is_overdraft_allowed(self):\n",
    "        return self._is_overdraft_allowed\n",
    "\n",
    "    @is_overdraft_allowed.setter\n",
    "    def is_overdraft_allowed(self, value):\n",
    "        self._is_overdraft_allowed = value\n",
    "\n",
    "    def withdraw(self, amount):\n",
    "        if amount <= 0:\n",
    "            raise ValueError(\"Amount must be positive.\")\n",
    "        \n",
    "        if not self._is_overdraft_allowed and self._balance < amount:\n",
    "            raise OverdraftNotAllowed(\"Overdrafts are not allowed.\")\n",
    "\n",
    "        self._balance -= amount\n",
    "        self._ledger.append({\"date\": datetime.now(timezone.utc), \"amount\": -amount})\n",
    "        \n",
    "    def deposit(self, amount):\n",
    "        if amount <= 0:\n",
    "            raise ValueError(\"Amount must be positive.\")\n",
    "        \n",
    "        self._balance += amount\n",
    "        self._ledger.append({\"date\": datetime.now(timezone.utc), \"amount\": amount})\n",
    "\n",
    "    def __str__(self):\n",
    "        return f\"{self._first_name} {self._last_name} ({self._account_number}): {self._balance}\"\n",
    "\n"
   ]
  },
  {
   "cell_type": "code",
   "execution_count": 3,
   "id": "1ab1cf81",
   "metadata": {},
   "outputs": [
    {
     "name": "stdout",
     "output_type": "stream",
     "text": [
      "Shrawan\n",
      "Kumawat\n",
      "123456789\n",
      "1000\n",
      "True\n",
      "1300\n",
      "{'date': datetime.datetime(2023, 5, 22, 11, 29, 15, 515263, tzinfo=datetime.timezone.utc), 'amount': 500}\n",
      "{'date': datetime.datetime(2023, 5, 22, 11, 29, 15, 515263, tzinfo=datetime.timezone.utc), 'amount': -200}\n",
      "Overdrafts are not allowed.\n",
      "Amount must be positive.\n",
      "Shrawan Kumawat (123456789): 1300\n"
     ]
    }
   ],
   "source": [
    "# Creating an instance of BankAccount\n",
    "account = BankAccount(\"Shrawan\", \"Kumawat\", \"123456789\", 1000, True)\n",
    "\n",
    "# Accessing properties\n",
    "print(account.first_name)  \n",
    "print(account.last_name)  \n",
    "print(account.account_number)  \n",
    "print(account.balance)     \n",
    "print(account.is_overdraft_allowed)  \n",
    "\n",
    "# Depositing and Withdrawing\n",
    "account.deposit(500)\n",
    "account.withdraw(200)\n",
    "print(account.balance)     \n",
    "\n",
    "# Accessing the ledger\n",
    "ledger = account.ledger\n",
    "for transaction in ledger:\n",
    "    print(transaction)\n",
    "\n",
    "# Modifying overdraft allowance\n",
    "account.is_overdraft_allowed = False\n",
    "\n",
    "# Attempting to withdraw more than the available balance (without overdrafts)\n",
    "try:\n",
    "    account.withdraw(2000)\n",
    "except OverdraftNotAllowed as e:\n",
    "    print(e)  # Overdrafts are not allowed.\n",
    "\n",
    "# Attempting to withdraw a negative amount\n",
    "try:\n",
    "    account.withdraw(-500)\n",
    "except ValueError as e:\n",
    "    print(e)  # Amount must be positive.\n",
    "\n",
    "# String representation of the account\n",
    "print(str(account))  "
   ]
  },
  {
   "cell_type": "markdown",
   "id": "weekly-working",
   "metadata": {},
   "source": [
    "#### Question 2"
   ]
  },
  {
   "cell_type": "markdown",
   "id": "accompanied-collaboration",
   "metadata": {},
   "source": [
    "Expand on your class above to implement equality (`==`) comparisons between instances of your class."
   ]
  },
  {
   "cell_type": "markdown",
   "id": "acceptable-creek",
   "metadata": {},
   "source": [
    "Two accounts should be considered equal if the account numbers are the same.\n",
    "\n",
    "### Solution"
   ]
  },
  {
   "cell_type": "code",
   "execution_count": 4,
   "id": "9e0479d4",
   "metadata": {},
   "outputs": [],
   "source": [
    "from datetime import datetime, timezone\n",
    "\n",
    "class OverdraftNotAllowed(Exception):\n",
    "    pass\n",
    "\n",
    "class BankAccount:\n",
    "    def __init__(self, first_name, last_name, account_number, balance, is_overdraft_allowed):\n",
    "        self._first_name = first_name\n",
    "        self._last_name = last_name\n",
    "        self._account_number = account_number\n",
    "        self._balance = balance\n",
    "        self._is_overdraft_allowed = is_overdraft_allowed\n",
    "        self._ledger = []\n",
    "\n",
    "    @property\n",
    "    def first_name(self):\n",
    "        return self._first_name\n",
    "\n",
    "    @property\n",
    "    def last_name(self):\n",
    "        return self._last_name\n",
    "\n",
    "    @property\n",
    "    def account_number(self):\n",
    "        return self._account_number\n",
    "\n",
    "    @property\n",
    "    def balance(self):\n",
    "        return self._balance\n",
    "\n",
    "    @property\n",
    "    def ledger(self):\n",
    "        return self._ledger.copy()\n",
    "\n",
    "    @property\n",
    "    def is_overdraft_allowed(self):\n",
    "        return self._is_overdraft_allowed\n",
    "\n",
    "    @is_overdraft_allowed.setter\n",
    "    def is_overdraft_allowed(self, value):\n",
    "        self._is_overdraft_allowed = value\n",
    "\n",
    "    def withdraw(self, amount):\n",
    "        if amount <= 0:\n",
    "            raise ValueError(\"Amount must be positive.\")\n",
    "\n",
    "        if not self._is_overdraft_allowed and self._balance < amount:\n",
    "            raise OverdraftNotAllowed(\"Overdrafts are not allowed.\")\n",
    "\n",
    "        self._balance -= amount\n",
    "        self._ledger.append({\"date\": datetime.now(timezone.utc), \"amount\": -amount})\n",
    "\n",
    "    def deposit(self, amount):\n",
    "        if amount <= 0:\n",
    "            raise ValueError(\"Amount must be positive.\")\n",
    "\n",
    "        self._balance += amount\n",
    "        self._ledger.append({\"date\": datetime.now(timezone.utc), \"amount\": amount})\n",
    "\n",
    "    def __eq__(self, other):\n",
    "        if isinstance(other, BankAccount):\n",
    "            return self._account_number == other._account_number\n",
    "        return False\n",
    "\n",
    "    def __str__(self):\n",
    "        return f\"{self._first_name} {self._last_name} ({self._account_number}): {self._balance}\"\n"
   ]
  },
  {
   "cell_type": "code",
   "execution_count": 5,
   "id": "15d87b52",
   "metadata": {},
   "outputs": [
    {
     "name": "stdout",
     "output_type": "stream",
     "text": [
      "False\n",
      "True\n"
     ]
    }
   ],
   "source": [
    "# Creating 3 BankAccount instances\n",
    "account1 = BankAccount(\"Shrawan\", \"Kumawat\", \"123456789\", 1000, True)\n",
    "account2 = BankAccount(\"Sandeep\", \"Kumawat\", \"987654321\", 2000, False)\n",
    "account3 = BankAccount(\"Ankit\", \"Sain\", \"123456789\", 3000, True)\n",
    "\n",
    "# Comparing instances based on account numbers\n",
    "print(account1 == account2) \n",
    "print(account1 == account3)  "
   ]
  },
  {
   "cell_type": "code",
   "execution_count": null,
   "id": "0aef6a2a",
   "metadata": {},
   "outputs": [],
   "source": []
  }
 ],
 "metadata": {
  "kernelspec": {
   "display_name": "Python 3 (ipykernel)",
   "language": "python",
   "name": "python3"
  },
  "language_info": {
   "codemirror_mode": {
    "name": "ipython",
    "version": 3
   },
   "file_extension": ".py",
   "mimetype": "text/x-python",
   "name": "python",
   "nbconvert_exporter": "python",
   "pygments_lexer": "ipython3",
   "version": "3.9.12"
  }
 },
 "nbformat": 4,
 "nbformat_minor": 5
}
