{
 "cells": [
  {
   "cell_type": "markdown",
   "id": "willing-privacy",
   "metadata": {},
   "source": [
    "### Exercises"
   ]
  },
  {
   "cell_type": "markdown",
   "id": "biological-eugene",
   "metadata": {},
   "source": [
    "#### Question 1"
   ]
  },
  {
   "cell_type": "markdown",
   "id": "convertible-romance",
   "metadata": {},
   "source": [
    "Generate the sample space of rolling two 6-sided dice, numbered `'9', '10', 'J', 'Q', 'K', 'A'`."
   ]
  },
  {
   "cell_type": "markdown",
   "id": "stock-relations",
   "metadata": {},
   "source": [
    "(The sample space is the set of all possible outcomes)."
   ]
  },
  {
   "cell_type": "markdown",
   "id": "strong-russia",
   "metadata": {},
   "source": [
    "Your result should be a list containing tuples for the outcome of each die, e.g.\n",
    "\n",
    "```\n",
    "[('9', '9'),\n",
    " ('9', '10'),\n",
    " ('9', 'J'),\n",
    " ('9', 'Q'),\n",
    " ('9', 'K'),\n",
    " ('9', 'A'),\n",
    " ('10', '9'),\n",
    " ('10', '10'),\n",
    " ('10', 'J'),\n",
    " ('10', 'Q'),\n",
    " ('10', 'K'),\n",
    " ('10', 'A'),\n",
    " etc\n",
    "```"
   ]
  },
  {
   "cell_type": "markdown",
   "id": "chicken-proceeding",
   "metadata": {},
   "source": [
    "Make this a function that returns the sample space, called `make_sample_space`.\n",
    "\n",
    "### solution"
   ]
  },
  {
   "cell_type": "code",
   "execution_count": 3,
   "id": "74303733",
   "metadata": {},
   "outputs": [
    {
     "name": "stdout",
     "output_type": "stream",
     "text": [
      "('9', '9')\n",
      "('9', '10')\n",
      "('9', 'J')\n",
      "('9', 'Q')\n",
      "('9', 'K')\n",
      "('9', 'A')\n",
      "('10', '9')\n",
      "('10', '10')\n",
      "('10', 'J')\n",
      "('10', 'Q')\n",
      "('10', 'K')\n",
      "('10', 'A')\n",
      "('J', '9')\n",
      "('J', '10')\n",
      "('J', 'J')\n",
      "('J', 'Q')\n",
      "('J', 'K')\n",
      "('J', 'A')\n",
      "('Q', '9')\n",
      "('Q', '10')\n",
      "('Q', 'J')\n",
      "('Q', 'Q')\n",
      "('Q', 'K')\n",
      "('Q', 'A')\n",
      "('K', '9')\n",
      "('K', '10')\n",
      "('K', 'J')\n",
      "('K', 'Q')\n",
      "('K', 'K')\n",
      "('K', 'A')\n",
      "('A', '9')\n",
      "('A', '10')\n",
      "('A', 'J')\n",
      "('A', 'Q')\n",
      "('A', 'K')\n",
      "('A', 'A')\n"
     ]
    }
   ],
   "source": [
    "def make_sample_space():\n",
    "    dice_labels = ['9', '10', 'J', 'Q', 'K', 'A']\n",
    "    sample_space = []\n",
    "\n",
    "    for die1 in dice_labels:\n",
    "        for die2 in dice_labels:\n",
    "            outcome = (die1, die2)\n",
    "            sample_space.append(outcome)\n",
    "            print(outcome)\n",
    "\n",
    "    return sample_space\n",
    "\n",
    "\n",
    "sample_space = make_sample_space()\n"
   ]
  },
  {
   "cell_type": "markdown",
   "id": "searching-footwear",
   "metadata": {},
   "source": [
    "#### Question 2"
   ]
  },
  {
   "cell_type": "markdown",
   "id": "matched-opening",
   "metadata": {},
   "source": [
    "Using the sample space you just created above, simulate throwing the two die `n` times by making random choices from the sample space."
   ]
  },
  {
   "cell_type": "markdown",
   "id": "olive-athens",
   "metadata": {},
   "source": [
    "Again, make this into a function that returns the random choices as a list of tuples, with `n` as a parameter of this function.\n",
    "\n",
    "Call the function `simulate_throws_from_sample_space`.\n",
    "\n",
    "### Solution"
   ]
  },
  {
   "cell_type": "code",
   "execution_count": 4,
   "id": "02100fd2",
   "metadata": {},
   "outputs": [
    {
     "name": "stdout",
     "output_type": "stream",
     "text": [
      "('A', '9')\n",
      "('Q', 'Q')\n",
      "('K', 'K')\n",
      "('J', 'J')\n",
      "('Q', 'K')\n",
      "('J', 'A')\n",
      "('J', 'K')\n",
      "('Q', 'Q')\n",
      "('J', '10')\n",
      "('Q', 'Q')\n"
     ]
    }
   ],
   "source": [
    "import random\n",
    "\n",
    "def simulate_throws_from_sample_space(n):\n",
    "    dice_labels = ['9', '10', 'J', 'Q', 'K', 'A']\n",
    "    sample_space = []\n",
    "\n",
    "    for die1 in dice_labels:\n",
    "        for die2 in dice_labels:\n",
    "            outcome = (die1, die2)\n",
    "            sample_space.append(outcome)\n",
    "\n",
    "    throws = random.choices(sample_space, k=n)\n",
    "    return throws\n",
    "\n",
    "\n",
    "n = 10\n",
    "throws = simulate_throws_from_sample_space(n)\n",
    "\n",
    "\n",
    "for throw in throws:\n",
    "    print(throw)\n"
   ]
  },
  {
   "cell_type": "markdown",
   "id": "nearby-first",
   "metadata": {},
   "source": [
    "#### Question 3"
   ]
  },
  {
   "cell_type": "markdown",
   "id": "compliant-eleven",
   "metadata": {},
   "source": [
    "Your goal here is to implement a function `simulate_throws`, similar to the one you wrote in Question 2, but without generating a sample space at all - just using the `face_values`.\n",
    "\n",
    "Write a function that implements this, and name it `simulate_throws`.\n",
    "\n",
    "### Solution"
   ]
  },
  {
   "cell_type": "code",
   "execution_count": 5,
   "id": "1c0681c7",
   "metadata": {},
   "outputs": [
    {
     "name": "stdout",
     "output_type": "stream",
     "text": [
      "('J', '10')\n",
      "('Q', '10')\n",
      "('K', '10')\n",
      "('9', '10')\n",
      "('K', '9')\n",
      "('A', 'J')\n",
      "('K', 'Q')\n",
      "('J', 'J')\n",
      "('K', '10')\n",
      "('9', 'Q')\n"
     ]
    }
   ],
   "source": [
    "import random\n",
    "\n",
    "def simulate_throws(face_values, n):\n",
    "    throws = []\n",
    "    num_faces = len(face_values)\n",
    "\n",
    "    for _ in range(n):\n",
    "        die1 = random.choice(face_values)\n",
    "        die2 = random.choice(face_values)\n",
    "        throw = (die1, die2)\n",
    "        throws.append(throw)\n",
    "\n",
    "    return throws\n",
    "\n",
    "\n",
    "face_values = ['9', '10', 'J', 'Q', 'K', 'A']\n",
    "n = 10\n",
    "\n",
    "throws = simulate_throws(face_values, n)\n",
    "\n",
    "\n",
    "for throw in throws:\n",
    "    print(throw)\n"
   ]
  },
  {
   "cell_type": "markdown",
   "id": "useful-claim",
   "metadata": {},
   "source": [
    "#### Question 4"
   ]
  },
  {
   "cell_type": "markdown",
   "id": "photographic-collection",
   "metadata": {},
   "source": [
    "Using both methods of generating throws, build a dictionary that contains the face values as keys, and the number of times they were selected in the simulated throws."
   ]
  },
  {
   "cell_type": "markdown",
   "id": "hybrid-titanium",
   "metadata": {},
   "source": [
    "For example, assuming you made `100` throws using one of these methods, your dictionary might look like this:\n",
    "\n",
    "```\n",
    "{\n",
    "    '9': 39, \n",
    "    '10': 27, \n",
    "    'J': 28, \n",
    "    'Q': 34,\n",
    "    'K': 36, \n",
    "    'A': 36\n",
    "}\n",
    "```\n",
    "### solution"
   ]
  },
  {
   "cell_type": "code",
   "execution_count": 6,
   "id": "269d7d67",
   "metadata": {},
   "outputs": [
    {
     "name": "stdout",
     "output_type": "stream",
     "text": [
      "Throw counts using sample space generation method:\n",
      "{'9': 20, '10': 50, 'J': 32, 'Q': 34, 'K': 29, 'A': 35}\n",
      "\n",
      "Throw counts using direct throw simulation method:\n",
      "{'9': 28, '10': 40, 'J': 33, 'Q': 33, 'K': 36, 'A': 30}\n"
     ]
    }
   ],
   "source": [
    "import random\n",
    "\n",
    "def generate_throw_counts(generate_throws_method, face_values, n):\n",
    "    throws = generate_throws_method(face_values, n)\n",
    "    throw_counts = {face: 0 for face in face_values}\n",
    "\n",
    "    for throw in throws:\n",
    "        for face in throw:\n",
    "            throw_counts[face] += 1\n",
    "\n",
    "    return throw_counts\n",
    "\n",
    "# Function to simulate throws by generating a sample space\n",
    "def simulate_throws_sample_space(face_values, n):\n",
    "    sample_space = [(die1, die2) for die1 in face_values for die2 in face_values]\n",
    "    throws = random.choices(sample_space, k=n)\n",
    "    return throws\n",
    "\n",
    "# Function to simulate throws without generating a sample space\n",
    "def simulate_throws(face_values, n):\n",
    "    throws = []\n",
    "    num_faces = len(face_values)\n",
    "\n",
    "    for _ in range(n):\n",
    "        die1 = random.choice(face_values)\n",
    "        die2 = random.choice(face_values)\n",
    "        throw = (die1, die2)\n",
    "        throws.append(throw)\n",
    "\n",
    "    return throws\n",
    "\n",
    "\n",
    "face_values = ['9', '10', 'J', 'Q', 'K', 'A']\n",
    "n = 100\n",
    "\n",
    "throw_counts_sample_space = generate_throw_counts(simulate_throws_sample_space, face_values, n)\n",
    "print(\"Throw counts using sample space generation method:\")\n",
    "print(throw_counts_sample_space)\n",
    "\n",
    "throw_counts = generate_throw_counts(simulate_throws, face_values, n)\n",
    "print(\"\\nThrow counts using direct throw simulation method:\")\n",
    "print(throw_counts)\n"
   ]
  },
  {
   "cell_type": "markdown",
   "id": "included-willow",
   "metadata": {},
   "source": [
    "Note that your values in the dictionary should add up to `200` is you made one `100` throws."
   ]
  },
  {
   "cell_type": "markdown",
   "id": "stuffed-think",
   "metadata": {},
   "source": [
    "Write a function that is given the function to use to generate the throws, the number of throws to simulate, and returns this dictionary."
   ]
  },
  {
   "cell_type": "markdown",
   "id": "occupational-ladder",
   "metadata": {},
   "source": [
    "#### Question 5"
   ]
  },
  {
   "cell_type": "markdown",
   "id": "vietnamese-coral",
   "metadata": {},
   "source": [
    "Write a function that given two arguments `a` and `b` returns a random float between `a` (inclusive) and `b` (exclusive).\n",
    "\n",
    "### Solution"
   ]
  },
  {
   "cell_type": "code",
   "execution_count": 9,
   "id": "6d48c887",
   "metadata": {},
   "outputs": [
    {
     "name": "stdout",
     "output_type": "stream",
     "text": [
      "4.624285540770654\n"
     ]
    }
   ],
   "source": [
    "import random\n",
    "\n",
    "def random_float_between(a, b):\n",
    "    return random.uniform(a, b)\n",
    "\n",
    "# Example usage\n",
    "a = 1.0\n",
    "b = 5.0\n",
    "\n",
    "random_num = random_float_between(a, b)\n",
    "print(random_num)\n"
   ]
  },
  {
   "cell_type": "code",
   "execution_count": null,
   "id": "a5d5cfb2",
   "metadata": {},
   "outputs": [],
   "source": []
  }
 ],
 "metadata": {
  "kernelspec": {
   "display_name": "Python 3 (ipykernel)",
   "language": "python",
   "name": "python3"
  },
  "language_info": {
   "codemirror_mode": {
    "name": "ipython",
    "version": 3
   },
   "file_extension": ".py",
   "mimetype": "text/x-python",
   "name": "python",
   "nbconvert_exporter": "python",
   "pygments_lexer": "ipython3",
   "version": "3.9.12"
  }
 },
 "nbformat": 4,
 "nbformat_minor": 5
}
