{
 "cells": [
  {
   "cell_type": "markdown",
   "id": "golden-ending",
   "metadata": {},
   "source": [
    "### Exercises"
   ]
  },
  {
   "cell_type": "markdown",
   "id": "minimal-layer",
   "metadata": {},
   "source": [
    "#### Question 1"
   ]
  },
  {
   "cell_type": "markdown",
   "id": "confirmed-surveillance",
   "metadata": {},
   "source": [
    "Given these two lists:"
   ]
  },
  {
   "cell_type": "code",
   "execution_count": 1,
   "id": "secure-mexican",
   "metadata": {},
   "outputs": [],
   "source": [
    "widgets = [f'w{i}' for i in range(1, 21)]\n",
    "skus = [f'sku{i}' for i in range(1, len(widgets) + 1)]"
   ]
  },
  {
   "cell_type": "markdown",
   "id": "retained-pacific",
   "metadata": {},
   "source": [
    "Write a function that uses the `zip` function to generate a dictionary with keys from the `widgets`, and values from the `skus`, i.e.:\n",
    "\n",
    "```\n",
    "{\n",
    "  'w1': 'sku1',\n",
    "  'w2': 'sku2',\n",
    "  ...\n",
    "  'w20': 'sku20'\n",
    "}\n",
    "```\n",
    "\n",
    "#### Solution"
   ]
  },
  {
   "cell_type": "code",
   "execution_count": 6,
   "id": "f95d14ad",
   "metadata": {},
   "outputs": [
    {
     "data": {
      "text/plain": [
       "{'w1': 'sku1',\n",
       " 'w2': 'sku2',\n",
       " 'w3': 'sku3',\n",
       " 'w4': 'sku4',\n",
       " 'w5': 'sku5',\n",
       " 'w6': 'sku6',\n",
       " 'w7': 'sku7',\n",
       " 'w8': 'sku8',\n",
       " 'w9': 'sku9',\n",
       " 'w10': 'sku10',\n",
       " 'w11': 'sku11',\n",
       " 'w12': 'sku12',\n",
       " 'w13': 'sku13',\n",
       " 'w14': 'sku14',\n",
       " 'w15': 'sku15',\n",
       " 'w16': 'sku16',\n",
       " 'w17': 'sku17',\n",
       " 'w18': 'sku18',\n",
       " 'w19': 'sku19',\n",
       " 'w20': 'sku20'}"
      ]
     },
     "execution_count": 6,
     "metadata": {},
     "output_type": "execute_result"
    }
   ],
   "source": [
    "widgets = [f'w{i}' for i in range(1, 21)]\n",
    "skus = [f'sku{i}' for i in range(1, len(widgets) + 1)]\n",
    "\n",
    "result = dict(zip(widgets, skus))\n",
    "result"
   ]
  },
  {
   "cell_type": "markdown",
   "id": "potential-kingdom",
   "metadata": {},
   "source": [
    "#### Question 2"
   ]
  },
  {
   "cell_type": "markdown",
   "id": "expanded-payroll",
   "metadata": {},
   "source": [
    "Given the following data:"
   ]
  },
  {
   "cell_type": "code",
   "execution_count": 2,
   "id": "compatible-cabin",
   "metadata": {},
   "outputs": [],
   "source": [
    "suits = 'shdc'  # Spades, Hearts, Diamonds, Clubs\n",
    "ranks = list('23456789') + ['10', 'J', 'Q', 'K', 'A']"
   ]
  },
  {
   "cell_type": "markdown",
   "id": "studied-behavior",
   "metadata": {},
   "source": [
    "Write a function that given those two inputs, returns a list with all 52 cards, consisting of tuples `(rank, suit)`, i.e.\n",
    "\n",
    "```\n",
    "[\n",
    "  [('2', 's'), ('3', 's'), ..., ('K', 's'), ('A', 's')],\n",
    "  [('2', 'h'), ('3', 'h'), ..., ('K', 'h'), ('A', 'h')],\n",
    "  ...\n",
    "]\n",
    "```\n",
    "\n",
    "#### Solution"
   ]
  },
  {
   "cell_type": "code",
   "execution_count": 1,
   "id": "2297e28c",
   "metadata": {},
   "outputs": [
    {
     "name": "stdout",
     "output_type": "stream",
     "text": [
      "[('2', 's'), ('3', 's'), ('4', 's'), ('5', 's'), ('6', 's'), ('7', 's'), ('8', 's'), ('9', 's'), ('10', 's'), ('J', 's'), ('Q', 's'), ('K', 's'), ('A', 's')]\n",
      "[('2', 'h'), ('3', 'h'), ('4', 'h'), ('5', 'h'), ('6', 'h'), ('7', 'h'), ('8', 'h'), ('9', 'h'), ('10', 'h'), ('J', 'h'), ('Q', 'h'), ('K', 'h'), ('A', 'h')]\n",
      "[('2', 'd'), ('3', 'd'), ('4', 'd'), ('5', 'd'), ('6', 'd'), ('7', 'd'), ('8', 'd'), ('9', 'd'), ('10', 'd'), ('J', 'd'), ('Q', 'd'), ('K', 'd'), ('A', 'd')]\n",
      "[('2', 'c'), ('3', 'c'), ('4', 'c'), ('5', 'c'), ('6', 'c'), ('7', 'c'), ('8', 'c'), ('9', 'c'), ('10', 'c'), ('J', 'c'), ('Q', 'c'), ('K', 'c'), ('A', 'c')]\n"
     ]
    }
   ],
   "source": [
    "def func(suits, ranks):\n",
    "    deck = [(rank, suit) for suit in suits for rank in ranks]\n",
    "    return [deck[i:i+len(ranks)] for i in range(0, len(deck), len(ranks))]\n",
    "\n",
    "suits = 'shdc'\n",
    "ranks = list('23456789') + ['10', 'J', 'Q', 'K', 'A']\n",
    "\n",
    "result = func(suits, ranks)\n",
    "for cards in result:\n",
    "    print(cards)\n"
   ]
  },
  {
   "cell_type": "code",
   "execution_count": null,
   "id": "87589554",
   "metadata": {},
   "outputs": [],
   "source": []
  },
  {
   "cell_type": "markdown",
   "id": "global-helena",
   "metadata": {},
   "source": [
    "#### Question 3"
   ]
  },
  {
   "cell_type": "markdown",
   "id": "confused-causing",
   "metadata": {},
   "source": [
    "Write a function that receives two arguments:\n",
    "- a list of numbers\n",
    "- a keyword-only argument `reverse` that defaults to `False` and indicates an ascending sort, but a value of `True` indicates a descending sort"
   ]
  },
  {
   "cell_type": "markdown",
   "id": "reflected-cause",
   "metadata": {},
   "source": [
    "Your function should return three values:\n",
    "- a list of the numbers, but sorted (ascending/descending depending on value of `reverse`)\n",
    "- the minimum value in the list (this is not affected by the value of `reverse`)\n",
    "- the maximum value in the list (this is not affected by the value of `reverse`)\n",
    "\n",
    "#### Solution"
   ]
  },
  {
   "cell_type": "code",
   "execution_count": 13,
   "id": "b8c020ae",
   "metadata": {},
   "outputs": [],
   "source": [
    "def func(numbers, *, reverse=False):\n",
    "    sorted_numbers = sorted(numbers, reverse=reverse)\n",
    "    min_value = min(numbers)\n",
    "    max_value = max(numbers)\n",
    "    return sorted_numbers, min_value, max_value\n"
   ]
  },
  {
   "cell_type": "code",
   "execution_count": 15,
   "id": "2ebeb271",
   "metadata": {},
   "outputs": [
    {
     "name": "stdout",
     "output_type": "stream",
     "text": [
      "Sorted numbers: [1, 2, 5, 8, 9, 12, 17, 36, 56, 89, 102]\n",
      "Minimum value: 1\n",
      "Maximum value: 102\n"
     ]
    }
   ],
   "source": [
    "numbers = [5, 2, 8, 1, 9, 12, 56, 89, 17, 102, 36]\n",
    "sorted_numbers, min_value, max_value = func(numbers)\n",
    "print(\"Sorted numbers:\", sorted_numbers)\n",
    "print(\"Minimum value:\", min_value)\n",
    "print(\"Maximum value:\", max_value)\n"
   ]
  },
  {
   "cell_type": "code",
   "execution_count": null,
   "id": "caadeee2",
   "metadata": {},
   "outputs": [],
   "source": []
  }
 ],
 "metadata": {
  "kernelspec": {
   "display_name": "Python 3 (ipykernel)",
   "language": "python",
   "name": "python3"
  },
  "language_info": {
   "codemirror_mode": {
    "name": "ipython",
    "version": 3
   },
   "file_extension": ".py",
   "mimetype": "text/x-python",
   "name": "python",
   "nbconvert_exporter": "python",
   "pygments_lexer": "ipython3",
   "version": "3.9.12"
  }
 },
 "nbformat": 4,
 "nbformat_minor": 5
}
