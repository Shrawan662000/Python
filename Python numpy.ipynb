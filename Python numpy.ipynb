{
 "cells": [
  {
   "cell_type": "code",
   "execution_count": 1,
   "id": "bbd97fe9",
   "metadata": {},
   "outputs": [],
   "source": [
    "import numpy as np"
   ]
  },
  {
   "cell_type": "code",
   "execution_count": 9,
   "id": "c8f53906",
   "metadata": {},
   "outputs": [
    {
     "name": "stdout",
     "output_type": "stream",
     "text": [
      "[1.  2.  3.  4.  5.  6.  0.2]\n",
      "<class 'numpy.ndarray'>\n",
      "7\n",
      "1\n"
     ]
    }
   ],
   "source": [
    "import numpy as np\n",
    "a=np.array([1,2,3,4,5,6,0.2]) #this means np array can store different data types\n",
    "print(a)\n",
    "print(type(a))\n",
    "print(len(a))\n",
    "print(a.ndim)"
   ]
  },
  {
   "cell_type": "code",
   "execution_count": 11,
   "id": "cba7464a",
   "metadata": {},
   "outputs": [
    {
     "name": "stdout",
     "output_type": "stream",
     "text": [
      "['1' '2' '3' '4' 'Ran' '6' '0.2']\n",
      "<class 'numpy.ndarray'>\n",
      "7\n",
      "1\n",
      "\n",
      "\n",
      "<class 'numpy.str_'>\n",
      "<class 'numpy.str_'>\n",
      "<class 'numpy.str_'>\n",
      "<class 'numpy.str_'>\n",
      "<class 'numpy.str_'>\n",
      "<class 'numpy.str_'>\n",
      "<class 'numpy.str_'>\n"
     ]
    }
   ],
   "source": [
    "import numpy as np\n",
    "a=np.array([1,2,3,4,'Ram',6,0.2]) #this means np array can store different data types\n",
    "print(a)\n",
    "print(type(a))\n",
    "print(len(a))\n",
    "print(a.ndim)\n",
    "\n",
    "print(\"\\n\")\n",
    "\n",
    "for x in a:\n",
    "    print(type(x))"
   ]
  },
  {
   "cell_type": "code",
   "execution_count": null,
   "id": "12683670",
   "metadata": {},
   "outputs": [],
   "source": []
  },
  {
   "cell_type": "markdown",
   "id": "c8f3421f",
   "metadata": {},
   "source": [
    "### add  items to array\n",
    "#### Method 1st is: by converting in list"
   ]
  },
  {
   "cell_type": "code",
   "execution_count": 3,
   "id": "2899aebe",
   "metadata": {},
   "outputs": [],
   "source": [
    "b=list(a)"
   ]
  },
  {
   "cell_type": "code",
   "execution_count": 4,
   "id": "c18bb3e6",
   "metadata": {},
   "outputs": [
    {
     "data": {
      "text/plain": [
       "list"
      ]
     },
     "execution_count": 4,
     "metadata": {},
     "output_type": "execute_result"
    }
   ],
   "source": [
    "type(b)"
   ]
  },
  {
   "cell_type": "code",
   "execution_count": 5,
   "id": "12d36b61",
   "metadata": {},
   "outputs": [],
   "source": [
    "b.append(6)"
   ]
  },
  {
   "cell_type": "code",
   "execution_count": 6,
   "id": "dbe214b5",
   "metadata": {},
   "outputs": [
    {
     "data": {
      "text/plain": [
       "['1', '2', '3', '4', '5', 'ram', '0.2', 6]"
      ]
     },
     "execution_count": 6,
     "metadata": {},
     "output_type": "execute_result"
    }
   ],
   "source": [
    "b"
   ]
  },
  {
   "cell_type": "code",
   "execution_count": 7,
   "id": "f8b28d7b",
   "metadata": {},
   "outputs": [],
   "source": [
    "c=np.array(b)"
   ]
  },
  {
   "cell_type": "code",
   "execution_count": 8,
   "id": "9d1e6ad8",
   "metadata": {},
   "outputs": [
    {
     "data": {
      "text/plain": [
       "numpy.ndarray"
      ]
     },
     "execution_count": 8,
     "metadata": {},
     "output_type": "execute_result"
    }
   ],
   "source": [
    "type(c)"
   ]
  },
  {
   "cell_type": "code",
   "execution_count": 9,
   "id": "0706b52f",
   "metadata": {},
   "outputs": [
    {
     "data": {
      "text/plain": [
       "array(['1', '2', '3', '4', '5', 'ram', '0.2', '6'], dtype='<U11')"
      ]
     },
     "execution_count": 9,
     "metadata": {},
     "output_type": "execute_result"
    }
   ],
   "source": [
    "c"
   ]
  },
  {
   "cell_type": "markdown",
   "id": "b72ecf5e",
   "metadata": {},
   "source": [
    "#### method 2 "
   ]
  },
  {
   "cell_type": "code",
   "execution_count": 10,
   "id": "480a18d7",
   "metadata": {},
   "outputs": [
    {
     "data": {
      "text/plain": [
       "array(['1', '2', '3', '4', '5', 'ram', '0.2'], dtype='<U32')"
      ]
     },
     "execution_count": 10,
     "metadata": {},
     "output_type": "execute_result"
    }
   ],
   "source": [
    "a"
   ]
  },
  {
   "cell_type": "code",
   "execution_count": 11,
   "id": "4f200aca",
   "metadata": {},
   "outputs": [],
   "source": [
    "new1=np.append(a, 7)"
   ]
  },
  {
   "cell_type": "code",
   "execution_count": 12,
   "id": "e544bed4",
   "metadata": {},
   "outputs": [
    {
     "data": {
      "text/plain": [
       "array(['1', '2', '3', '4', '5', 'ram', '0.2', '7'], dtype='<U32')"
      ]
     },
     "execution_count": 12,
     "metadata": {},
     "output_type": "execute_result"
    }
   ],
   "source": [
    "new1"
   ]
  },
  {
   "cell_type": "markdown",
   "id": "1426a7d8",
   "metadata": {},
   "source": [
    "## creating multideimensional array"
   ]
  },
  {
   "cell_type": "code",
   "execution_count": 6,
   "id": "018e182d",
   "metadata": {},
   "outputs": [
    {
     "name": "stdout",
     "output_type": "stream",
     "text": [
      "[[1 2 3 4 5]\n",
      " [3 3 4 6 7]\n",
      " [3 2 4 5 5]]\n",
      "(3, 5)\n",
      "3\n",
      "size is: 15\n",
      "2\n",
      "<class 'numpy.ndarray'>\n"
     ]
    }
   ],
   "source": [
    "b=np.array([[1,2,3,4,5],[3,3,4,6,7],[3,2,4,5,5]])\n",
    "print(b)\n",
    "print(b.shape)\n",
    "print(len(b))\n",
    "print(\"size is:\",b.size)\n",
    "print(b.ndim)\n",
    "print(type(b))"
   ]
  },
  {
   "cell_type": "code",
   "execution_count": 8,
   "id": "fd989001",
   "metadata": {},
   "outputs": [
    {
     "name": "stdout",
     "output_type": "stream",
     "text": [
      "[[1 2 3]\n",
      " [4 5 3]\n",
      " [3 4 6]\n",
      " [7 3 2]\n",
      " [4 5 5]]\n",
      "\n",
      "\n",
      "[[1 2 3 4 5]\n",
      " [3 3 4 6 7]\n",
      " [3 2 4 5 5]]\n"
     ]
    }
   ],
   "source": [
    "#reshape\n",
    "a2=b.reshape(5,3)\n",
    "print(a2)\n",
    "print(\"\\n\")\n",
    "\n",
    "a2=b.reshape(-1,5) #-ve values adjust the array accordingly\n",
    "print(a2)"
   ]
  },
  {
   "cell_type": "markdown",
   "id": "477010c5",
   "metadata": {},
   "source": [
    "#### Create numpy array using nested list"
   ]
  },
  {
   "cell_type": "code",
   "execution_count": 15,
   "id": "32251acd",
   "metadata": {},
   "outputs": [
    {
     "name": "stdout",
     "output_type": "stream",
     "text": [
      "[[1 2 3 4]\n",
      " [2 3 4 5]\n",
      " [4 4 6 7]]\n"
     ]
    }
   ],
   "source": [
    "l1=[1,2,3,4]\n",
    "l2=[2,3,4,5]\n",
    "l3=[4,4,6,7]\n",
    "a3=np.array([l1,l2,l3],dtype=int)    #can change data type like this\n",
    "print(a3)"
   ]
  },
  {
   "cell_type": "markdown",
   "id": "abb46216",
   "metadata": {},
   "source": [
    "### numpy attributes"
   ]
  },
  {
   "cell_type": "code",
   "execution_count": 16,
   "id": "1008a464",
   "metadata": {},
   "outputs": [
    {
     "name": "stdout",
     "output_type": "stream",
     "text": [
      "[1.   1.25 1.5  1.75]\n",
      "(4,)\n"
     ]
    }
   ],
   "source": [
    "a3=np.arange(1.0,2.0,0.25)\n",
    "print(a3)\n",
    "print(a3.shape)"
   ]
  },
  {
   "cell_type": "code",
   "execution_count": 17,
   "id": "6146b42c",
   "metadata": {},
   "outputs": [
    {
     "name": "stdout",
     "output_type": "stream",
     "text": [
      "[ 0  1  2  3  4  5  6  7  8  9 10 11 12 13 14 15 16 17 18 19 20 21 22 23]\n",
      "[[[ 0  1  2]\n",
      "  [ 3  4  5]\n",
      "  [ 6  7  8]\n",
      "  [ 9 10 11]]\n",
      "\n",
      " [[12 13 14]\n",
      "  [15 16 17]\n",
      "  [18 19 20]\n",
      "  [21 22 23]]]\n",
      "2\n"
     ]
    }
   ],
   "source": [
    "a4=np.arange(24)\n",
    "print(a4)\n",
    "a5=a4.reshape(2,4,3) # 4X3 matrix with len 2\n",
    "print(a5)\n",
    "print(len(a5))"
   ]
  },
  {
   "cell_type": "markdown",
   "id": "8a05722d",
   "metadata": {},
   "source": [
    "##### numpy array arithmetic operation"
   ]
  },
  {
   "cell_type": "code",
   "execution_count": 18,
   "id": "6caec1df",
   "metadata": {},
   "outputs": [
    {
     "name": "stdout",
     "output_type": "stream",
     "text": [
      "[[ 8 10 12]\n",
      " [13 13 13]]\n",
      "[[-6 -6 -6]\n",
      " [-5 -3 -1]]\n",
      "[[ 7 16 27]\n",
      " [36 40 42]]\n",
      "[[0.14285714 0.25       0.33333333]\n",
      " [0.44444444 0.625      0.85714286]]\n",
      "[[0 0 0]\n",
      " [1 3 1]]\n",
      "[[     1    256  19683]\n",
      " [262144 390625 279936]]\n",
      "[[     1    256  19683]\n",
      " [262144 390625 279936]]\n"
     ]
    }
   ],
   "source": [
    "b1=np.array([[1,2,3],[4,5,6]])\n",
    "b2=np.array([[7,8,9],[9,8,7]])\n",
    "print(b1+b2)\n",
    "print(np.subtract(b1,b2))\n",
    "print(b1*b2)\n",
    "print(np.divide(b1,b2))\n",
    "print(b2%b1)\n",
    "print(b1**b2)\n",
    "print(np.power(b1,b2))"
   ]
  },
  {
   "cell_type": "code",
   "execution_count": 20,
   "id": "c185dc86",
   "metadata": {},
   "outputs": [
    {
     "name": "stdout",
     "output_type": "stream",
     "text": [
      "21\n",
      "[5 7 9]\n",
      "[ 6 15]\n"
     ]
    }
   ],
   "source": [
    "#sum\n",
    "b11=np.array([[1,2,3], [4,5,6]])\n",
    "b12=np.array([[7,8,9], [10,11,12]])\n",
    "print(np.sum(b11))\n",
    "print(np.sum(b11,axis=0)) #sum of each col\n",
    "print(np.sum(b11,axis=1)) #sum of each row\n"
   ]
  },
  {
   "cell_type": "code",
   "execution_count": 22,
   "id": "75ffb60d",
   "metadata": {},
   "outputs": [
    {
     "name": "stdout",
     "output_type": "stream",
     "text": [
      "[ 5.          6.22222222  7.44444444  8.66666667  9.88888889 11.11111111\n",
      " 12.33333333 13.55555556 14.77777778 16.        ]\n"
     ]
    }
   ],
   "source": [
    "d=np.linspace(5,16,10) #range from 5 to 16 with 10 equal parts\n",
    "print(d)"
   ]
  },
  {
   "cell_type": "code",
   "execution_count": 23,
   "id": "21af2876",
   "metadata": {},
   "outputs": [
    {
     "name": "stdout",
     "output_type": "stream",
     "text": [
      "1 2 3 4 5 ram 0.2 \n",
      "\n",
      "1 2 3 4 5 ram 0.2 "
     ]
    }
   ],
   "source": [
    "#iteration  numpy array\n",
    "for x in np.nditer(a):\n",
    "  print(x, end=' ')\n",
    "print(\"\\n\")\n",
    "\n",
    "# Or we can write like this\n",
    "for x in a:\n",
    "  print(x, end=' ')"
   ]
  },
  {
   "cell_type": "code",
   "execution_count": 24,
   "id": "fb8eead2",
   "metadata": {},
   "outputs": [
    {
     "data": {
      "text/plain": [
       "array(['1', '2', '3', '4', '5', 'ram', '0.2'], dtype='<U32')"
      ]
     },
     "execution_count": 24,
     "metadata": {},
     "output_type": "execute_result"
    }
   ],
   "source": [
    "a"
   ]
  },
  {
   "cell_type": "code",
   "execution_count": 25,
   "id": "93c28df5",
   "metadata": {},
   "outputs": [
    {
     "data": {
      "text/plain": [
       "array([[1, 2, 3],\n",
       "       [4, 5, 6]])"
      ]
     },
     "execution_count": 25,
     "metadata": {},
     "output_type": "execute_result"
    }
   ],
   "source": [
    "b1"
   ]
  },
  {
   "cell_type": "code",
   "execution_count": 26,
   "id": "8c37b718",
   "metadata": {},
   "outputs": [
    {
     "data": {
      "text/plain": [
       "array([3, 6])"
      ]
     },
     "execution_count": 26,
     "metadata": {},
     "output_type": "execute_result"
    }
   ],
   "source": [
    "np.max(b1, axis=1) #returns rows max"
   ]
  },
  {
   "cell_type": "code",
   "execution_count": 27,
   "id": "ac46b774",
   "metadata": {},
   "outputs": [
    {
     "data": {
      "text/plain": [
       "array([0, 0])"
      ]
     },
     "execution_count": 27,
     "metadata": {},
     "output_type": "execute_result"
    }
   ],
   "source": [
    "a=np.zeros(2, dtype=int)\n",
    "a"
   ]
  },
  {
   "cell_type": "code",
   "execution_count": 28,
   "id": "8a72a671",
   "metadata": {},
   "outputs": [
    {
     "data": {
      "text/plain": [
       "array([[0., 0., 0.],\n",
       "       [0., 0., 0.]])"
      ]
     },
     "execution_count": 28,
     "metadata": {},
     "output_type": "execute_result"
    }
   ],
   "source": [
    "b24=np.zeros([2,3])\n",
    "b24"
   ]
  },
  {
   "cell_type": "code",
   "execution_count": 29,
   "id": "dcc50418",
   "metadata": {},
   "outputs": [
    {
     "data": {
      "text/plain": [
       "array([[[0., 0., 0., 0.],\n",
       "        [0., 0., 0., 0.]],\n",
       "\n",
       "       [[0., 0., 0., 0.],\n",
       "        [0., 0., 0., 0.]],\n",
       "\n",
       "       [[0., 0., 0., 0.],\n",
       "        [0., 0., 0., 0.]]])"
      ]
     },
     "execution_count": 29,
     "metadata": {},
     "output_type": "execute_result"
    }
   ],
   "source": [
    "b231=np.zeros([3, 2, 4])\n",
    "b231"
   ]
  },
  {
   "cell_type": "code",
   "execution_count": 29,
   "id": "eb2629ec",
   "metadata": {},
   "outputs": [
    {
     "data": {
      "text/plain": [
       "array([[15, 15],\n",
       "       [15, 15],\n",
       "       [15, 15]])"
      ]
     },
     "execution_count": 29,
     "metadata": {},
     "output_type": "execute_result"
    }
   ],
   "source": [
    "c=np.full((3,2),15)\n",
    "c"
   ]
  },
  {
   "cell_type": "code",
   "execution_count": 31,
   "id": "3aaf2bf9",
   "metadata": {},
   "outputs": [
    {
     "data": {
      "text/plain": [
       "array([0.09528993, 0.80471184, 0.35750269, 0.4250106 , 0.73240109,\n",
       "       0.53219144, 0.67632438, 0.10877619, 0.94094233, 0.31300647,\n",
       "       0.1956067 , 0.51016943])"
      ]
     },
     "execution_count": 31,
     "metadata": {},
     "output_type": "execute_result"
    }
   ],
   "source": [
    "\n",
    "d=np.random.rand(12)\n",
    "d"
   ]
  },
  {
   "cell_type": "code",
   "execution_count": 32,
   "id": "52a4c7b1",
   "metadata": {},
   "outputs": [
    {
     "data": {
      "text/plain": [
       "array([-1.33458505, -0.141009  , -0.14691214, -1.10759182,  0.38921122,\n",
       "        1.5265517 , -1.11816164, -0.54935742, -0.16158694, -2.43132268,\n",
       "       -0.27611995, -3.05473896])"
      ]
     },
     "execution_count": 32,
     "metadata": {},
     "output_type": "execute_result"
    }
   ],
   "source": [
    "np.random.randn(12)"
   ]
  },
  {
   "cell_type": "code",
   "execution_count": 33,
   "id": "83729e92",
   "metadata": {},
   "outputs": [
    {
     "data": {
      "text/plain": [
       "array([ 4,  9, 45, 21, 27, 13, 38, 26, 18, 49, 30, 23, 12,  8, 49, 44,  9,\n",
       "       28, 43, 16])"
      ]
     },
     "execution_count": 33,
     "metadata": {},
     "output_type": "execute_result"
    }
   ],
   "source": [
    "np.random.randint(1, 50, 20)"
   ]
  },
  {
   "cell_type": "code",
   "execution_count": 36,
   "id": "c47013dc",
   "metadata": {},
   "outputs": [
    {
     "data": {
      "text/plain": [
       "array([ 0.61111663,  0.42793951, -0.52870748,  0.07481555])"
      ]
     },
     "execution_count": 36,
     "metadata": {},
     "output_type": "execute_result"
    }
   ],
   "source": [
    "np.random.normal(size=4)"
   ]
  },
  {
   "cell_type": "code",
   "execution_count": 44,
   "id": "667e97af",
   "metadata": {},
   "outputs": [
    {
     "data": {
      "text/plain": [
       "array([0.5235698 , 0.89066239, 0.46613516, 0.5429559 , 0.6239564 ,\n",
       "       0.55123375, 0.00786825, 0.26428386, 0.22582764, 0.4603738 ,\n",
       "       0.366049  , 0.36900757])"
      ]
     },
     "execution_count": 44,
     "metadata": {},
     "output_type": "execute_result"
    }
   ],
   "source": [
    "np.random.uniform(size=12)"
   ]
  },
  {
   "cell_type": "code",
   "execution_count": 46,
   "id": "2611a1e6",
   "metadata": {},
   "outputs": [
    {
     "data": {
      "text/plain": [
       "array([[1, 0, 0],\n",
       "       [0, 1, 0],\n",
       "       [0, 0, 1]])"
      ]
     },
     "execution_count": 46,
     "metadata": {},
     "output_type": "execute_result"
    }
   ],
   "source": [
    "np.eye(3, dtype=int)"
   ]
  },
  {
   "cell_type": "code",
   "execution_count": 49,
   "id": "09cd1a3a",
   "metadata": {},
   "outputs": [
    {
     "data": {
      "text/plain": [
       "array([[1, 1, 1, 1],\n",
       "       [1, 1, 1, 1],\n",
       "       [1, 1, 1, 1],\n",
       "       [1, 1, 1, 1]])"
      ]
     },
     "execution_count": 49,
     "metadata": {},
     "output_type": "execute_result"
    }
   ],
   "source": [
    "np.ones((4,4), dtype =int)"
   ]
  },
  {
   "cell_type": "code",
   "execution_count": 50,
   "id": "5675418f",
   "metadata": {},
   "outputs": [
    {
     "data": {
      "text/plain": [
       "array([1, 2, 3, 4, 5])"
      ]
     },
     "execution_count": 50,
     "metadata": {},
     "output_type": "execute_result"
    }
   ],
   "source": [
    "x=np.array([1,2,3,4,5])\n",
    "x"
   ]
  },
  {
   "cell_type": "code",
   "execution_count": 53,
   "id": "7446fdec",
   "metadata": {},
   "outputs": [],
   "source": [
    "x=np.append(x, 6)"
   ]
  },
  {
   "cell_type": "code",
   "execution_count": 54,
   "id": "7a829379",
   "metadata": {},
   "outputs": [
    {
     "data": {
      "text/plain": [
       "array([1, 2, 3, 4, 5, 6])"
      ]
     },
     "execution_count": 54,
     "metadata": {},
     "output_type": "execute_result"
    }
   ],
   "source": [
    "x"
   ]
  },
  {
   "cell_type": "code",
   "execution_count": 55,
   "id": "6ccc6d14",
   "metadata": {},
   "outputs": [],
   "source": [
    "x=np.insert(x, 4, 7)"
   ]
  },
  {
   "cell_type": "code",
   "execution_count": 56,
   "id": "d2c4abe4",
   "metadata": {},
   "outputs": [
    {
     "data": {
      "text/plain": [
       "array([1, 2, 3, 4, 7, 5, 6])"
      ]
     },
     "execution_count": 56,
     "metadata": {},
     "output_type": "execute_result"
    }
   ],
   "source": [
    "x"
   ]
  },
  {
   "cell_type": "code",
   "execution_count": 60,
   "id": "f6149125",
   "metadata": {},
   "outputs": [],
   "source": [
    "x=np.delete(x, 2, axis=0)"
   ]
  },
  {
   "cell_type": "code",
   "execution_count": 61,
   "id": "894fcedf",
   "metadata": {},
   "outputs": [
    {
     "data": {
      "text/plain": [
       "array([1, 2, 7, 5, 6])"
      ]
     },
     "execution_count": 61,
     "metadata": {},
     "output_type": "execute_result"
    }
   ],
   "source": [
    "x"
   ]
  },
  {
   "cell_type": "code",
   "execution_count": 12,
   "id": "55fdcfb0",
   "metadata": {},
   "outputs": [
    {
     "data": {
      "text/plain": [
       "array([[ 1,  2,  3],\n",
       "       [ 4,  5,  6],\n",
       "       [ 7,  8,  9],\n",
       "       [10, 11, 12]])"
      ]
     },
     "execution_count": 12,
     "metadata": {},
     "output_type": "execute_result"
    }
   ],
   "source": [
    "a=np.array([[1,2,3], [4,5,6]])\n",
    "b=np.array([[7,8,9], [10,11,12]])\n",
    "np.concatenate((a, b), axis=0) # column wise"
   ]
  },
  {
   "cell_type": "code",
   "execution_count": 68,
   "id": "bb4a272f",
   "metadata": {},
   "outputs": [
    {
     "data": {
      "text/plain": [
       "array([[ 1,  2,  3,  7,  8,  9],\n",
       "       [ 4,  5,  6, 10, 11, 12]])"
      ]
     },
     "execution_count": 68,
     "metadata": {},
     "output_type": "execute_result"
    }
   ],
   "source": [
    "np.concatenate((a, b), axis=1) #Row wise"
   ]
  },
  {
   "cell_type": "code",
   "execution_count": 69,
   "id": "a61b0462",
   "metadata": {},
   "outputs": [
    {
     "data": {
      "text/plain": [
       "[array([[1, 2, 3]]), array([[4, 5, 6]])]"
      ]
     },
     "execution_count": 69,
     "metadata": {},
     "output_type": "execute_result"
    }
   ],
   "source": [
    "np.split(a, 2)"
   ]
  },
  {
   "cell_type": "code",
   "execution_count": 73,
   "id": "bb3b25dd",
   "metadata": {},
   "outputs": [
    {
     "data": {
      "text/plain": [
       "array([[False, False, False],\n",
       "       [False, False, False]])"
      ]
     },
     "execution_count": 73,
     "metadata": {},
     "output_type": "execute_result"
    }
   ],
   "source": [
    "a==b"
   ]
  },
  {
   "cell_type": "code",
   "execution_count": 74,
   "id": "fe65e80f",
   "metadata": {},
   "outputs": [
    {
     "data": {
      "text/plain": [
       "False"
      ]
     },
     "execution_count": 74,
     "metadata": {},
     "output_type": "execute_result"
    }
   ],
   "source": [
    "np.array_equal(a,b)"
   ]
  },
  {
   "cell_type": "code",
   "execution_count": null,
   "id": "6a155085",
   "metadata": {},
   "outputs": [],
   "source": []
  }
 ],
 "metadata": {
  "kernelspec": {
   "display_name": "Python 3 (ipykernel)",
   "language": "python",
   "name": "python3"
  },
  "language_info": {
   "codemirror_mode": {
    "name": "ipython",
    "version": 3
   },
   "file_extension": ".py",
   "mimetype": "text/x-python",
   "name": "python",
   "nbconvert_exporter": "python",
   "pygments_lexer": "ipython3",
   "version": "3.9.12"
  }
 },
 "nbformat": 4,
 "nbformat_minor": 5
}
