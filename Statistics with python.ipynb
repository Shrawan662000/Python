{
 "cells": [
  {
   "cell_type": "markdown",
   "id": "beb92ca8",
   "metadata": {},
   "source": [
    "# 1 Z Score\n",
    "\n",
    "## 1.1 Find probability or Area"
   ]
  },
  {
   "cell_type": "code",
   "execution_count": 1,
   "id": "7623969d",
   "metadata": {},
   "outputs": [
    {
     "data": {
      "text/plain": [
       "0.8413447460685429"
      ]
     },
     "execution_count": 1,
     "metadata": {},
     "output_type": "execute_result"
    }
   ],
   "source": [
    "from scipy import stats\n",
    "stats.norm.cdf(70, loc=60, scale=10) # 60 is mean , and 10 is std"
   ]
  },
  {
   "cell_type": "code",
   "execution_count": 2,
   "id": "5e3867df",
   "metadata": {},
   "outputs": [
    {
     "data": {
      "text/plain": [
       "0.15865525393145707"
      ]
     },
     "execution_count": 2,
     "metadata": {},
     "output_type": "execute_result"
    }
   ],
   "source": [
    "from scipy import stats\n",
    "stats.norm.cdf(50, loc=60, scale=10)"
   ]
  },
  {
   "cell_type": "code",
   "execution_count": 8,
   "id": "46b7216f",
   "metadata": {},
   "outputs": [
    {
     "data": {
      "text/plain": [
       "0.5"
      ]
     },
     "execution_count": 8,
     "metadata": {},
     "output_type": "execute_result"
    }
   ],
   "source": [
    "from scipy import stats\n",
    "stats.norm.cdf(0, loc=0, scale=10)"
   ]
  },
  {
   "cell_type": "code",
   "execution_count": 11,
   "id": "2a1efff5",
   "metadata": {},
   "outputs": [
    {
     "data": {
      "text/plain": [
       "0.9986501019683699"
      ]
     },
     "execution_count": 11,
     "metadata": {},
     "output_type": "execute_result"
    }
   ],
   "source": [
    "from scipy import stats\n",
    "stats.norm.cdf(30, loc=0, scale=10) #here std is 10 i.e. at 3 sigma or 3*std =30 the area will coverd will be 99.8%"
   ]
  },
  {
   "cell_type": "markdown",
   "id": "37fa770b",
   "metadata": {},
   "source": [
    "## 1.2 Find Z value using prob. or area "
   ]
  },
  {
   "cell_type": "code",
   "execution_count": 16,
   "id": "f06a1052",
   "metadata": {},
   "outputs": [
    {
     "data": {
      "text/plain": [
       "1.6448536269514722"
      ]
     },
     "execution_count": 16,
     "metadata": {},
     "output_type": "execute_result"
    }
   ],
   "source": [
    "from scipy import stats\n",
    "stats.norm.ppf(0.95, loc=0, scale=1) #for the normal distribution mean=0, and std=1"
   ]
  },
  {
   "cell_type": "code",
   "execution_count": null,
   "id": "692a390e",
   "metadata": {},
   "outputs": [],
   "source": []
  }
 ],
 "metadata": {
  "kernelspec": {
   "display_name": "Python 3 (ipykernel)",
   "language": "python",
   "name": "python3"
  },
  "language_info": {
   "codemirror_mode": {
    "name": "ipython",
    "version": 3
   },
   "file_extension": ".py",
   "mimetype": "text/x-python",
   "name": "python",
   "nbconvert_exporter": "python",
   "pygments_lexer": "ipython3",
   "version": "3.9.12"
  }
 },
 "nbformat": 4,
 "nbformat_minor": 5
}
