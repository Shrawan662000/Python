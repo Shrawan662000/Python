{
 "cells": [
  {
   "cell_type": "markdown",
   "metadata": {},
   "source": [
    "#### que 1.   area of a triangle"
   ]
  },
  {
   "cell_type": "code",
   "execution_count": null,
   "metadata": {},
   "outputs": [],
   "source": [
    "a=float(input(\"enter the value of arm:\"))\n",
    "b=float(input(\"enter the value of base:\"))\n",
    "area=1/2*(a*b)\n",
    "print(\"the area is :\", area)"
   ]
  },
  {
   "cell_type": "markdown",
   "metadata": {},
   "source": [
    "##### taking multi input together"
   ]
  },
  {
   "cell_type": "code",
   "execution_count": null,
   "metadata": {},
   "outputs": [],
   "source": [
    "a,b=[float(x) for x in input(\"enter the value of a and b:\").split(',')]\n",
    "area=1/2*(a*b)\n",
    "print(\"the area is :\", area)"
   ]
  },
  {
   "cell_type": "markdown",
   "metadata": {},
   "source": [
    "#### que 2. Write a Python Program to Check if a Number is Positive, Negative or Zero."
   ]
  },
  {
   "cell_type": "code",
   "execution_count": null,
   "metadata": {},
   "outputs": [],
   "source": [
    "num=int(input(\"enter the numebr:\"))\n",
    "if num>0:\n",
    "    print(\" num is +ve\")\n",
    "elif num==0:\n",
    "    print(\"num is zero\")\n",
    "else:\n",
    "    print(\"num is -ve\")"
   ]
  },
  {
   "cell_type": "markdown",
   "metadata": {},
   "source": [
    "#### Program 3\n",
    "Write a Python Program to Check if a Number is Odd or Even.\n"
   ]
  },
  {
   "cell_type": "code",
   "execution_count": null,
   "metadata": {},
   "outputs": [],
   "source": [
    "num=int(input(\"enter the numebr:\"))\n",
    "if num%2==0:\n",
    "    print(\"num is even\")\n",
    "else:\n",
    "    print(\"num is odd\")"
   ]
  },
  {
   "cell_type": "markdown",
   "metadata": {},
   "source": [
    "#### Program 4\n",
    "Write a Python Program to Check Leap Year.\n",
    "This means that in a leap year, there are 366 days instead of the usual 365 days in a common year.\n",
    "\n",
    "For example:\n",
    "\n",
    "The year 2000 was a leap year because it is divisible by 4 and also by 400.\n",
    "The year 2100 will not be a leap year even though it is divisible by 4 because it is not divisible by 100, unless it were also divisible by 400, which it is not."
   ]
  },
  {
   "cell_type": "code",
   "execution_count": null,
   "metadata": {},
   "outputs": [],
   "source": [
    "year = int(input(\"Enter a year: \"))\n",
    "# divided by 100 means century year (ending with 00)\n",
    "# century year divided by 400 is leap year\n",
    "if (year % 400 == 0) and (year % 100 == 0):\n",
    " print(\"{0} is a leap year\".format(year))\n",
    "# not divided by 100 means not a century year\n",
    "# year divided by 4 is a leap year\n",
    "elif (year % 4 ==0) and (year % 100 != 0):\n",
    " print(\"{0} is a leap year\".format(year))\n",
    "# if not divided by both 400 (century year) and 4 (not century year)\n",
    "# year is not leap year\n",
    "else:\n",
    " print(\"{0} is not a leap year\".format(year))"
   ]
  },
  {
   "cell_type": "markdown",
   "metadata": {},
   "source": [
    "#### Program 5\n",
    "Write a Python Program to Check Prime Number."
   ]
  },
  {
   "cell_type": "code",
   "execution_count": null,
   "metadata": {},
   "outputs": [],
   "source": [
    "# num=int(input(\"enter the num:\")\n",
    "# test_prime=[2, 3, 5, 7, 11, 13, 17, 19, 23, 29, 31, 37, 41, 43, 47, 53, 59, 61, 67, 71, 73, 79, 83, 89, 97]\n",
    "def prime(data):\n",
    "    for num in test_prime:\n",
    "        if (num==2 or num==3 or num==5):\n",
    "            print(f\"{num} this is prime\")\n",
    "        elif (num%2==0 or num%3==0 or num%5==0 or num==1):\n",
    "            print(f\"{num} not a prime\")\n",
    "        else:\n",
    "            print(f\"{num} this is prime\")\n",
    "    "
   ]
  },
  {
   "cell_type": "code",
   "execution_count": null,
   "metadata": {},
   "outputs": [],
   "source": [
    "test_prime= [1, 2, 4, 7, 10, 13, 15, 17, 20, 23, 25, 29, 30, 31, 35, 37, 40, 41, 45, 47, 50]\n",
    "print(prime(test_prime))\n"
   ]
  },
  {
   "cell_type": "markdown",
   "metadata": {},
   "source": [
    "#### Program \n",
    "Write a Python Program to Find the Factorial of a Number"
   ]
  },
  {
   "cell_type": "code",
   "execution_count": null,
   "metadata": {},
   "outputs": [],
   "source": [
    "## method -1\n",
    "num=int(input(\"enter the numebr:\"))\n",
    "res=1\n",
    "for num in range(1, num+1):\n",
    "    res=res*num\n",
    "print(res)\n",
    "    "
   ]
  },
  {
   "cell_type": "code",
   "execution_count": null,
   "metadata": {},
   "outputs": [],
   "source": [
    "## method -2\n",
    "## using recursion techniques\n",
    "def fact(x):\n",
    "    if x>1:\n",
    "        return x*fact(x-1)\n",
    "    else:\n",
    "        return 1\n",
    "    "
   ]
  },
  {
   "cell_type": "code",
   "execution_count": null,
   "metadata": {},
   "outputs": [],
   "source": [
    "x=5\n",
    "print(fact(x))"
   ]
  },
  {
   "cell_type": "markdown",
   "metadata": {},
   "source": [
    "#### Program \n",
    "Write a Python Program to Print the Fibonacci sequence."
   ]
  },
  {
   "cell_type": "code",
   "execution_count": null,
   "metadata": {},
   "outputs": [],
   "source": [
    "nterms = int(input(\"How many terms? \"))\n",
    "# first two terms\n",
    "n1, n2 = 0, 1\n",
    "count = 0\n",
    "# check if the number of terms is valid\n",
    "if nterms <= 0:\n",
    " print(\"Please enter a positive integer\")\n",
    "# if there is only one term, return n1\n",
    "elif nterms == 1:\n",
    "    print(\"Fibonacci sequence upto\",nterms,\":\")\n",
    "    print(n1)\n",
    "# generate fibonacci sequence\n",
    "else:\n",
    "    print(\"Fibonacci sequence:\")\n",
    "    while count < nterms:\n",
    "        print(n1, end=' ')\n",
    "        nth = n1 + n2\n",
    "         # update values\n",
    "        n1 = n2\n",
    "        n2 = nth\n",
    "        count += 1"
   ]
  },
  {
   "cell_type": "markdown",
   "metadata": {},
   "source": [
    "#### above method hacve T.C. O(n)"
   ]
  },
  {
   "cell_type": "code",
   "execution_count": null,
   "metadata": {},
   "outputs": [],
   "source": [
    "## method -2\n",
    "\n",
    "def fibonacci(n):\n",
    "    if n <= 1:\n",
    "        return n\n",
    "    else:\n",
    "        return fibonacci(n-1) + fibonacci(n-2)\n",
    "\n",
    "# get the number of terms from the user\n",
    "n = int(input(\"Enter the number of terms: \"))\n",
    "\n",
    "# print the first n terms of the series\n",
    "for i in range(n):\n",
    "    print(fibonacci(i), end='  ')"
   ]
  },
  {
   "cell_type": "markdown",
   "metadata": {},
   "source": [
    "#### #### above method hacve T.C. O(2^n)"
   ]
  },
  {
   "cell_type": "markdown",
   "metadata": {},
   "source": [
    "#### Program\n",
    "Write a Python Program to Find Armstrong Number in an Interval."
   ]
  },
  {
   "cell_type": "code",
   "execution_count": 3,
   "metadata": {},
   "outputs": [],
   "source": [
    "# def lennum(n):  # function to check the digit in given number\n",
    "#     count=0\n",
    "#     while n>0:\n",
    "#         n=n//10\n",
    "#         count+=1\n",
    "#     return count\n",
    "\n",
    "def lennum(n):  # aanother method or function to check the digit in given number\n",
    "    count=len(str(n))\n",
    "    return count\n",
    "    \n",
    "\n",
    "def Isarmstrong(n, r):\n",
    "    res=0\n",
    "    while n>0:\n",
    "        rem=n%10\n",
    "        res+=rem**r\n",
    "        n=n//10\n",
    "    return res"
   ]
  },
  {
   "cell_type": "code",
   "execution_count": 5,
   "metadata": {},
   "outputs": [
    {
     "name": "stdout",
     "output_type": "stream",
     "text": [
      "the range:10, 200\n",
      " 153 is Armstrong Number\n"
     ]
    }
   ],
   "source": [
    "min_value, max_value=[int(x) for x in input(\"the range:\").split(',')]\n",
    "for x in range(min_value, max_value, 1):\n",
    "    n=x\n",
    "    len_num=lennum(n)\n",
    "#     print(len_num)\n",
    "    result=Isarmstrong(n, len_num)\n",
    "    if n==result:\n",
    "        print(f\" {n} is Armstrong Number\")\n",
    "    else:\n",
    "        continue\n",
    "        \n",
    "    "
   ]
  },
  {
   "cell_type": "markdown",
   "metadata": {},
   "source": [
    "\n",
    "#### understand what is GCD (HCF) and LCM\n",
    "Let's find the LCM, GCD, and HCF of two numbers: 12 and 18.\n",
    "\n",
    "1. GCD (Greatest Common Divisor):\n",
    "The GCD of two numbers is the largest positive integer that divides both numbers without leaving a remainder.\n",
    "\n",
    "For 12 and 18:\n",
    "\n",
    "Factors of 12: 1, 2, 3, 4, 6, 12\n",
    "Factors of 18: 1, 2, 3, 6, 9, 18\n",
    "The largest common factor is 6. Therefore, GCD(12, 18) = 6.\n",
    "\n",
    "2. HCF (Highest Common Factor):\n",
    "HCF is another term for GCD. So, HCF(12, 18) = 6 (same as GCD).\n",
    "\n",
    "3. LCM (Least Common Multiple):\n",
    "The LCM of two numbers is the smallest positive integer that is divisible by both numbers.\n",
    "\n",
    "For 12 and 18:\n",
    "\n",
    "Multiples of 12: 12, 24, 36, 48, ...\n",
    "Multiples of 18: 18, 36, 54, 72, ...\n",
    "The smallest common multiple is 36. Therefore, LCM(12, 18) = 36.\n",
    "\n",
    "###### Formula:\n",
    "For two numbers a and b, the LCM can be found using the formula:\n",
    "For more than two numbers, you can find the LCM step by step, taking the LCM of pairs of\n",
    "numbers at a time until you reach the last pair.\n",
    "Note: GCD stands for Greatest Common Divisor.\n",
    "\n",
    "LCM(𝑎, 𝑏) =\n",
    "(𝑎 ⋅ 𝑏)/ GCD(𝑎, 𝑏)\n",
    "\n",
    "#### Write a Python Program to Find LCM."
   ]
  },
  {
   "cell_type": "code",
   "execution_count": 6,
   "metadata": {},
   "outputs": [
    {
     "name": "stdout",
     "output_type": "stream",
     "text": [
      "Enter the number: 12\n",
      "Enter the number: 18\n",
      "The L.C.M. is 36\n"
     ]
    }
   ],
   "source": [
    "# Python Program to find the L.C.M. of two input number\n",
    "def compute_lcm(x, y):\n",
    " if x > y: # choose the greater number\n",
    "    greater = x\n",
    " else:\n",
    "     greater = y\n",
    " while(True):\n",
    "    if((greater % x == 0) and (greater % y == 0)):\n",
    "        lcm = greater\n",
    "        break\n",
    "    greater += 1\n",
    " return lcm\n",
    "\n",
    "num1 = int(input('Enter the number: '))\n",
    "num2 = int(input('Enter the number: '))\n",
    "print(\"The L.C.M. is\", compute_lcm(num1, num2))"
   ]
  },
  {
   "cell_type": "markdown",
   "metadata": {},
   "source": [
    "#### Write a Python Program to Find HCF or GCD"
   ]
  },
  {
   "cell_type": "code",
   "execution_count": 7,
   "metadata": {},
   "outputs": [
    {
     "name": "stdout",
     "output_type": "stream",
     "text": [
      "Enter the number: 12\n",
      "Enter the number: 18\n",
      "The H.C.F. is 6\n"
     ]
    }
   ],
   "source": [
    "# Python program to find H.C.F of two numbers\n",
    "# define a function\n",
    "def compute_hcf(x, y):\n",
    "    if x > y:\n",
    "        smaller = y\n",
    "    else:\n",
    "        smaller = x\n",
    "    for i in range(1, smaller+1):\n",
    "        if((x % i == 0) and (y % i == 0)):\n",
    "            hcf = i\n",
    "    return hcf\n",
    "num1 = int(input('Enter the number: '))\n",
    "num2 = int(input('Enter the number: '))\n",
    "print(\"The H.C.F. is\", compute_hcf(num1, num2))"
   ]
  },
  {
   "cell_type": "markdown",
   "metadata": {},
   "source": [
    "#### Write a Python Program to find sum of array.\n"
   ]
  },
  {
   "cell_type": "code",
   "execution_count": null,
   "metadata": {},
   "outputs": [],
   "source": [
    "array=[12, 34, 45, 68, 1102,  87, 4646, 6]\n",
    "res=0\n",
    "for s in array:\n",
    "    res+=s\n",
    "print(res)"
   ]
  },
  {
   "cell_type": "markdown",
   "metadata": {},
   "source": [
    "#### Write a Python Program to find largest element in an array.\n"
   ]
  },
  {
   "cell_type": "code",
   "execution_count": null,
   "metadata": {},
   "outputs": [],
   "source": [
    "xmax=array[0]\n",
    "for s in range(1, len(array)):\n",
    "    if array[s]>xmax:\n",
    "        xmax=array[s]\n",
    "    else:\n",
    "        continue\n",
    "print(f\"{xmax} is largest\")"
   ]
  },
  {
   "cell_type": "markdown",
   "metadata": {},
   "source": [
    "#### Write a Python Program to find minimum element in an array"
   ]
  },
  {
   "cell_type": "code",
   "execution_count": null,
   "metadata": {},
   "outputs": [],
   "source": [
    "xmin=array[0]\n",
    "for s in range(1, len(array)):\n",
    "    if array[s]<xmin:\n",
    "        xmin=array[s]\n",
    "    else:\n",
    "        continue\n",
    "print(f\"{xmin} is smallest\")"
   ]
  },
  {
   "cell_type": "markdown",
   "metadata": {},
   "source": [
    "#### write a python program for array rotation"
   ]
  },
  {
   "cell_type": "code",
   "execution_count": 8,
   "metadata": {},
   "outputs": [
    {
     "name": "stdout",
     "output_type": "stream",
     "text": [
      "[6, 5, 4, 3, 2, 1]\n"
     ]
    }
   ],
   "source": [
    "arr = [1, 2, 3, 4, 5, 6, ]\n",
    "\n",
    "for i in range(0, len(arr)//2):  #The loop now only needs to iterate up to half of the array length \n",
    "    ## since you are swapping elements symmetrically.\n",
    "    temp = arr[i]\n",
    "    arr[i] = arr[len(arr) - 1 - i]\n",
    "    arr[len(arr) - 1 - i] = temp\n",
    "\n",
    "print(arr)\n"
   ]
  },
  {
   "cell_type": "markdown",
   "metadata": {},
   "source": [
    "### Write a Python Program to Split the array and add the first part to the end?"
   ]
  },
  {
   "cell_type": "code",
   "execution_count": 9,
   "metadata": {},
   "outputs": [
    {
     "name": "stdout",
     "output_type": "stream",
     "text": [
      "Original Array: [1, 2, 3, 4, 5]\n",
      "Array after splitting and adding: [4, 5, 1, 2, 3]\n"
     ]
    }
   ],
   "source": [
    "def split_and_add(arr, k):\n",
    "    if k <= 0 or k >= len(arr):\n",
    "        return arr \n",
    " # Split the array into two parts\n",
    "    first_part = arr[:k]\n",
    "    second_part = arr[k:]\n",
    " # Add the first part to the end of the second part\n",
    "    result = second_part + first_part\n",
    "    return result\n",
    "# Test the function\n",
    "arr = [1, 2, 3, 4, 5]\n",
    "k = 3\n",
    "result = split_and_add(arr, k)\n",
    "print(\"Original Array:\", arr)\n",
    "print(\"Array after splitting and adding:\", result)\n"
   ]
  },
  {
   "cell_type": "markdown",
   "metadata": {},
   "source": [
    "#### Write a Python Program to Remove Punctuation From a String.\n"
   ]
  },
  {
   "cell_type": "code",
   "execution_count": 10,
   "metadata": {},
   "outputs": [
    {
     "name": "stdout",
     "output_type": "stream",
     "text": [
      "Enter a string: hdgwgu dbudw9i0b t6bf.g'pg;mle g\n",
      "hdgwgu dbudw9i0b t6bfgpgmle g\n"
     ]
    }
   ],
   "source": [
    "# define punctuation\n",
    "punctuations = '''!()-[]{};:'\"\\,<>./?@#$%^&*_~'''\n",
    "# To take input from the user\n",
    "my_str = input(\"Enter a string: \")\n",
    "# remove punctuation from the string\n",
    "no_punct = \"\"\n",
    "for char in my_str:\n",
    "    if char not in punctuations:\n",
    "        no_punct = no_punct + char\n",
    "# display the unpunctuated string\n",
    "print(no_punct)\n"
   ]
  },
  {
   "cell_type": "markdown",
   "metadata": {},
   "source": [
    "#### Write a Python program to find second largest number in a list.\n"
   ]
  },
  {
   "cell_type": "code",
   "execution_count": 11,
   "metadata": {},
   "outputs": [
    {
     "name": "stdout",
     "output_type": "stream",
     "text": [
      "The second largest number in the list is: 30\n"
     ]
    }
   ],
   "source": [
    "# Sample list of numbers\n",
    "numbers = [30, 10, 45, 5, 20]\n",
    "# Sort the list in descending order\n",
    "numbers.sort(reverse=True)\n",
    "# Check if there are at least two elements in the list\n",
    "if len(numbers) >= 2:\n",
    "    second_largest = numbers[1]\n",
    "    print(\"The second largest number in the list is:\", second_largest)\n",
    "else:\n",
    "    print(\"The list does not contain a second largest number.\")\n"
   ]
  },
  {
   "cell_type": "code",
   "execution_count": 12,
   "metadata": {},
   "outputs": [
    {
     "name": "stdout",
     "output_type": "stream",
     "text": [
      "The second largest number is: 6\n"
     ]
    }
   ],
   "source": [
    "### method -2\n",
    "\n",
    "def find_second_largest(numbers):\n",
    "    if len(numbers) < 2:\n",
    "        return \"List must have at least two numbers.\"\n",
    "\n",
    "    largest = second_largest = float('-inf')\n",
    "\n",
    "    for num in numbers:\n",
    "        if num > largest:\n",
    "            second_largest = largest\n",
    "            largest = num\n",
    "        elif num > second_largest and num != largest:\n",
    "            second_largest = num\n",
    "\n",
    "    return second_largest\n",
    "\n",
    "# Example usage\n",
    "num_list = [3, 1, 7, 4, 5, 6, 2]\n",
    "result = find_second_largest(num_list)\n",
    "\n",
    "if isinstance(result, str):\n",
    "    print(result)\n",
    "else:\n",
    "    print(f\"The second largest number is: {result}\")\n"
   ]
  },
  {
   "cell_type": "markdown",
   "metadata": {},
   "source": [
    "###### method -3 (most preferred)"
   ]
  },
  {
   "cell_type": "code",
   "execution_count": 13,
   "metadata": {},
   "outputs": [
    {
     "name": "stdout",
     "output_type": "stream",
     "text": [
      "The second largest number is: 6\n"
     ]
    }
   ],
   "source": [
    "### method -3\n",
    "\n",
    "def find_second_largest(numbers):\n",
    "    if len(numbers) < 2:\n",
    "        return \"List must have at least two numbers.\"\n",
    "\n",
    "    largest = numbers[0]\n",
    "    second_largest=numbers[0]\n",
    "\n",
    "    for num in numbers:\n",
    "        if num > largest:\n",
    "            largest = num\n",
    "    for num in numbers:\n",
    "        if (num>second_largest and num!=largest):\n",
    "            second_largest=num\n",
    "    return second_largest\n",
    "\n",
    "# Example usage\n",
    "num_list = [3, 1, 7, 4, 5, 6, 2]\n",
    "result = find_second_largest(num_list)\n",
    "print(f\"The second largest number is: {result}\")\n"
   ]
  },
  {
   "cell_type": "markdown",
   "metadata": {},
   "source": [
    "#### Write a Python program to print even numbers in a list.\n",
    "##### using list comprehension\n",
    "\n",
    "##### List comprehension is a concise way to create lists in Python. It provides a compact syntax for generating lists by applying an expression to each item in an iterable (e.g., a list, tuple, or range) and optionally filtering the items based on a condition.\n",
    "\n",
    "The basic syntax of a list comprehension is as follows:\n",
    "\n",
    "\n",
    "###### [expression for item in iterable if condition]\n",
    "Here, expression is the operation or transformation to be applied to each item, item is the variable representing each element in the iterable, and condition is an optional filter."
   ]
  },
  {
   "cell_type": "code",
   "execution_count": 14,
   "metadata": {},
   "outputs": [
    {
     "data": {
      "text/plain": [
       "[12, 4, 56, 68]"
      ]
     },
     "execution_count": 14,
     "metadata": {},
     "output_type": "execute_result"
    }
   ],
   "source": [
    "ls=[12, 4, 56, 45, 23, 55, 68]\n",
    "\n",
    "res=[num for num in ls if num%2==0]  # list comprehension\n",
    "res"
   ]
  },
  {
   "cell_type": "code",
   "execution_count": 15,
   "metadata": {},
   "outputs": [
    {
     "data": {
      "text/plain": [
       "[12, 4, 56, 68]"
      ]
     },
     "execution_count": 15,
     "metadata": {},
     "output_type": "execute_result"
    }
   ],
   "source": [
    "## OR\n",
    "\n",
    "ls=(12, 4, 56, 45, 23, 55, 68)\n",
    "\n",
    "res=[num for num in ls if num%2==0]  # list comprehension\n",
    "res"
   ]
  },
  {
   "cell_type": "code",
   "execution_count": 16,
   "metadata": {},
   "outputs": [
    {
     "name": "stdout",
     "output_type": "stream",
     "text": [
      "[12, 4, 56, 68]\n"
     ]
    },
    {
     "data": {
      "text/plain": [
       "[12, 4, 56, 68]"
      ]
     },
     "execution_count": 16,
     "metadata": {},
     "output_type": "execute_result"
    }
   ],
   "source": [
    "## OR using filter() function\n",
    "\n",
    "def func(num):\n",
    "    if num%2==0:\n",
    "        return num\n",
    "    \n",
    "res=filter(func, ls)\n",
    "print(list(res))\n",
    "\n",
    "## OR usng lambda()\n",
    "\n",
    "res1=filter(lambda x: x%2==0, ls)\n",
    "list(res1)"
   ]
  },
  {
   "cell_type": "markdown",
   "metadata": {},
   "source": [
    "#### Write a Python program to Remove empty List from List.\n",
    "\n",
    "\n"
   ]
  },
  {
   "cell_type": "code",
   "execution_count": 17,
   "metadata": {},
   "outputs": [
    {
     "data": {
      "text/plain": [
       "[[1, 2, 3], [4, 5], [6, 7, 8]]"
      ]
     },
     "execution_count": 17,
     "metadata": {},
     "output_type": "execute_result"
    }
   ],
   "source": [
    "# Sample list containing lists\n",
    "list_of_lists = [[1, 2, 3], [], [4, 5], [], [6, 7, 8], []]\n",
    "res=[x for x in list_of_lists if len(x)!=0]\n",
    "res"
   ]
  },
  {
   "cell_type": "code",
   "execution_count": 18,
   "metadata": {},
   "outputs": [
    {
     "name": "stdout",
     "output_type": "stream",
     "text": [
      "List after removing empty lists: [[1, 2, 3], [4, 5], [6, 7, 8]]\n"
     ]
    }
   ],
   "source": [
    "## method -2\n",
    "\n",
    "#Sample list containing lists\n",
    "list_of_lists = [[1, 2, 3], [], [4, 5], [], [6, 7, 8], []]\n",
    "# Using a list comprehension to remove empty lists\n",
    "filtered_list = [i for i in list_of_lists if i]\n",
    "# Print the filtered list\n",
    "print(\"List after removing empty lists:\", filtered_list)\n"
   ]
  },
  {
   "cell_type": "markdown",
   "metadata": {},
   "source": [
    "#### Write a Python program to Count occurrences of an element in a list."
   ]
  },
  {
   "cell_type": "code",
   "execution_count": 19,
   "metadata": {},
   "outputs": [
    {
     "data": {
      "text/plain": [
       "4"
      ]
     },
     "execution_count": 19,
     "metadata": {},
     "output_type": "execute_result"
    }
   ],
   "source": [
    "# method -1 using count() method\n",
    "a=[1,2,3,4,5,6,2,3,3,3]\n",
    "res=a.count(3)\n",
    "res"
   ]
  },
  {
   "cell_type": "code",
   "execution_count": 20,
   "metadata": {},
   "outputs": [
    {
     "name": "stdout",
     "output_type": "stream",
     "text": [
      "4\n"
     ]
    }
   ],
   "source": [
    "# method -2\n",
    "num=3\n",
    "count=0\n",
    "for x in a:\n",
    "    if num==x:\n",
    "        count+=1\n",
    "print(count)\n",
    "    \n"
   ]
  },
  {
   "cell_type": "markdown",
   "metadata": {},
   "source": [
    "#### Write a Python program for removing 𝑖 character from a string."
   ]
  },
  {
   "cell_type": "code",
   "execution_count": 21,
   "metadata": {},
   "outputs": [
    {
     "data": {
      "text/plain": [
       "'Hello, World!'"
      ]
     },
     "execution_count": 21,
     "metadata": {},
     "output_type": "execute_result"
    }
   ],
   "source": [
    "s=\"Hello, wWorld!\"\n",
    "i=7 # removing 5th indexed elment\n",
    "\n",
    "    \n",
    "res=list(s)  ## will split in individual character\n",
    "\n",
    "# res=res.pop(i) it stores the delelted element \n",
    "\n",
    "res.pop(i)\n",
    "\n",
    "result_string = ''.join(res)\n",
    "\n",
    "result_string"
   ]
  },
  {
   "cell_type": "markdown",
   "metadata": {},
   "source": [
    "#### Write a Python program to split and join a string"
   ]
  },
  {
   "cell_type": "code",
   "execution_count": 22,
   "metadata": {},
   "outputs": [
    {
     "name": "stdout",
     "output_type": "stream",
     "text": [
      "enter the string:hi danbfu ubsd j\n"
     ]
    },
    {
     "data": {
      "text/plain": [
       "'hi danbfu ubsd j'"
      ]
     },
     "execution_count": 22,
     "metadata": {},
     "output_type": "execute_result"
    }
   ],
   "source": [
    "x=str(input(\"enter the string:\"))\n",
    "\n",
    "# split\n",
    "x=x.split()\n",
    "# print(x)\n",
    "x=' '.join(x)\n",
    "x"
   ]
  },
  {
   "cell_type": "markdown",
   "metadata": {},
   "source": [
    "#### Write a Python program to find uncommon words from two Strings."
   ]
  },
  {
   "cell_type": "code",
   "execution_count": 23,
   "metadata": {},
   "outputs": [
    {
     "name": "stdout",
     "output_type": "stream",
     "text": [
      "shrawan\n",
      "sandeep\n"
     ]
    }
   ],
   "source": [
    "str1=\"my name is shrawan\"\n",
    "str2=\"my name is sandeep\"\n",
    "\n",
    "# checking i str1\n",
    "for x in str1.split():\n",
    "    if x in str2.split():\n",
    "        continue\n",
    "    else:\n",
    "        print(x)\n",
    "# checking i str2    \n",
    "for x in str2.split():\n",
    "    if x in str1.split():\n",
    "        continue\n",
    "    else:\n",
    "        print(x)\n",
    "        "
   ]
  },
  {
   "cell_type": "markdown",
   "metadata": {},
   "source": [
    "##### method -2 (most preffered)\n"
   ]
  },
  {
   "cell_type": "code",
   "execution_count": 24,
   "metadata": {},
   "outputs": [
    {
     "name": "stdout",
     "output_type": "stream",
     "text": [
      "sandeep\n",
      "shrawan\n"
     ]
    }
   ],
   "source": [
    "## conerting into set\n",
    "\n",
    "st1=set(str1.split())\n",
    "st2=set(str2.split())\n",
    "\n",
    "res=(st1.union(st2)) - (st1.intersection(st2))   ##   st1.symmetric_difference(st2)  ## we can use this func also\n",
    "for x in res:\n",
    "    print(x)"
   ]
  },
  {
   "cell_type": "markdown",
   "metadata": {},
   "source": [
    "#### Write a Python program to find all duplicate characters with their counts in string."
   ]
  },
  {
   "cell_type": "code",
   "execution_count": 25,
   "metadata": {},
   "outputs": [
    {
     "name": "stdout",
     "output_type": "stream",
     "text": [
      "h is 2 times duplicate\n",
      "a is 3 times duplicate\n",
      "w is 1 times duplicate\n",
      "n is 2 times duplicate\n",
      "u is 3 times duplicate\n",
      "j is 1 times duplicate\n"
     ]
    }
   ],
   "source": [
    "s = \"shrawan kumawat jhunjhunu\"\n",
    "processed_chars = set()\n",
    "\n",
    "for i in range(0, len(s)):\n",
    "    if s[i] in processed_chars or s[i].isspace():\n",
    "        continue  # Skip characters that have already been processed or are spaces\n",
    "    count = 0\n",
    "    for j in range(i, len(s)):\n",
    "        if s[j] == s[i] and i != j:\n",
    "            count += 1\n",
    "    if count > 0:\n",
    "        print(f\"{s[i]} is {count} times duplicate\")\n",
    "        processed_chars.add(s[i]) # save the charcter that have been processed\n"
   ]
  },
  {
   "cell_type": "markdown",
   "metadata": {},
   "source": [
    "#### Write a Python program to find all duplicate characters in string."
   ]
  },
  {
   "cell_type": "code",
   "execution_count": 26,
   "metadata": {},
   "outputs": [
    {
     "name": "stdout",
     "output_type": "stream",
     "text": [
      "['h', 'a', 'w', 'n', 'u', 'j']\n"
     ]
    }
   ],
   "source": [
    "s = \"shrawan kumawat jhunjhunu\"\n",
    "processed_chars = set()\n",
    "dup_char=[]\n",
    "for i in range(0, len(s)):\n",
    "    if s[i] in processed_chars or s[i].isspace():\n",
    "        continue  # Skip characters that have already been processed or are spaces\n",
    "    count = 0\n",
    "    for j in range(i, len(s)):\n",
    "        if s[j] == s[i] and i != j:\n",
    "            count += 1\n",
    "    if count > 0:\n",
    "        dup_char.append(s[i])\n",
    "        processed_chars.add(s[i]) # save the charcter that have been processed\n",
    "        \n",
    "print(dup_char)\n"
   ]
  },
  {
   "cell_type": "markdown",
   "metadata": {},
   "source": [
    "#### Write a Python Program to check if a string contains any special characte"
   ]
  },
  {
   "cell_type": "code",
   "execution_count": 27,
   "metadata": {},
   "outputs": [
    {
     "name": "stdout",
     "output_type": "stream",
     "text": [
      "Enter a string: hudof fubiw f\n",
      "The string does not contain special characters.\n"
     ]
    }
   ],
   "source": [
    "import re\n",
    "\n",
    "def check_special_char(in_str):\n",
    "    # Define a regular expression pattern to match special characters\n",
    "    pattern = r'[!@#$%^&*()_+{}\\[\\]:;<>,.?~\\\\\\/\\'\"\\-=]'\n",
    " # Use re.search to find a match in the input string\n",
    "    if re.search(pattern, in_str):\n",
    "        return True\n",
    "    else:\n",
    "        return False\n",
    "# Input a string\n",
    "input_string = str(input(\"Enter a string: \"))\n",
    "# Check if the string contains any special characters\n",
    "contains_special = check_special_char(input_string)\n",
    "# Print the result\n",
    "if contains_special:\n",
    " print(\"The string contains special characters.\")\n",
    "else:\n",
    " print(\"The string does not contain special characters.\")\n"
   ]
  },
  {
   "cell_type": "markdown",
   "metadata": {},
   "source": [
    "#### Write a Python program to Merging two Dictionaries.\n"
   ]
  },
  {
   "cell_type": "code",
   "execution_count": 28,
   "metadata": {},
   "outputs": [
    {
     "name": "stdout",
     "output_type": "stream",
     "text": [
      "Merged Dictionary (using update()): {'a': 1, 'b': 2, 'c': 3, 'd': 4}\n"
     ]
    }
   ],
   "source": [
    "# 1. Using the update() method:\n",
    "dict1 = {'a': 1, 'b': 2}\n",
    "dict2 = {'c': 3, 'd': 4}\n",
    "dict1.update(dict2)\n",
    "# The merged dictionary is now in dict1\n",
    "print(\"Merged Dictionary (using update()):\", dict1)"
   ]
  },
  {
   "cell_type": "code",
   "execution_count": 29,
   "metadata": {},
   "outputs": [
    {
     "name": "stdout",
     "output_type": "stream",
     "text": [
      "Merged Dictionary (using dictionary unpacking): {'a': 1, 'b': 2, 'c': 3, 'd': 4}\n"
     ]
    }
   ],
   "source": [
    "# 2. Using dictionary unpacking\n",
    "dict1 = {'a': 1, 'b': 2}\n",
    "dict2 = {'c': 3, 'd': 4}\n",
    "# Merge dict2 into dict1 using dictionary unpacking\n",
    "merged_dict = {**dict1, **dict2}\n",
    "# The merged dictionary is now in merged_dict\n",
    "print(\"Merged Dictionary (using dictionary unpacking):\", merged_dict)\n"
   ]
  },
  {
   "cell_type": "markdown",
   "metadata": {},
   "source": [
    "#### Write a Python program to convert key-values list to flat dictionary."
   ]
  },
  {
   "cell_type": "code",
   "execution_count": 30,
   "metadata": {},
   "outputs": [
    {
     "name": "stdout",
     "output_type": "stream",
     "text": [
      "Flat Dictionary: {'a': 1, 'b': 2, 'c': 3, 'd': 4}\n"
     ]
    }
   ],
   "source": [
    "key_values_list = [('a', 1), ('b', 2), ('c', 3), ('d', 4)]\n",
    "# Initialize an empty dictionary\n",
    "flat_dict = {}\n",
    "# Iterate through the list and add key-value pairs to the dictionary\n",
    "for key, value in key_values_list:\n",
    " flat_dict[key] = value\n",
    "# Print the resulting flat dictionary\n",
    "print(\"Flat Dictionary:\", flat_dict)"
   ]
  },
  {
   "cell_type": "markdown",
   "metadata": {},
   "source": [
    "#### Write a program which takes 2 digits, X,Y as input and generates a 2-dimensional\n",
    "array. The element value in the i-th row and j-th column of the array should be i*j.\n",
    "\n",
    "Note: i=0,1.., X-1; j=0,1,¡Y-1.\n",
    "\n",
    "Example\n",
    "\n",
    "Suppose the following inputs are given to the program:\n",
    "\n",
    "3,5\n",
    "\n",
    "Then, the output of the program should be:\n",
    "\n",
    "[[0, 0, 0, 0, 0], [0, 1, 2, 3, 4], [0, 2, 4, 6, 8]]\n",
    "\n",
    "\n",
    "#### Note taking input using map() function\n",
    "\n",
    "##### Input two digits, X and Y\n",
    "X, Y = map(int, input(\"Enter two digits (X, Y): \").split(','))\n"
   ]
  },
  {
   "cell_type": "code",
   "execution_count": 31,
   "metadata": {},
   "outputs": [
    {
     "name": "stdout",
     "output_type": "stream",
     "text": [
      "enter the values (rows, col):12,4\n",
      "[[ 0  0  0  0]\n",
      " [ 0  1  2  3]\n",
      " [ 0  2  4  6]\n",
      " [ 0  3  6  9]\n",
      " [ 0  4  8 12]\n",
      " [ 0  5 10 15]\n",
      " [ 0  6 12 18]\n",
      " [ 0  7 14 21]\n",
      " [ 0  8 16 24]\n",
      " [ 0  9 18 27]\n",
      " [ 0 10 20 30]\n",
      " [ 0 11 22 33]]\n"
     ]
    }
   ],
   "source": [
    "import numpy as np\n",
    "\n",
    "def array(x, y, arr):\n",
    "    for i in range(0, x):\n",
    "        for j in range(0, y):\n",
    "            arr[i][j]=i*j\n",
    "    return arr\n",
    "    \n",
    "\n",
    "x, y=[int(x) for x in input(\"enter the values (rows, col):\").split(',')]\n",
    "\n",
    "arr=np.zeros([x,y], dtype=int)\n",
    "\n",
    "res=array(x, y, arr)\n",
    "print(res)"
   ]
  },
  {
   "cell_type": "code",
   "execution_count": 32,
   "metadata": {},
   "outputs": [
    {
     "name": "stdout",
     "output_type": "stream",
     "text": [
      "enter the values (rows, col):4, 3\n",
      "[[0 0 0]\n",
      " [0 1 2]\n",
      " [0 2 4]\n",
      " [0 3 6]]\n"
     ]
    }
   ],
   "source": [
    "## we can initialize empty array also   np.empty([m, n], dtype=int)\n",
    "import numpy as np\n",
    "\n",
    "def array(x, y, arr):\n",
    "    for i in range(0, x):\n",
    "        for j in range(0, y):\n",
    "            arr[i][j]=i*j\n",
    "    return arr\n",
    "    \n",
    "\n",
    "x, y=[int(x) for x in input(\"enter the values (rows, col):\").split(',')]\n",
    "\n",
    "arr=np.empty([x,y], dtype=int)\n",
    "\n",
    "res=array(x, y, arr)\n",
    "print(res)"
   ]
  },
  {
   "cell_type": "markdown",
   "metadata": {},
   "source": [
    "### very imoprtant (must seee)\n",
    "\n",
    "#### Write a program that accepts a comma separated sequence of words as input and\n",
    "prints the words in a comma-separated sequence after sorting them alphabetically.\n",
    "\n",
    "Suppose the following input is supplied to the program:\n",
    "\n",
    "without,hello,bag,world\n",
    "\n",
    "Then, the output should be:\n",
    "\n",
    "bag,hello,without,world"
   ]
  },
  {
   "cell_type": "code",
   "execution_count": 32,
   "metadata": {},
   "outputs": [
    {
     "name": "stdout",
     "output_type": "stream",
     "text": [
      "without,hello,bag,world\n",
      "bag,hello,without,world\n",
      "\n",
      "\n"
     ]
    },
    {
     "data": {
      "text/plain": [
       "'bag,hello,without,world'"
      ]
     },
     "execution_count": 32,
     "metadata": {},
     "output_type": "execute_result"
    }
   ],
   "source": [
    "## method -01\n",
    "words=[x for x in input().split(',')]\n",
    "sort_w=sorted(words)\n",
    "result=','.join(sort_w)\n",
    "print(result)\n",
    "print(\"\\n\")\n",
    "\n",
    "result"
   ]
  },
  {
   "cell_type": "code",
   "execution_count": 25,
   "metadata": {},
   "outputs": [
    {
     "name": "stdout",
     "output_type": "stream",
     "text": [
      "Enter a comma-separated sequence of words: hii, thid, is \n",
      "Sorted words:  is , thid,hii\n"
     ]
    }
   ],
   "source": [
    "## method -02\n",
    "\n",
    "# Accept input from the user\n",
    "input_sequence = input(\"Enter a comma-separated sequence of words: \")\n",
    "# Split the input into a list of words\n",
    "words = input_sequence.split(',')\n",
    "# Sort the words alphabetically\n",
    "sorted_words = sorted(words)\n",
    "# Join the sorted words into a comma-separated sequence\n",
    "sorted_sequence = ','.join(sorted_words)\n",
    "# Print the sorted sequence\n",
    "print(\"Sorted words:\", sorted_sequence)\n"
   ]
  },
  {
   "cell_type": "code",
   "execution_count": null,
   "metadata": {},
   "outputs": [],
   "source": []
  },
  {
   "cell_type": "markdown",
   "metadata": {},
   "source": [
    "#### Write a program that accepts a sequence of whitespace separated words as input\n",
    "\n",
    "and prints the words after removing all duplicate words and sorting them\n",
    "alphanumerically.\n",
    "\n",
    "Suppose the following input is supplied to the program:\n",
    "\n",
    "hello world and practice makes perfect and hello world again\n",
    "\n",
    "Then, the output should be:\n",
    "\n",
    "again and hello makes perfect practice world"
   ]
  },
  {
   "cell_type": "code",
   "execution_count": 29,
   "metadata": {},
   "outputs": [
    {
     "name": "stdout",
     "output_type": "stream",
     "text": [
      "enter the wrods by whitespacehello world and practice makes perfect and hello world again\n",
      "again and hello makes perfect practice world\n"
     ]
    }
   ],
   "source": [
    "input_word=input(\"enter the wrods by whitespace\")\n",
    "words=input_word.split(' ')\n",
    "\n",
    "words=set(words)\n",
    "words=sorted(words)\n",
    "words=' '.join(words)\n",
    "print(words)\n"
   ]
  },
  {
   "cell_type": "markdown",
   "metadata": {},
   "source": [
    "#### Write a program that accepts a sentence and calculate the number of letters and\n",
    "digits. Suppose the following input is supplied to the program:\n",
    "\n",
    "hello world! 123\n",
    "\n",
    "Then, the output should be:\n",
    "\n",
    "LETTERS 10\n",
    "\n",
    "DIGITS 3\n"
   ]
  },
  {
   "cell_type": "code",
   "execution_count": 34,
   "metadata": {},
   "outputs": [
    {
     "name": "stdout",
     "output_type": "stream",
     "text": [
      "Enter a sentence: gii gaj hii* 90 by8\n",
      "LETTERS 11\n",
      "DIGITS 3\n"
     ]
    }
   ],
   "source": [
    "# Accept input from the user\n",
    "sentence = input(\"Enter a sentence: \")\n",
    "# Initialize counters for letters and digits\n",
    "letter_count = 0\n",
    "digit_count = 0\n",
    "# Iterate through each character in the sentence\n",
    "for char in sentence:\n",
    "    if char.isalpha():\n",
    "        letter_count += 1\n",
    "    elif char.isdigit():\n",
    "        digit_count += 1\n",
    "# Print the results\n",
    "print(\"LETTERS\", letter_count)\n",
    "print(\"DIGITS\", digit_count)\n"
   ]
  },
  {
   "cell_type": "markdown",
   "metadata": {},
   "source": [
    "### Note : very imp concept\n",
    " If you want to input values for \"name\" and \"roll number\" in multiple rounds and store them in the dictionary, you can use a loop to iteratively take user input and update the dictionary. Here's an example:\n",
    "\n"
   ]
  },
  {
   "cell_type": "code",
   "execution_count": 39,
   "metadata": {},
   "outputs": [
    {
     "name": "stdout",
     "output_type": "stream",
     "text": [
      "Enter name: shrawan\n",
      "Enter roll number: 1201\n",
      "Enter name: sandeep\n",
      "Enter roll number: 1202\n",
      "\n",
      "\n",
      "{'name': ['shrawan', 'sandeep'], 'roll number': ['1201', '1202']}\n"
     ]
    }
   ],
   "source": [
    "# Create an empty dictionary\n",
    "my_dict = {}\n",
    "\n",
    "# List of keys\n",
    "keys = [\"name\", \"roll number\"]\n",
    "\n",
    "# Input values in multiple rounds\n",
    "for _ in range(2):  # Assuming two rounds, you can adjust as needed\n",
    "    # Input values for each key\n",
    "    for key in keys:\n",
    "        value = input(f\"Enter {key}: \")\n",
    "        # Store the value in the dictionary\n",
    "        my_dict.setdefault(key, []).append(value)\n",
    "\n",
    "# Print the resulting dictionary\n",
    "print(\"\\n\")\n",
    "print(my_dict)\n"
   ]
  },
  {
   "cell_type": "code",
   "execution_count": 40,
   "metadata": {},
   "outputs": [
    {
     "name": "stdout",
     "output_type": "stream",
     "text": [
      "Enter a sentence: hi dueb 899 kfjo090)() %^^ (, fjubf\n",
      "LETTERS: 15\n",
      "DIGITS: 6\n",
      "SPECIAL CHARACTERS: 8\n",
      "PUNCTUATION: 1\n",
      "Result Dictionary: {'Letters': ['h', 'i', 'd', 'u', 'e', 'b', 'k', 'f', 'j', 'o', 'f', 'j', 'u', 'b', 'f'], 'Digits': ['8', '9', '9', '0', '9', '0'], 'Special Characters': [')', '(', ')', '%', '^', '^', '(', ','], 'Punctuation': [',']}\n"
     ]
    }
   ],
   "source": [
    "# Accept input from the user\n",
    "sentence = input(\"Enter a sentence: \")\n",
    "\n",
    "# Initialize counters for letters, digits, special characters, and punctuation\n",
    "letter_count = 0\n",
    "digit_count = 0\n",
    "special_char_count = 0\n",
    "punctuation_count = 0\n",
    "\n",
    "# Initialize a dictionary to store counts\n",
    "result = {}\n",
    "\n",
    "# Iterate through each character in the sentence\n",
    "for char in sentence:\n",
    "    if char.isalpha():\n",
    "        result.setdefault('Letters', []).append(char)\n",
    "        letter_count += 1\n",
    "    elif char.isdigit():\n",
    "        result.setdefault('Digits', []).append(char)\n",
    "        digit_count += 1\n",
    "    elif char.isspace():\n",
    "        # Skip counting spaces, you may adjust this based on your requirements\n",
    "        pass\n",
    "    elif char.isalnum():\n",
    "        # If the character is alphanumeric, it's not a special character or punctuation\n",
    "        pass\n",
    "    else:\n",
    "        # Check if the character is a special character or punctuation\n",
    "        result.setdefault('Special Characters', []).append(char)\n",
    "        special_char_count += 1\n",
    "        if char in \",.!?;:\":\n",
    "            # If you have specific punctuation characters to check, add them here\n",
    "            result.setdefault('Punctuation', []).append(char)\n",
    "            punctuation_count += 1\n",
    "\n",
    "# Print the results\n",
    "print(\"LETTERS:\", letter_count)\n",
    "print(\"DIGITS:\", digit_count)\n",
    "print(\"SPECIAL CHARACTERS:\", special_char_count)\n",
    "print(\"PUNCTUATION:\", punctuation_count)\n",
    "print(\"Result Dictionary:\", result)\n"
   ]
  },
  {
   "cell_type": "markdown",
   "metadata": {},
   "source": [
    "#### A website requires the users to input username and password to register. Write a program to check the validity of password input by users. Following are the criteria\n",
    "for checking the password:\n",
    "\n",
    "1. At least 1 letter between [a-z]\n",
    "\n",
    "2. At least 1 number between [0-9]\n",
    "\n",
    "1. At least 1 letter between [A-Z]\n",
    "\n",
    "3. At least 1 character from [$#@]\n",
    "\n",
    "4. Minimum length of transaction password: 6\n",
    "\n",
    "5. Maximum length of transaction password: 12\n",
    "\n",
    "Your program should accept a sequence of comma separated passwords and will\n",
    "check them according to the above criteria. Passwords that match the criteria are to\n",
    "be printed, each separated by a comma.\n",
    "\n",
    "Example\n",
    "If the following passwords are given as input to the program:\n",
    "\n",
    "ABd1234@1,a F1#,2w3E*,2We3345\n",
    "\n",
    "Then, the output of the program should be:\n",
    "\n",
    "ABd1234@1"
   ]
  },
  {
   "cell_type": "code",
   "execution_count": 41,
   "metadata": {},
   "outputs": [
    {
     "name": "stdout",
     "output_type": "stream",
     "text": [
      "Enter passwords separated by commas: ABd1234@1,a F1#,2w3E*,2We3345\n",
      "ABd1234@1\n"
     ]
    }
   ],
   "source": [
    "import re\n",
    "# Function to check if a password is valid\n",
    "def is_valid_password(password):\n",
    "    # Check the length of the password\n",
    "    if 6 <= len(password) <= 12:\n",
    "        # Check if the password matches all the criteria using regular \n",
    "        if re.match(r\"^(?=.*[a-z])(?=.*[A-Z])(?=.*[0-9])(?=.*[$#@])\", password):\n",
    "            return True\n",
    "    return False\n",
    "# Accept input from the user as comma-separated passwords\n",
    "passwords = input(\"Enter passwords separated by commas: \").split(',')\n",
    "# Initialize a list to store valid passwords\n",
    "valid_passwords = []\n",
    "# Iterate through the passwords and check their validity\n",
    "for psw in passwords:\n",
    "    if is_valid_password(psw):\n",
    "        valid_passwords.append(psw)\n",
    "# Print the valid passwords separated by commas\n",
    "print(','.join(valid_passwords))"
   ]
  },
  {
   "cell_type": "markdown",
   "metadata": {},
   "source": [
    "#### Define a class with a generator which can iterate the numbers, which are divisible by 7, between a given range 0 and n.\n"
   ]
  },
  {
   "cell_type": "code",
   "execution_count": 4,
   "metadata": {},
   "outputs": [],
   "source": [
    "class DivSeven:\n",
    "    def __init__(self, n):\n",
    "        self.n=n\n",
    "    def func(self):\n",
    "        for i in range(1, self.n):\n",
    "            if i%7==0:\n",
    "                yield i\n",
    "    "
   ]
  },
  {
   "cell_type": "code",
   "execution_count": 5,
   "metadata": {},
   "outputs": [
    {
     "name": "stdout",
     "output_type": "stream",
     "text": [
      "enter the value:100\n",
      "7\n",
      "14\n",
      "21\n",
      "28\n",
      "35\n",
      "42\n",
      "49\n",
      "56\n",
      "63\n",
      "70\n",
      "77\n",
      "84\n",
      "91\n",
      "98\n"
     ]
    }
   ],
   "source": [
    "n=int(input(\"enter the value:\"))\n",
    "obj=DivSeven(n)\n",
    "num=obj.func()\n",
    "for n in num:\n",
    "    print(n)"
   ]
  },
  {
   "cell_type": "markdown",
   "metadata": {},
   "source": [
    "#### Write a program to compute the frequency of the words from the input. The output\n",
    "should output after sorting the key alphanumerically. Suppose the following input is\n",
    "supplied to the program:\n",
    "\n",
    "New to Python or choosing between Python 2 and Python 3? Read Python 2 or\n",
    "Python 3.\n",
    "\n",
    "Then, the output should be:\n",
    "\n",
    "2:2\n",
    "\n",
    "3.:1\n",
    "\n",
    "3?:1\n",
    "\n",
    "New:1\n",
    "\n",
    "Python:5\n",
    "\n",
    "Read:1\n",
    "\n",
    "and:1\n",
    "\n",
    "between:1\n",
    "\n",
    "choosing:1\n",
    "\n",
    "or:2\n",
    "\n",
    "to:1"
   ]
  },
  {
   "cell_type": "code",
   "execution_count": 15,
   "metadata": {},
   "outputs": [
    {
     "data": {
      "text/plain": [
       "'shrawan'"
      ]
     },
     "execution_count": 15,
     "metadata": {},
     "output_type": "execute_result"
    }
   ],
   "source": [
    "x=\"shrawan&)\"\n",
    "y=x.strip('&)')\n",
    "y"
   ]
  },
  {
   "cell_type": "code",
   "execution_count": 18,
   "metadata": {},
   "outputs": [
    {
     "name": "stdout",
     "output_type": "stream",
     "text": [
      "Enter a sentence: New to Python or choosing between Python 2 and Python 3? Read Python 2 or Python 3.\n",
      "2:2\n",
      "3.:1\n",
      "3?:1\n",
      "and:1\n",
      "between:1\n",
      "choosing:1\n",
      "new:1\n",
      "or:2\n",
      "python:5\n",
      "read:1\n",
      "to:1\n"
     ]
    }
   ],
   "source": [
    "input_sentence = input(\"Enter a sentence: \")\n",
    "# Split the sentence into words\n",
    "words = input_sentence.split()\n",
    "# Create a dictionary to store word frequencies\n",
    "word_freq = {}\n",
    "# Count word frequencies\n",
    "for word in words:\n",
    "    # Remove punctuation (., ?) from the word\n",
    "#     word = word.strip('.,?')                                   ## removes punc fro end of the string words\n",
    " # Convert the word to lowercase to ensure case-insensitive counting\n",
    "    word = word.lower()\n",
    "     # Update the word frequency in the dictionary\n",
    "    if word in word_freq:\n",
    "        word_freq[word] += 1\n",
    "    else:\n",
    "        word_freq[word] = 1\n",
    "# Sort the words alphanumerically\n",
    "sorted_words = sorted(word_freq.items())\n",
    "# Print the word frequencies\n",
    "for word, frequency in sorted_words:\n",
    "    print(f\"{word}:{frequency}\")\n"
   ]
  },
  {
   "cell_type": "markdown",
   "metadata": {},
   "source": [
    "#### Define a class Person and its two child classes: Male and Female. All classes have a method \"getGender\" which can print \"Male\" for Male class and \"Female\" for Female class.\n"
   ]
  },
  {
   "cell_type": "code",
   "execution_count": 26,
   "metadata": {},
   "outputs": [
    {
     "name": "stdout",
     "output_type": "stream",
     "text": [
      "this Male\n",
      "None\n",
      "This is Female\n",
      "None\n"
     ]
    }
   ],
   "source": [
    "class Person:\n",
    "    def __init__(self):\n",
    "        pass\n",
    "class Male(Person):\n",
    "    def getGender(self):\n",
    "        print(\"this Male\")\n",
    "class Female(Person):\n",
    "    def getGender(self):\n",
    "        print(\"This is Female\")\n",
    "        \n",
    "objM=Male()\n",
    "objF=Female()\n",
    "\n",
    "print(objM.getGender())\n",
    "print(objF.getGender())\n",
    "        "
   ]
  },
  {
   "cell_type": "code",
   "execution_count": 27,
   "metadata": {},
   "outputs": [
    {
     "name": "stdout",
     "output_type": "stream",
     "text": [
      "Unknown\n",
      "Male\n",
      "Female\n"
     ]
    }
   ],
   "source": [
    "## or \n",
    "class Person:\n",
    "    def getGender(self):\n",
    "        return \"Unknown\"\n",
    "class Male(Person):\n",
    "    def getGender(self):\n",
    "        return \"Male\"\n",
    "class Female(Person):\n",
    "    def getGender(self):\n",
    "        return \"Female\"\n",
    "    \n",
    "person = Person()\n",
    "male = Male()\n",
    "female = Female()\n",
    "print(person.getGender()) \n",
    "print(male.getGender()) \n",
    "print(female.getGender()) \n"
   ]
  },
  {
   "cell_type": "markdown",
   "metadata": {},
   "source": [
    "#### Please write a binary search function which searches an item in a sorted list. The\n",
    "function should return the index of element to be searched in the list.\n",
    "\n",
    "##### when list is not sorted"
   ]
  },
  {
   "cell_type": "code",
   "execution_count": 28,
   "metadata": {},
   "outputs": [
    {
     "name": "stdout",
     "output_type": "stream",
     "text": [
      "5\n"
     ]
    }
   ],
   "source": [
    "def func(ls, k):\n",
    "    for i in range(0, len(ls)):\n",
    "        if ls[i]==k:\n",
    "            return i\n",
    "        else:\n",
    "            continue\n",
    "\n",
    "ls=[12, 5, 6, 45, 6, 89, 65]\n",
    "print(func(ls, 89))\n",
    "    "
   ]
  },
  {
   "cell_type": "markdown",
   "metadata": {},
   "source": [
    "##### Using binary search algo *(when we have sorted list and its T.C. O(logn)"
   ]
  },
  {
   "cell_type": "code",
   "execution_count": 29,
   "metadata": {},
   "outputs": [
    {
     "name": "stdout",
     "output_type": "stream",
     "text": [
      "Element 4 found at index 3\n"
     ]
    }
   ],
   "source": [
    "def binary_search(arr, target):\n",
    "    left, right = 0, len(arr) - 1\n",
    "    while left <= right:\n",
    "        mid = (left + right) // 2\n",
    "        if arr[mid] == target:\n",
    "            return mid # Element found, return its index\n",
    "        elif arr[mid] < target:\n",
    "            left = mid + 1 # Target is in the right half\n",
    "        else:\n",
    "             right = mid - 1 # Target is in the left half\n",
    "    return -1 # Element not found in the list\n",
    "# Example usage:\n",
    "sorted_list = [1, 2, 3, 4, 5, 6, 7, 8, 9]\n",
    "target_element = 4\n",
    "result = binary_search(sorted_list, target_element)\n",
    "if result != -1:\n",
    " print(f\"Element {target_element} found at index {result}\")\n",
    "else:\n",
    " print(f\"Element {target_element} not found in the list\")"
   ]
  },
  {
   "cell_type": "markdown",
   "metadata": {},
   "source": [
    "### based on generator (must see)\n",
    "\n",
    "#### Please write a program using generator to print the numbers which can be divisible by 5 and 7 between 0 and n in comma separated form while n is input by console.\n",
    "Example:\n",
    "\n",
    "If the following n is given as input to the program:\n",
    "\n",
    "100\n",
    "\n",
    "Then, the output of the program should be:\n",
    "\n",
    "0,35,70"
   ]
  },
  {
   "cell_type": "code",
   "execution_count": 1,
   "metadata": {},
   "outputs": [],
   "source": [
    "def func(n):\n",
    "    for i in range(0, n+1):\n",
    "        if i%7==0 and i%5==0:\n",
    "            yield i\n",
    "        "
   ]
  },
  {
   "cell_type": "code",
   "execution_count": 3,
   "metadata": {
    "scrolled": true
   },
   "outputs": [
    {
     "name": "stdout",
     "output_type": "stream",
     "text": [
      "Enter a value for n: 200\n",
      "0,35,70,105,140,175\n"
     ]
    }
   ],
   "source": [
    "try:\n",
    "    n = int(input(\"Enter a value for n: \"))\n",
    "    result = func(n)\n",
    "    print(','.join(map(str, result)))\n",
    "except ValueError:\n",
    "    print(\"Invalid input. Please enter a valid integer for n.\")"
   ]
  },
  {
   "cell_type": "markdown",
   "metadata": {},
   "source": [
    "#### Please write a program using generator to print the even numbers between 0 and n in\n",
    "comma separated form while n is input by console.\n"
   ]
  },
  {
   "cell_type": "code",
   "execution_count": 4,
   "metadata": {},
   "outputs": [
    {
     "name": "stdout",
     "output_type": "stream",
     "text": [
      "Enter a value for n: 20\n",
      "0,2,4,6,8,10,12,14,16,18,20\n"
     ]
    }
   ],
   "source": [
    "def func(n):\n",
    "    for i in range(0, n+1):\n",
    "        if i%2==0:\n",
    "            yield i\n",
    "try:\n",
    "    n = int(input(\"Enter a value for n: \"))\n",
    "    result = func(n)\n",
    "    print(','.join(map(str, result)))\n",
    "except ValueError:\n",
    "    print(\"Invalid input. Please enter a valid integer for n.\")"
   ]
  },
  {
   "cell_type": "markdown",
   "metadata": {},
   "source": [
    "#### Assuming that we have some email addresses in the\n",
    "\n",
    "\"username@companyname.com (mailto:username@companyname.com)\" format,\n",
    "\n",
    "please write program to print the user name of a given email address. Both user\n",
    "names and company names are composed of letters only.\n",
    "\n",
    "Example:\n",
    "\n",
    "If the following email address is given as input to the program:\n",
    "\n",
    "john@google.com (mailto:john@google.com)\n",
    "\n",
    "Then, the output of the program should be:\n",
    "\n",
    "john\n"
   ]
  },
  {
   "cell_type": "code",
   "execution_count": 6,
   "metadata": {},
   "outputs": [],
   "source": [
    "def extract_username(email):\n",
    "    # Split the email address at '@' to separate the username and domai\n",
    "    parts = email.split('@')\n",
    " \n",
    " # Check if the email address has the expected format\n",
    "    if len(parts) == 2:\n",
    "        return parts[0] # The username is the first part\n",
    "    else:\n",
    "        return \"Invalid email format\""
   ]
  },
  {
   "cell_type": "code",
   "execution_count": 8,
   "metadata": {},
   "outputs": [
    {
     "name": "stdout",
     "output_type": "stream",
     "text": [
      "Enter an email address: rahulzaware2018@gmail.com\n",
      "rahulzaware2018\n"
     ]
    }
   ],
   "source": [
    "try:\n",
    " email = input(\"Enter an email address: \")\n",
    " username = extract_username(email)\n",
    " print(username)\n",
    "except ValueError:\n",
    " print(\"Invalid input. Please enter a valid email address.\")\n"
   ]
  },
  {
   "cell_type": "markdown",
   "metadata": {},
   "source": [
    "#### Define a class named Shape and its subclass Square. The Square class has an init function which takes a length as argument. Both classes have an area function which can print the area of the shape where Shape's area is 0 by default."
   ]
  },
  {
   "cell_type": "code",
   "execution_count": 9,
   "metadata": {},
   "outputs": [],
   "source": [
    "class Shape:\n",
    "    def __init__(self):\n",
    "        pass # Default constructor, no need to initialize anything\n",
    "    def area(self):\n",
    "        return 0 # Shape's area is 0 by default\n",
    "class Square(Shape):\n",
    "        def __init__(self, length):\n",
    "            super().__init__() # Call the constructor of the parent class\n",
    "            self.length = length\n",
    "        def area(self):\n",
    "            return self.length ** 2 # Calculate the area of the square"
   ]
  },
  {
   "cell_type": "code",
   "execution_count": 10,
   "metadata": {},
   "outputs": [
    {
     "name": "stdout",
     "output_type": "stream",
     "text": [
      "Enter the shape of the square: 10\n",
      "Shape's area by default: 0\n",
      "Area of the square: 100.0\n"
     ]
    }
   ],
   "source": [
    "# Create instances of the classes\n",
    "shape = Shape()\n",
    "square = Square(float(input(\"Enter the shape of the square: \")))\n",
    "# Calculate and print the areas\n",
    "print(\"Shape's area by default:\", shape.area()) \n",
    "print(\"Area of the square:\", square.area()) "
   ]
  },
  {
   "cell_type": "code",
   "execution_count": null,
   "metadata": {},
   "outputs": [],
   "source": []
  }
 ],
 "metadata": {
  "kernelspec": {
   "display_name": "Python 3 (ipykernel)",
   "language": "python",
   "name": "python3"
  },
  "language_info": {
   "codemirror_mode": {
    "name": "ipython",
    "version": 3
   },
   "file_extension": ".py",
   "mimetype": "text/x-python",
   "name": "python",
   "nbconvert_exporter": "python",
   "pygments_lexer": "ipython3",
   "version": "3.9.12"
  }
 },
 "nbformat": 4,
 "nbformat_minor": 2
}
