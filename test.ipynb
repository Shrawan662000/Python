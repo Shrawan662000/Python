{
 "cells": [
  {
   "cell_type": "code",
   "execution_count": 1,
   "metadata": {},
   "outputs": [
    {
     "ename": "KeyboardInterrupt",
     "evalue": "",
     "output_type": "error",
     "traceback": [
      "\u001b[1;31m---------------------------------------------------------------------------\u001b[0m",
      "\u001b[1;31mKeyboardInterrupt\u001b[0m                         Traceback (most recent call last)",
      "Cell \u001b[1;32mIn[1], line 52\u001b[0m\n\u001b[0;32m     49\u001b[0m     screen\u001b[38;5;241m.\u001b[39mmainloop()\n\u001b[0;32m     51\u001b[0m \u001b[38;5;66;03m# Call the function to draw the roses\u001b[39;00m\n\u001b[1;32m---> 52\u001b[0m \u001b[43mmain\u001b[49m\u001b[43m(\u001b[49m\u001b[43m)\u001b[49m\n",
      "Cell \u001b[1;32mIn[1], line 49\u001b[0m, in \u001b[0;36mmain\u001b[1;34m()\u001b[0m\n\u001b[0;32m     47\u001b[0m \u001b[38;5;66;03m# Hide the turtle and complete drawing\u001b[39;00m\n\u001b[0;32m     48\u001b[0m t\u001b[38;5;241m.\u001b[39mhideturtle()\n\u001b[1;32m---> 49\u001b[0m \u001b[43mscreen\u001b[49m\u001b[38;5;241;43m.\u001b[39;49m\u001b[43mmainloop\u001b[49m\u001b[43m(\u001b[49m\u001b[43m)\u001b[49m\n",
      "File \u001b[1;32mc:\\Users\\s21\\AppData\\Local\\Programs\\Python\\Python311\\Lib\\turtle.py:812\u001b[0m, in \u001b[0;36mTurtleScreenBase.mainloop\u001b[1;34m(self)\u001b[0m\n\u001b[0;32m    799\u001b[0m \u001b[38;5;28;01mdef\u001b[39;00m \u001b[38;5;21mmainloop\u001b[39m(\u001b[38;5;28mself\u001b[39m):\n\u001b[0;32m    800\u001b[0m \u001b[38;5;250m    \u001b[39m\u001b[38;5;124;03m\"\"\"Starts event loop - calling Tkinter's mainloop function.\u001b[39;00m\n\u001b[0;32m    801\u001b[0m \n\u001b[0;32m    802\u001b[0m \u001b[38;5;124;03m    No argument.\u001b[39;00m\n\u001b[1;32m   (...)\u001b[0m\n\u001b[0;32m    810\u001b[0m \n\u001b[0;32m    811\u001b[0m \u001b[38;5;124;03m    \"\"\"\u001b[39;00m\n\u001b[1;32m--> 812\u001b[0m     \u001b[38;5;28;43mself\u001b[39;49m\u001b[38;5;241;43m.\u001b[39;49m\u001b[43mcv\u001b[49m\u001b[38;5;241;43m.\u001b[39;49m\u001b[43mtk\u001b[49m\u001b[38;5;241;43m.\u001b[39;49m\u001b[43mmainloop\u001b[49m\u001b[43m(\u001b[49m\u001b[43m)\u001b[49m\n",
      "\u001b[1;31mKeyboardInterrupt\u001b[0m: "
     ]
    }
   ],
   "source": [
    "import turtle\n",
    "import math\n",
    "\n",
    "def draw_petal(t, radius, angle):\n",
    "    t.color(\"red\")\n",
    "    t.begin_fill()\n",
    "    t.circle(radius, angle)\n",
    "    t.left(180 - angle)\n",
    "    t.circle(radius, angle)\n",
    "    t.left(180 - angle)\n",
    "    t.end_fill()\n",
    "\n",
    "def draw_rose(t, radius, petal_count):\n",
    "    for _ in range(petal_count):\n",
    "        draw_petal(t, radius, 60)\n",
    "        t.left(360 / petal_count)\n",
    "\n",
    "def draw_rose3d(t, center_x, center_y, size):\n",
    "    t.penup()\n",
    "    t.goto(center_x, center_y)\n",
    "    t.pendown()\n",
    "    t.setheading(0)\n",
    "    draw_rose(t, size, 6)\n",
    "\n",
    "def main():\n",
    "    # Set up the screen\n",
    "    screen = turtle.Screen()\n",
    "    screen.bgcolor(\"white\")\n",
    "\n",
    "    # Create a turtle to draw\n",
    "    t = turtle.Turtle()\n",
    "    t.speed(2)\n",
    "\n",
    "    # Draw three 3D-like roses\n",
    "    t.color(\"red\")\n",
    "    t.width(2)\n",
    "\n",
    "    # Draw the first rose\n",
    "    draw_rose3d(t, -150, 0, 50)\n",
    "    \n",
    "    # Draw the second rose\n",
    "    draw_rose3d(t, 0, 0, 50)\n",
    "    \n",
    "    # Draw the third rose\n",
    "    draw_rose3d(t, 150, 0, 50)\n",
    "\n",
    "    # Hide the turtle and complete drawing\n",
    "    t.hideturtle()\n",
    "    screen.mainloop()\n",
    "\n",
    "# Call the function to draw the roses\n",
    "main()\n"
   ]
  }
 ],
 "metadata": {
  "kernelspec": {
   "display_name": "Python 3",
   "language": "python",
   "name": "python3"
  },
  "language_info": {
   "codemirror_mode": {
    "name": "ipython",
    "version": 3
   },
   "file_extension": ".py",
   "mimetype": "text/x-python",
   "name": "python",
   "nbconvert_exporter": "python",
   "pygments_lexer": "ipython3",
   "version": "3.11.5"
  }
 },
 "nbformat": 4,
 "nbformat_minor": 2
}
